{
 "cells": [
  {
   "cell_type": "markdown",
   "metadata": {},
   "source": [
    "This notebook is for removing duplicates from the county and series tables"
   ]
  },
  {
   "cell_type": "code",
   "execution_count": 1,
   "metadata": {},
   "outputs": [],
   "source": [
    "import pandas as pd\n",
    "import numpy as np\n",
    "import time\n",
    "import requests\n",
    "import json"
   ]
  },
  {
   "cell_type": "code",
   "execution_count": 2,
   "metadata": {},
   "outputs": [
    {
     "name": "stdout",
     "output_type": "stream",
     "text": [
      "(3240, 3)\n",
      "   county_id                name  state_id\n",
      "0      27336  Autauga County, AL     27335\n",
      "1      27337  Baldwin County, AL     27335\n",
      "2      27338  Barbour County, AL     27335\n",
      "3      27339     Bibb County, AL     27335\n",
      "4      27340   Blount County, AL     27335\n",
      "(314211, 8)\n",
      "  frequency               id observation_end observation_start  \\\n",
      "0    Annual  2020RATIO001001      2018-01-01        2010-01-01   \n",
      "1   Monthly    ACTLISCOU1001      2020-03-01        2016-07-01   \n",
      "2   Monthly  ACTLISCOUMM1001      2020-03-01        2017-07-01   \n",
      "3   Monthly  ACTLISCOUYY1001      2020-03-01        2017-07-01   \n",
      "4   Monthly       ALAUTA1LFN      2020-02-01        1990-01-01   \n",
      "\n",
      "       seasonal_adjustment                                              title  \\\n",
      "0  Not Seasonally Adjusted                                  Income Inequality   \n",
      "1  Not Seasonally Adjusted            Housing Inventory: Active Listing Count   \n",
      "2  Not Seasonally Adjusted  Housing Inventory: Active Listing Count Month-...   \n",
      "3  Not Seasonally Adjusted  Housing Inventory: Active Listing Count Year-O...   \n",
      "4  Not Seasonally Adjusted                               Civilian Labor Force   \n",
      "\n",
      "     units  county_id  \n",
      "0    Ratio      27336  \n",
      "1    Level      27336  \n",
      "2  Percent      27336  \n",
      "3  Percent      27336  \n",
      "4  Persons      27336  \n"
     ]
    }
   ],
   "source": [
    "df_county_table = pd.read_csv('county_table.csv')\n",
    "print(df_county_table.shape)\n",
    "print(df_county_table.head())\n",
    "\n",
    "df_series_table = pd.read_csv('series_table_all.csv')\n",
    "print(df_series_table.shape)\n",
    "print(df_series_table.head())"
   ]
  },
  {
   "cell_type": "code",
   "execution_count": 4,
   "metadata": {},
   "outputs": [
    {
     "name": "stdout",
     "output_type": "stream",
     "text": [
      "(3176, 3)\n"
     ]
    }
   ],
   "source": [
    "df_county_table_dedup = df_county_table.drop_duplicates()\n",
    "print(df_county_table_dedup.shape)\n",
    "df_county_table_dedup.to_csv('county_table_dedup.csv', index=False)"
   ]
  },
  {
   "cell_type": "code",
   "execution_count": 6,
   "metadata": {},
   "outputs": [
    {
     "name": "stdout",
     "output_type": "stream",
     "text": [
      "(307833, 8)\n"
     ]
    }
   ],
   "source": [
    "df_series_table_dedup = df_series_table.drop_duplicates()\n",
    "print(df_series_table_dedup.shape)\n",
    "df_series_table_dedup.to_csv('series_table_dedup.csv', index=False)"
   ]
  }
 ],
 "metadata": {
  "kernelspec": {
   "display_name": "Python 3",
   "language": "python",
   "name": "python3"
  },
  "language_info": {
   "codemirror_mode": {
    "name": "ipython",
    "version": 3
   },
   "file_extension": ".py",
   "mimetype": "text/x-python",
   "name": "python",
   "nbconvert_exporter": "python",
   "pygments_lexer": "ipython3",
   "version": "3.8.1"
  }
 },
 "nbformat": 4,
 "nbformat_minor": 4
}
