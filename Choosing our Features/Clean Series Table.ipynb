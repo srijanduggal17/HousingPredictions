{
 "cells": [
  {
   "cell_type": "markdown",
   "metadata": {},
   "source": [
    "### Clean Series Table\n",
    "The purpose of this notebook is to take the series table and clean up the data, primarily doing the following:\n",
    "- Make sure there are series for each county\n",
    "- Remove county from column titles\n",
    "- Unduplicate features\n",
    "- Count number of counties for each feature and aggregate"
   ]
  },
  {
   "cell_type": "code",
   "execution_count": 1,
   "metadata": {},
   "outputs": [],
   "source": [
    "import pandas as pd\n",
    "import numpy as np\n",
    "import time\n",
    "import requests\n",
    "import json\n",
    "\n",
    "def get_series_name(county_name, series_title):\n",
    "    ndx = series_title.find(county_name)\n",
    "    return series_title[:ndx]"
   ]
  },
  {
   "cell_type": "code",
   "execution_count": 2,
   "metadata": {},
   "outputs": [
    {
     "name": "stdout",
     "output_type": "stream",
     "text": [
      "(3176, 3)\n",
      "   county_id                name  state_id\n",
      "0      27336  Autauga County, AL     27335\n",
      "1      27337  Baldwin County, AL     27335\n",
      "2      27338  Barbour County, AL     27335\n",
      "3      27339     Bibb County, AL     27335\n",
      "4      27340   Blount County, AL     27335\n",
      "(307833, 8)\n",
      "  frequency               id observation_end observation_start  \\\n",
      "0    Annual  2020RATIO001001      2018-01-01        2010-01-01   \n",
      "1   Monthly    ACTLISCOU1001      2020-03-01        2016-07-01   \n",
      "2   Monthly  ACTLISCOUMM1001      2020-03-01        2017-07-01   \n",
      "3   Monthly  ACTLISCOUYY1001      2020-03-01        2017-07-01   \n",
      "4   Monthly       ALAUTA1LFN      2020-02-01        1990-01-01   \n",
      "\n",
      "       seasonal_adjustment                                              title  \\\n",
      "0  Not Seasonally Adjusted                                  Income Inequality   \n",
      "1  Not Seasonally Adjusted            Housing Inventory: Active Listing Count   \n",
      "2  Not Seasonally Adjusted  Housing Inventory: Active Listing Count Month-...   \n",
      "3  Not Seasonally Adjusted  Housing Inventory: Active Listing Count Year-O...   \n",
      "4  Not Seasonally Adjusted                               Civilian Labor Force   \n",
      "\n",
      "     units  county_id  \n",
      "0    Ratio      27336  \n",
      "1    Level      27336  \n",
      "2  Percent      27336  \n",
      "3  Percent      27336  \n",
      "4  Persons      27336  \n"
     ]
    }
   ],
   "source": [
    "df_county_table = pd.read_csv('county_table_dedup.csv')\n",
    "print(df_county_table.shape)\n",
    "print(df_county_table.head())\n",
    "\n",
    "df_series_table = pd.read_csv('series_table_dedup.csv')\n",
    "print(df_series_table.shape)\n",
    "print(df_series_table.head())"
   ]
  },
  {
   "cell_type": "code",
   "execution_count": 3,
   "metadata": {},
   "outputs": [
    {
     "name": "stdout",
     "output_type": "stream",
     "text": [
      "3176\n",
      "3176\n"
     ]
    }
   ],
   "source": [
    "# Make sure there are series for each county\n",
    "all_counties = df_county_table.county_id.unique()\n",
    "unique_counties = df_series_table.county_id.unique()\n",
    "print(len(unique_counties))\n",
    "print(len(all_counties))"
   ]
  },
  {
   "cell_type": "code",
   "execution_count": 4,
   "metadata": {},
   "outputs": [
    {
     "name": "stdout",
     "output_type": "stream",
     "text": [
      "91215\n"
     ]
    }
   ],
   "source": [
    "# Get number of unique features in series table\n",
    "unique_features = df_series_table.title.unique()\n",
    "print(len(unique_features))"
   ]
  },
  {
   "cell_type": "markdown",
   "metadata": {},
   "source": [
    "91215 seems really high"
   ]
  },
  {
   "cell_type": "code",
   "execution_count": 5,
   "metadata": {},
   "outputs": [
    {
     "name": "stdout",
     "output_type": "stream",
     "text": [
      "['Income Inequality' 'Housing Inventory: Active Listing Count'\n",
      " 'Housing Inventory: Active Listing Count Month-Over-Month' ...\n",
      " 'Poverty Universe, Age 5-17 related for Winn Parish, L'\n",
      " 'Poverty Universe, All Ages for Winn Parish, L'\n",
      " 'White to Non-White Racial Dissimilarity Index for Winn Parish, L']\n"
     ]
    }
   ],
   "source": [
    "print(unique_features)"
   ]
  },
  {
   "cell_type": "markdown",
   "metadata": {},
   "source": [
    "After looking, it seems like some of them have the words: 'for _ county', so we should remove the county name"
   ]
  },
  {
   "cell_type": "markdown",
   "metadata": {},
   "source": [
    "#### Remove county from column titles"
   ]
  },
  {
   "cell_type": "code",
   "execution_count": 6,
   "metadata": {},
   "outputs": [
    {
     "name": "stdout",
     "output_type": "stream",
     "text": [
      "88299\n"
     ]
    }
   ],
   "source": [
    "features_with_for = [('for' in feat) for feat in unique_features]\n",
    "print(np.sum(features_with_for))"
   ]
  },
  {
   "cell_type": "markdown",
   "metadata": {},
   "source": [
    "So after consolidating the 88299 features that have county names in them, we should be left with ~2900 features"
   ]
  },
  {
   "cell_type": "code",
   "execution_count": 7,
   "metadata": {},
   "outputs": [],
   "source": [
    "def rename_for_features(row):\n",
    "    ndx = row.find(' for ')\n",
    "    if ndx != -1:\n",
    "        return row[:row.find(' for ')]\n",
    "    else: return row"
   ]
  },
  {
   "cell_type": "code",
   "execution_count": 8,
   "metadata": {},
   "outputs": [],
   "source": [
    "df_series_table_decounty = df_series_table.copy(deep=True)\n",
    "df_series_table_decounty['title'] = df_series_table_decounty['title'].apply(rename_for_features)"
   ]
  },
  {
   "cell_type": "code",
   "execution_count": 9,
   "metadata": {},
   "outputs": [
    {
     "name": "stdout",
     "output_type": "stream",
     "text": [
      "3018\n"
     ]
    }
   ],
   "source": [
    "print(len(df_series_table_decounty.title.unique()))"
   ]
  },
  {
   "cell_type": "markdown",
   "metadata": {},
   "source": [
    "Looks like we have reduced many of the duplicates caused by the county names. <br>\n",
    "Let's aggregate the features to see how many counties worth of data we have for each feature"
   ]
  },
  {
   "cell_type": "code",
   "execution_count": 10,
   "metadata": {},
   "outputs": [
    {
     "name": "stdout",
     "output_type": "stream",
     "text": [
      "                                                    county_id\n",
      "title                                                        \n",
      "Unemployment Rate                                        6202\n",
      "Civilian Labor Force                                     6188\n",
      "Unemployed Persons                                       6134\n",
      "Employed Persons                                         6134\n",
      "Estimate of Related Children Age 5-17 in Famili...       3150\n",
      "...                                                       ...\n",
      "Housing Inventory: Pending Ratio in Mclean Coun...          1\n",
      "Housing Inventory: Pending Ratio in Mclennan Co...          1\n",
      "Housing Inventory: Pending Ratio in Mcminn Coun...          1\n",
      "Housing Inventory: Price Increased Count Month-...          1\n",
      "Percent of Population Below the Poverty Level i...          1\n",
      "\n",
      "[3018 rows x 1 columns]\n"
     ]
    }
   ],
   "source": [
    "initial_agg = df_series_table_decounty.groupby('title').count()\n",
    "initial_agg_results = initial_agg.sort_values(by='county_id', axis=0, ascending=False)\n",
    "agg_out = initial_agg_results[['county_id']]\n",
    "print(agg_out)"
   ]
  },
  {
   "cell_type": "markdown",
   "metadata": {},
   "source": [
    "There are only 3176 counties so there cant be 6202 instances of unemployment rate. Something is fishy"
   ]
  },
  {
   "cell_type": "code",
   "execution_count": 11,
   "metadata": {},
   "outputs": [
    {
     "name": "stdout",
     "output_type": "stream",
     "text": [
      "title                                                                             county_id\n",
      "90% Confidence Interval Lower Bound of Estimate of Median Household Income        32078        2\n",
      "90% Confidence Interval Lower Bound of Estimate of People Age 0-17 in Poverty     27423        2\n",
      "                                                                                  32078        2\n",
      "90% Confidence Interval Lower Bound of Estimate of People of All Ages in Poverty  27423        2\n",
      "                                                                                  32078        2\n",
      "                                                                                              ..\n",
      "Unemployment Rate in LaPorte County, I                                            28087        2\n",
      "Unemployment Rate in Lac qui Parle County, M                                      28704        2\n",
      "Unemployment Rate in Lafourche Parish, L                                          28490        2\n",
      "Unemployment Rate in Nantucket County/town, M                                     28578        2\n",
      "Unemployment Rate in the District of Columbi                                      33508        2\n",
      "Length: 12498, dtype: int64\n"
     ]
    }
   ],
   "source": [
    "sec_agg = df_series_table_decounty.groupby(['title','county_id']).size()\n",
    "print(sec_agg[sec_agg > 1])"
   ]
  },
  {
   "cell_type": "markdown",
   "metadata": {},
   "source": [
    "Let's pick one of these titles and see why there are two options"
   ]
  },
  {
   "cell_type": "code",
   "execution_count": 12,
   "metadata": {},
   "outputs": [
    {
     "data": {
      "text/html": [
       "<div>\n",
       "<style scoped>\n",
       "    .dataframe tbody tr th:only-of-type {\n",
       "        vertical-align: middle;\n",
       "    }\n",
       "\n",
       "    .dataframe tbody tr th {\n",
       "        vertical-align: top;\n",
       "    }\n",
       "\n",
       "    .dataframe thead th {\n",
       "        text-align: right;\n",
       "    }\n",
       "</style>\n",
       "<table border=\"1\" class=\"dataframe\">\n",
       "  <thead>\n",
       "    <tr style=\"text-align: right;\">\n",
       "      <th></th>\n",
       "      <th>frequency</th>\n",
       "      <th>id</th>\n",
       "      <th>observation_end</th>\n",
       "      <th>observation_start</th>\n",
       "      <th>seasonal_adjustment</th>\n",
       "      <th>title</th>\n",
       "      <th>units</th>\n",
       "      <th>county_id</th>\n",
       "    </tr>\n",
       "  </thead>\n",
       "  <tbody>\n",
       "    <tr>\n",
       "      <th>71316</th>\n",
       "      <td>Monthly</td>\n",
       "      <td>INLAPO0URN</td>\n",
       "      <td>2020-02-01</td>\n",
       "      <td>1990-01-01</td>\n",
       "      <td>Not Seasonally Adjusted</td>\n",
       "      <td>Unemployment Rate in LaPorte County, I</td>\n",
       "      <td>Percent</td>\n",
       "      <td>28087</td>\n",
       "    </tr>\n",
       "    <tr>\n",
       "      <th>71317</th>\n",
       "      <td>Annual</td>\n",
       "      <td>LAUCN180910000000003A</td>\n",
       "      <td>2018-01-01</td>\n",
       "      <td>1990-01-01</td>\n",
       "      <td>Not Seasonally Adjusted</td>\n",
       "      <td>Unemployment Rate in LaPorte County, I</td>\n",
       "      <td>Percent</td>\n",
       "      <td>28087</td>\n",
       "    </tr>\n",
       "  </tbody>\n",
       "</table>\n",
       "</div>"
      ],
      "text/plain": [
       "      frequency                     id observation_end observation_start  \\\n",
       "71316   Monthly             INLAPO0URN      2020-02-01        1990-01-01   \n",
       "71317    Annual  LAUCN180910000000003A      2018-01-01        1990-01-01   \n",
       "\n",
       "           seasonal_adjustment                                   title  \\\n",
       "71316  Not Seasonally Adjusted  Unemployment Rate in LaPorte County, I   \n",
       "71317  Not Seasonally Adjusted  Unemployment Rate in LaPorte County, I   \n",
       "\n",
       "         units  county_id  \n",
       "71316  Percent      28087  \n",
       "71317  Percent      28087  "
      ]
     },
     "execution_count": 12,
     "metadata": {},
     "output_type": "execute_result"
    }
   ],
   "source": [
    "df_series_table_decounty[df_series_table_decounty.title == 'Unemployment Rate in LaPorte County, I']"
   ]
  },
  {
   "cell_type": "markdown",
   "metadata": {},
   "source": [
    "So there are some features for which there are more than one frequency. We can leave those in for now.\n",
    "Let's check the features that had very few counties"
   ]
  },
  {
   "cell_type": "code",
   "execution_count": 13,
   "metadata": {},
   "outputs": [
    {
     "name": "stdout",
     "output_type": "stream",
     "text": [
      "                                                    county_id\n",
      "title                                                        \n",
      "Net Migration Flow                                          5\n",
      "All Employees: Total Nonfarm                                4\n",
      "Civilian Labor Force in DeKalb County, I                    4\n",
      "Employed Persons in DeKalb County, I                        4\n",
      "Unemployed Persons in DeKalb County, I                      4\n",
      "...                                                       ...\n",
      "Housing Inventory: Pending Ratio in Mclean Coun...          1\n",
      "Housing Inventory: Pending Ratio in Mclennan Co...          1\n",
      "Housing Inventory: Pending Ratio in Mcminn Coun...          1\n",
      "Housing Inventory: Price Increased Count Month-...          1\n",
      "Percent of Population Below the Poverty Level i...          1\n",
      "\n",
      "[2898 rows x 1 columns]\n"
     ]
    }
   ],
   "source": [
    "print(agg_out[agg_out.county_id < 10])"
   ]
  },
  {
   "cell_type": "markdown",
   "metadata": {},
   "source": [
    "Looks like there are still features with the county name in them, minus the last letter (from an error i made earlier when querying the data). Let's get the county ids for those and check them out: [28087, 28704, 28490, 28578]"
   ]
  },
  {
   "cell_type": "code",
   "execution_count": 14,
   "metadata": {},
   "outputs": [
    {
     "name": "stdout",
     "output_type": "stream",
     "text": [
      "     county_id                 name  state_id\n",
      "714      28087  La Porte County, IN     28041\n"
     ]
    }
   ],
   "source": [
    "print(df_county_table[df_county_table.county_id == 28087])"
   ]
  },
  {
   "cell_type": "markdown",
   "metadata": {},
   "source": [
    "Looks like the name in the county table has a space between La and Porte but in the titles it doesnt. Annoying"
   ]
  },
  {
   "cell_type": "code",
   "execution_count": 15,
   "metadata": {},
   "outputs": [],
   "source": [
    "df_county_table.at[714, 'name'] = 'LaPorte County, IN'"
   ]
  },
  {
   "cell_type": "code",
   "execution_count": 16,
   "metadata": {},
   "outputs": [
    {
     "name": "stdout",
     "output_type": "stream",
     "text": [
      "      county_id                      name  state_id\n",
      "1258      28704  Lac Qui Parle County, MN     28667\n",
      "      county_id                  name  state_id\n",
      "3140      28490  LaFourche Parish, LA     28461\n"
     ]
    }
   ],
   "source": [
    "print(df_county_table[df_county_table.county_id == 28704])\n",
    "print(df_county_table[df_county_table.county_id == 28490])"
   ]
  },
  {
   "cell_type": "markdown",
   "metadata": {},
   "source": [
    "Looks like for these two the case is different than in title"
   ]
  },
  {
   "cell_type": "code",
   "execution_count": 17,
   "metadata": {},
   "outputs": [],
   "source": [
    "# Reframe county_table to index on county_id\n",
    "county_index = df_county_table.copy(deep=True)\n",
    "county_index.set_index('county_id', drop=True, inplace=True)\n",
    "\n",
    "# Define function to rename titles\n",
    "def rename_in_features(row):\n",
    "    county_name = county_index.at[row.county_id, 'name']\n",
    "    # Case insensitive matching\n",
    "    lower_county_name = county_name.lower()\n",
    "    lower_title = row.title.lower()\n",
    "    ndx = lower_title.find(lower_county_name[:-1])\n",
    "    if ndx != -1:\n",
    "        return row.title[:ndx]\n",
    "    else:\n",
    "        return row.title"
   ]
  },
  {
   "cell_type": "code",
   "execution_count": 18,
   "metadata": {},
   "outputs": [],
   "source": [
    "df_series_table_decounty.title = df_series_table_decounty.apply(rename_in_features, axis=1)"
   ]
  },
  {
   "cell_type": "code",
   "execution_count": 19,
   "metadata": {},
   "outputs": [
    {
     "name": "stdout",
     "output_type": "stream",
     "text": [
      "1734\n"
     ]
    }
   ],
   "source": [
    "print(len(df_series_table_decounty.title.unique()))"
   ]
  },
  {
   "cell_type": "markdown",
   "metadata": {},
   "source": [
    "Ok now we're down from 3018 unique features to 1734 unique features. Let's aggregate again to check if any other feature titles only appear once"
   ]
  },
  {
   "cell_type": "code",
   "execution_count": 20,
   "metadata": {},
   "outputs": [
    {
     "name": "stdout",
     "output_type": "stream",
     "text": [
      "Index(['All Employees: Administrative and Support and Waste Management and Remediation Services in Baltimore City, M',\n",
      "       'Bachelor's Degree or Higher (5-year estimate) in DeKalb County, A',\n",
      "       'Bachelor's Degree or Higher (5-year estimate) in DeKalb County, G',\n",
      "       'Bachelor's Degree or Higher (5-year estimate) in DeKalb County, M',\n",
      "       'Bachelor's Degree or Higher (5-year estimate) in DeKalb County, T',\n",
      "       'Bachelor's Degree or Higher (5-year estimate) in DeSoto County, F',\n",
      "       'Bachelor's Degree or Higher (5-year estimate) in DeSoto County, M',\n",
      "       'Bachelor's Degree or Higher (5-year estimate) in DeWitt County, T',\n",
      "       'Bachelor's Degree or Higher (5-year estimate) in DuPage County, I',\n",
      "       'Bachelor's Degree or Higher (5-year estimate) in LaMoure County, N',\n",
      "       ...\n",
      "       'Single-parent Households with Children as a Percentage of Households with Children in Wrangell City and Borough, A',\n",
      "       'Unemployment Rate in DeBaca County, N',\n",
      "       'Unemployment Rate in DeSoto County, M',\n",
      "       'Unemployment Rate in Kusilvak Census Area, A',\n",
      "       'Unemployment Rate in LaSalle County, I',\n",
      "       'Unemployment Rate in LaSalle Parish, L',\n",
      "       'Unemployment Rate in Oglala Lakota County, S',\n",
      "       'Unemployment Rate in Petersburg Borough, A',\n",
      "       'Unemployment Rate in Shannon County, SD (DISCONTINUED',\n",
      "       'Unemployment Rate in Wade Hampton Census Area, AK (DISCONTINUED'],\n",
      "      dtype='object', name='title', length=1401)\n"
     ]
    }
   ],
   "source": [
    "third_agg = df_series_table_decounty.groupby('title').count()\n",
    "print(third_agg[third_agg.county_id == 1].index)"
   ]
  },
  {
   "cell_type": "markdown",
   "metadata": {},
   "source": [
    "Lets look for DeKalb, DeSoto, DeWitt, DuPage, and LaMoure Counties"
   ]
  },
  {
   "cell_type": "code",
   "execution_count": 21,
   "metadata": {},
   "outputs": [
    {
     "name": "stdout",
     "output_type": "stream",
     "text": [
      "                            name  state_id\n",
      "county_id                                 \n",
      "27360         De Kalb County, AL     27335\n",
      "758             Desha County, AR     27445\n",
      "27529       Del Norte County, CA     27521\n",
      "27595           Delta County, CO     27580\n",
      "27596          Denver County, CO     27580\n",
      "27673         De Soto County, FL     27659\n",
      "27770         Decatur County, GA     27727\n",
      "27771         De Kalb County, GA     27727\n",
      "27957         De Kalb County, IL     27938\n",
      "27958         De Witt County, IL     27938\n",
      "28056        Dearborn County, IN     28041\n",
      "28057         Decatur County, IN     28041\n",
      "28058         De Kalb County, IN     28041\n",
      "28059        Delaware County, IN     28041\n",
      "28161         Decatur County, IA     28134\n",
      "28162        Delaware County, IA     28134\n",
      "28163      Des Moines County, IA     28134\n",
      "28254         Decatur County, KS     28234\n",
      "28604           Delta County, MI     28583\n",
      "596           De Soto County, MS     28755\n",
      "28870         De Kalb County, MO     28838\n",
      "1047             Dent County, MO     28838\n",
      "28966      Deer Lodge County, MT     28954\n",
      "29037           Deuel County, NE     29012\n",
      "29164         De Baca County, NM     29157\n",
      "29204        Delaware County, NY     29191\n",
      "29429        Defiance County, OH     29409\n",
      "29430        Delaware County, OH     29409\n",
      "29519        Delaware County, OK     29498\n",
      "29520           Dewey County, OK     29498\n",
      "29585       Deschutes County, OR     29576\n",
      "29636        Delaware County, PA     29613\n",
      "29754           Deuel County, SD     29735\n",
      "29755           Dewey County, SD     29735\n",
      "208           Decatur County, TN     29802\n",
      "29823         De Kalb County, TN     29802\n",
      "29957      Deaf Smith County, TX     29898\n",
      "29958           Delta County, TX     29898\n",
      "29959          Denton County, TX     29898\n",
      "29960         De Witt County, TX     29898\n",
      "32079         Denali Borough, AK     27403\n",
      "28477         De Soto Parish, LA     28461\n"
     ]
    }
   ],
   "source": [
    "print(county_index[county_index.name.str.match('De')])"
   ]
  },
  {
   "cell_type": "markdown",
   "metadata": {},
   "source": [
    "our counties of interest have codes 27360, 27771, 28870, 29823, 27673, 596, 29960. Let's remove those and see what's left"
   ]
  },
  {
   "cell_type": "code",
   "execution_count": 22,
   "metadata": {},
   "outputs": [],
   "source": [
    "county_index.at[27360, 'name'] = 'DeKalb County, AL'\n",
    "county_index.at[27771, 'name'] = 'DeKalb County, GA'\n",
    "county_index.at[28870, 'name'] = 'DeKalb County, MO'\n",
    "county_index.at[29823, 'name'] = 'DeKalb County, TN'\n",
    "county_index.at[27673, 'name'] = 'DeSoto County, FL'\n",
    "county_index.at[596, 'name'] = 'DeSoto County, MS'\n",
    "county_index.at[29960, 'name'] = 'DeWitt County, TX'\n",
    "county_index.at[29164, 'name'] = 'DeBaca County, NM'"
   ]
  },
  {
   "cell_type": "code",
   "execution_count": 23,
   "metadata": {},
   "outputs": [],
   "source": [
    "df_series_table_decounty.title = df_series_table_decounty.apply(rename_in_features, axis=1)"
   ]
  },
  {
   "cell_type": "code",
   "execution_count": 24,
   "metadata": {},
   "outputs": [
    {
     "name": "stdout",
     "output_type": "stream",
     "text": [
      "1307\n"
     ]
    }
   ],
   "source": [
    "print(len(df_series_table_decounty.title.unique()))"
   ]
  },
  {
   "cell_type": "code",
   "execution_count": 25,
   "metadata": {},
   "outputs": [
    {
     "name": "stdout",
     "output_type": "stream",
     "text": [
      "Index(['All Employees: Administrative and Support and Waste Management and Remediation Services in Baltimore City, M',\n",
      "       'Bachelor's Degree or Higher (5-year estimate) in DuPage County, I',\n",
      "       'Bachelor's Degree or Higher (5-year estimate) in LaMoure County, N',\n",
      "       'Bachelor's Degree or Higher (5-year estimate) in LaSalle County, I',\n",
      "       'Bachelor's Degree or Higher (5-year estimate) in Shannon County, S',\n",
      "       'Bachelor's Degree or Higher (5-year estimate) in Wade Hampton Census Area, A',\n",
      "       'Burdened Households in Broomfield County, C',\n",
      "       'Burdened Households in DuPage County, I',\n",
      "       'Burdened Households in Honolulu County, H',\n",
      "       'Burdened Households in Juneau City and Borough, A',\n",
      "       ...\n",
      "       'Single-parent Households with Children as a Percentage of Households with Children in Sitka City and Borough, A',\n",
      "       'Single-parent Households with Children as a Percentage of Households with Children in Wade Hampton Census Area, AK (DISCONTINUED',\n",
      "       'Single-parent Households with Children as a Percentage of Households with Children in Wrangell City and Borough, A',\n",
      "       'Unemployment Rate in Kusilvak Census Area, A',\n",
      "       'Unemployment Rate in LaSalle County, I',\n",
      "       'Unemployment Rate in LaSalle Parish, L',\n",
      "       'Unemployment Rate in Oglala Lakota County, S',\n",
      "       'Unemployment Rate in Petersburg Borough, A',\n",
      "       'Unemployment Rate in Shannon County, SD (DISCONTINUED',\n",
      "       'Unemployment Rate in Wade Hampton Census Area, AK (DISCONTINUED'],\n",
      "      dtype='object', name='title', length=1000)\n"
     ]
    }
   ],
   "source": [
    "four_agg = df_series_table_decounty.groupby('title').count()\n",
    "print(four_agg[four_agg.county_id == 1].index)"
   ]
  },
  {
   "cell_type": "markdown",
   "metadata": {},
   "source": [
    "So there's 1000 titles with specific county names in them. Let's next look for DuPage, LaMoure, LaSalle, Shannon"
   ]
  },
  {
   "cell_type": "code",
   "execution_count": 26,
   "metadata": {},
   "outputs": [
    {
     "name": "stdout",
     "output_type": "stream",
     "text": [
      "                         name  state_id\n",
      "county_id                              \n",
      "27960      Du Page County, IL     27938\n",
      "                          name  state_id\n",
      "county_id                               \n",
      "29378      La Moure County, ND     29355\n",
      "                          name  state_id\n",
      "county_id                               \n",
      "27988      La Salle County, IL     27938\n",
      "30040      La Salle County, TX     29898\n",
      "28491      La Salle Parish, LA     28461\n",
      "                         name  state_id\n",
      "county_id                              \n",
      "966        Shannon County, MO     28838\n",
      "29791      Shannon County, SD     29735\n"
     ]
    }
   ],
   "source": [
    "print(county_index[county_index.name.str.match('Du.Page')])\n",
    "print(county_index[county_index.name.str.match('La.Moure')])\n",
    "print(county_index[county_index.name.str.match('La.Salle')])\n",
    "print(county_index[county_index.name.str.match('Shannon')])"
   ]
  },
  {
   "cell_type": "code",
   "execution_count": 27,
   "metadata": {},
   "outputs": [],
   "source": [
    "county_index.at[27960, 'name'] = 'DuPage County, IL'\n",
    "county_index.at[29378, 'name'] = 'LaMoure County, ND'\n",
    "county_index.at[27988, 'name'] = 'LaSalle County, IL'\n",
    "county_index.at[28491, 'name'] = 'LaSalle Parish, LA'"
   ]
  },
  {
   "cell_type": "markdown",
   "metadata": {},
   "source": [
    "Not sure what's going on with Shannon, the county name in the table seems the same as the county name in the title"
   ]
  },
  {
   "cell_type": "code",
   "execution_count": 28,
   "metadata": {},
   "outputs": [
    {
     "name": "stdout",
     "output_type": "stream",
     "text": [
      "1150\n"
     ]
    }
   ],
   "source": [
    "df_series_table_decounty.title = df_series_table_decounty.apply(rename_in_features, axis=1)\n",
    "print(len(df_series_table_decounty.title.unique()))"
   ]
  },
  {
   "cell_type": "code",
   "execution_count": 29,
   "metadata": {},
   "outputs": [
    {
     "name": "stdout",
     "output_type": "stream",
     "text": [
      "['All Employees: Administrative and Support and Waste Management and Remediation Services in Baltimore City, M'\n",
      " \"Bachelor's Degree or Higher (5-year estimate) in Shannon County, S\"\n",
      " \"Bachelor's Degree or Higher (5-year estimate) in Wade Hampton Census Area, A\"\n",
      " 'Burdened Households in Broomfield County, C'\n",
      " 'Burdened Households in Honolulu County, H'\n",
      " 'Burdened Households in Juneau City and Borough, A'\n",
      " 'Burdened Households in Philadelphia County, P'\n",
      " 'Burdened Households in San Francisco County, C'\n",
      " 'Burdened Households in Shannon County, SD (DISCONTINUED'\n",
      " 'Burdened Households in Sitka City and Borough, A'\n",
      " 'Burdened Households in Wade Hampton Census Area, AK (DISCONTINUED'\n",
      " 'Burdened Households in Wrangell City and Borough, A'\n",
      " 'Civilian Labor Force in Shannon County, SD (DISCONTINUED'\n",
      " 'Civilian Labor Force in St. Louis [Independent City], M'\n",
      " 'Civilian Labor Force in Wade Hampton Census Area, AK (DISCONTINUED'\n",
      " 'Civilian Labor Force in the '\n",
      " 'Combined Violent and Property Crime Incidents Known to Law Enforcement in Shannon County, S'\n",
      " 'Combined Violent and Property Crime Incidents Known to Law Enforcement in Trousdale County,T'\n",
      " 'Estimate of People Age 0-17 in Poverty in Dade County, FL (DISCONTINUED'\n",
      " 'Estimate of People Age 0-17 in Poverty in DeKalb County, I']\n"
     ]
    }
   ],
   "source": [
    "fifth_agg = df_series_table_decounty.groupby('title').count()\n",
    "print(fifth_agg[fifth_agg.county_id == 1].index.values[:20])"
   ]
  },
  {
   "cell_type": "markdown",
   "metadata": {},
   "source": [
    "855 left. Let's look at Broomfield, Honolulu, Juneau City and Borough, Philadelphia County"
   ]
  },
  {
   "cell_type": "code",
   "execution_count": 30,
   "metadata": {},
   "outputs": [
    {
     "name": "stdout",
     "output_type": "stream",
     "text": [
      "                                 name  state_id\n",
      "county_id                                      \n",
      "32077      Broomfield County/city, CO     27580\n",
      "                               name  state_id\n",
      "county_id                                    \n",
      "27889      Honolulu County/city, HI     27887\n",
      "                              name  state_id\n",
      "county_id                                   \n",
      "30461            Juneau County, WI     30432\n",
      "27412      Juneau Borough/city, AK     27403\n",
      "                                   name  state_id\n",
      "county_id                                        \n",
      "29664      Philadelphia County/city, PA     29613\n"
     ]
    }
   ],
   "source": [
    "print(county_index[county_index.name.str.match('Broomfield')])\n",
    "print(county_index[county_index.name.str.match('Honolulu')])\n",
    "print(county_index[county_index.name.str.match('Juneau')])\n",
    "print(county_index[county_index.name.str.match('Philadelphia')])"
   ]
  },
  {
   "cell_type": "code",
   "execution_count": 31,
   "metadata": {},
   "outputs": [],
   "source": [
    "county_index.at[32077, 'name'] = 'Broomfield County, CO'\n",
    "county_index.at[27889, 'name'] = 'Honolulu County, HI'\n",
    "county_index.at[27412, 'name'] = 'Juneau City and Borough, AK'\n",
    "county_index.at[29664, 'name'] = 'Philadelphia County, PA'"
   ]
  },
  {
   "cell_type": "code",
   "execution_count": 32,
   "metadata": {},
   "outputs": [
    {
     "name": "stdout",
     "output_type": "stream",
     "text": [
      "1010\n"
     ]
    }
   ],
   "source": [
    "df_series_table_decounty.title = df_series_table_decounty.apply(rename_in_features, axis=1)\n",
    "print(len(df_series_table_decounty.title.unique()))"
   ]
  },
  {
   "cell_type": "code",
   "execution_count": 33,
   "metadata": {},
   "outputs": [
    {
     "name": "stdout",
     "output_type": "stream",
     "text": [
      "715\n",
      "['All Employees: Administrative and Support and Waste Management and Remediation Services in Baltimore City, M'\n",
      " \"Bachelor's Degree or Higher (5-year estimate) in Shannon County, S\"\n",
      " \"Bachelor's Degree or Higher (5-year estimate) in Wade Hampton Census Area, A\"\n",
      " 'Burdened Households in San Francisco County, C'\n",
      " 'Burdened Households in Shannon County, SD (DISCONTINUED'\n",
      " 'Burdened Households in Sitka City and Borough, A'\n",
      " 'Burdened Households in Wade Hampton Census Area, AK (DISCONTINUED'\n",
      " 'Burdened Households in Wrangell City and Borough, A'\n",
      " 'Civilian Labor Force in Shannon County, SD (DISCONTINUED'\n",
      " 'Civilian Labor Force in St. Louis [Independent City], M'\n",
      " 'Civilian Labor Force in Wade Hampton Census Area, AK (DISCONTINUED'\n",
      " 'Civilian Labor Force in the '\n",
      " 'Combined Violent and Property Crime Incidents Known to Law Enforcement in Shannon County, S'\n",
      " 'Combined Violent and Property Crime Incidents Known to Law Enforcement in Trousdale County,T'\n",
      " 'Estimate of People Age 0-17 in Poverty in Dade County, FL (DISCONTINUED'\n",
      " 'Estimate of People Age 0-17 in Poverty in DeKalb County, I'\n",
      " 'Estimate of People Age 0-17 in Poverty in Shannon County, SD (DISCONTINUED'\n",
      " 'Estimate of People Age 0-17 in Poverty in Skagway-Yakutat-Angoon Census Area, AK (DISCONTINUED'\n",
      " 'Estimate of People Age 0-17 in Poverty in Wade Hampton Census Area, AK (DISCONTINUED'\n",
      " 'Estimate of People of All Ages in Poverty in Dade County, FL (DISCONTINUED']\n"
     ]
    }
   ],
   "source": [
    "sixth_agg = df_series_table_decounty.groupby('title').count()\n",
    "print(len(sixth_agg[sixth_agg.county_id == 1].index.values))\n",
    "print(sixth_agg[sixth_agg.county_id == 1].index.values[:20])"
   ]
  },
  {
   "cell_type": "code",
   "execution_count": 34,
   "metadata": {},
   "outputs": [
    {
     "name": "stdout",
     "output_type": "stream",
     "text": [
      "Burdened Households in San Francisco County, C\n"
     ]
    }
   ],
   "source": [
    "test = sixth_agg[sixth_agg.county_id == 1].index.values[3]\n",
    "test = test\n",
    "print(test)"
   ]
  },
  {
   "cell_type": "code",
   "execution_count": 35,
   "metadata": {},
   "outputs": [
    {
     "name": "stdout",
     "output_type": "stream",
     "text": [
      "                                    name  state_id\n",
      "county_id                                         \n",
      "27559      San Francisco County/city, CA     27521\n",
      "                         name  state_id\n",
      "county_id                              \n",
      "28547      Baltimore City, MD     28543\n",
      "                             name  state_id\n",
      "county_id                                  \n",
      "27422      Sitka Borough/city, AK     27403\n",
      "                                          name  state_id\n",
      "county_id                                               \n",
      "33518                Wrangell Borough/City, AK     27403\n",
      "27427      Wrangell-Petersburg Census Area, AK     27403\n",
      "       frequency                      id observation_end observation_start  \\\n",
      "107348   Monthly    SMU24925816056000001      2020-02-01        1990-01-01   \n",
      "107533    Annual   SMU24925816056000001A      2019-01-01        1990-01-01   \n",
      "107534   Monthly  SMU24925816056000001SA      2020-02-01        1990-01-01   \n",
      "\n",
      "            seasonal_adjustment  \\\n",
      "107348  Not Seasonally Adjusted   \n",
      "107533  Not Seasonally Adjusted   \n",
      "107534      Seasonally Adjusted   \n",
      "\n",
      "                                                    title  \\\n",
      "107348  All Employees: Administrative and Support and ...   \n",
      "107533  All Employees: Administrative and Support and ...   \n",
      "107534  All Employees: Administrative and Support and ...   \n",
      "\n",
      "                       units  county_id  \n",
      "107348  Thousands of Persons      28546  \n",
      "107533  Thousands of Persons      28547  \n",
      "107534  Thousands of Persons      28547  \n"
     ]
    }
   ],
   "source": [
    "print(county_index[county_index.name.str.match('San Francisco')])\n",
    "print(county_index[county_index.name.str.match('Baltimore City')])\n",
    "print(county_index[county_index.name.str.match('Sitka')])\n",
    "print(county_index[county_index.name.str.match('Wrangell')])\n",
    "print(df_series_table_decounty[df_series_table_decounty.title.str.match('All Employees: Admin')])"
   ]
  },
  {
   "cell_type": "code",
   "execution_count": 36,
   "metadata": {},
   "outputs": [
    {
     "name": "stdout",
     "output_type": "stream",
     "text": [
      "frequency                                                        Monthly\n",
      "id                                                  SMU24925816056000001\n",
      "observation_end                                               2020-02-01\n",
      "observation_start                                             1990-01-01\n",
      "seasonal_adjustment                              Not Seasonally Adjusted\n",
      "title                  All Employees: Administrative and Support and ...\n",
      "units                                               Thousands of Persons\n",
      "county_id                                                          28546\n",
      "Name: 107348, dtype: object\n",
      "name        Baltimore County, MD\n",
      "state_id                   28543\n",
      "Name: 28546, dtype: object\n"
     ]
    }
   ],
   "source": [
    "print(df_series_table_decounty.iloc[107348])\n",
    "print(county_index.loc[28546])"
   ]
  },
  {
   "cell_type": "markdown",
   "metadata": {},
   "source": [
    "Looks like the first one just has the wrong link for county id"
   ]
  },
  {
   "cell_type": "code",
   "execution_count": 37,
   "metadata": {},
   "outputs": [],
   "source": [
    "df_series_table_decounty.at[107348, 'county_id'] = 28547\n",
    "county_index.at[27559, 'name'] = 'San Francisco County, CA'\n",
    "county_index.at[27422, 'name'] = 'Sitka City and Borough, AK'\n",
    "county_index.at[33518, 'name'] = 'Wrangell City and Borough, AK'"
   ]
  },
  {
   "cell_type": "code",
   "execution_count": 38,
   "metadata": {},
   "outputs": [
    {
     "name": "stdout",
     "output_type": "stream",
     "text": [
      "918\n"
     ]
    }
   ],
   "source": [
    "df_series_table_decounty.title = df_series_table_decounty.apply(rename_in_features, axis=1)\n",
    "print(len(df_series_table_decounty.title.unique()))"
   ]
  },
  {
   "cell_type": "code",
   "execution_count": 39,
   "metadata": {},
   "outputs": [
    {
     "name": "stdout",
     "output_type": "stream",
     "text": [
      "623\n",
      "['All Employees: Administrative and Support and Waste Management and Remediation Services in '\n",
      " \"Bachelor's Degree or Higher (5-year estimate) in Shannon County, S\"\n",
      " \"Bachelor's Degree or Higher (5-year estimate) in Wade Hampton Census Area, A\"\n",
      " 'Burdened Households in Shannon County, SD (DISCONTINUED'\n",
      " 'Burdened Households in Wade Hampton Census Area, AK (DISCONTINUED'\n",
      " 'Civilian Labor Force in Shannon County, SD (DISCONTINUED'\n",
      " 'Civilian Labor Force in St. Louis [Independent City], M'\n",
      " 'Civilian Labor Force in Wade Hampton Census Area, AK (DISCONTINUED'\n",
      " 'Civilian Labor Force in the '\n",
      " 'Combined Violent and Property Crime Incidents Known to Law Enforcement in Shannon County, S'\n",
      " 'Combined Violent and Property Crime Incidents Known to Law Enforcement in Trousdale County,T'\n",
      " 'Estimate of People Age 0-17 in Poverty in Dade County, FL (DISCONTINUED'\n",
      " 'Estimate of People Age 0-17 in Poverty in DeKalb County, I'\n",
      " 'Estimate of People Age 0-17 in Poverty in Shannon County, SD (DISCONTINUED'\n",
      " 'Estimate of People Age 0-17 in Poverty in Skagway-Yakutat-Angoon Census Area, AK (DISCONTINUED'\n",
      " 'Estimate of People Age 0-17 in Poverty in Wade Hampton Census Area, AK (DISCONTINUED'\n",
      " 'Estimate of People of All Ages in Poverty in Dade County, FL (DISCONTINUED'\n",
      " 'Estimate of People of All Ages in Poverty in DeKalb County, I'\n",
      " 'Estimate of People of All Ages in Poverty in Shannon County, SD (DISCONTINUED'\n",
      " 'Estimate of People of All Ages in Poverty in Skagway-Yakutat-Angoon Census Area, AK (DISCONTINUED']\n"
     ]
    }
   ],
   "source": [
    "sev_agg = df_series_table_decounty.groupby('title').count()\n",
    "print(len(sev_agg[sev_agg.county_id == 1].index.values))\n",
    "print(sev_agg[sev_agg.county_id == 1].index.values[:20])"
   ]
  },
  {
   "cell_type": "code",
   "execution_count": 40,
   "metadata": {},
   "outputs": [
    {
     "name": "stdout",
     "output_type": "stream",
     "text": [
      "                                                    title  county_id\n",
      "228481  Income Inequality in Shannon County, SD (DISCO...      33805\n",
      "228482  Estimate, Median Age by Sex, Total Population ...      33805\n",
      "228483  Population Estimate, Total, Not Hispanic or La...      33805\n",
      "228484  Population Estimate, Total, Not Hispanic or La...      33805\n",
      "228485  Population Estimate, Total, Not Hispanic or La...      33805\n",
      "228486  Population Estimate, Total, Not Hispanic or La...      33805\n",
      "228487  Population Estimate, Total, Hispanic or Latino...      33805\n",
      "228490      SNAP Benefits Recipients in Shannon County, S      33805\n",
      "228493  Rate of Preventable Hospital Admissions in Sha...      33805\n",
      "228494  Burdened Households in Shannon County, SD (DIS...      33805\n",
      "228497  Combined Violent and Property Crime Incidents ...      33805\n",
      "228498  High School Graduate or Higher (5-year estimat...      33805\n",
      "228499  Bachelor's Degree or Higher (5-year estimate) ...      33805\n",
      "228507  Per Capita Personal Income in Shannon County, ...      33805\n",
      "228509  Estimate of People of All Ages in Poverty in S...      33805\n",
      "228516  Estimate of People Age 0-17 in Poverty in Shan...      33805\n",
      "228518  Personal Income in Shannon County, SD (DISCONT...      33805\n",
      "228532  Single-parent Households with Children as a Pe...      33805\n",
      "228533  People 25 Years and Over Who Have Completed an...      33805\n",
      "228534  Percent of Population Below the Poverty Level ...      33805\n",
      "228535  Civilian Labor Force in Shannon County, SD (DI...      33805\n",
      "228536  Resident Population in Shannon County, SD (DIS...      33805\n",
      "228537  Unemployment Rate in Shannon County, SD (DISCO...      33805\n"
     ]
    }
   ],
   "source": [
    "print(df_series_table_decounty[df_series_table_decounty.title.str.match('.*Shannon')][['title','county_id']])"
   ]
  },
  {
   "cell_type": "code",
   "execution_count": 41,
   "metadata": {},
   "outputs": [
    {
     "name": "stdout",
     "output_type": "stream",
     "text": [
      "name        Oglala Lakota County, SD\n",
      "state_id                       29735\n",
      "Name: 33805, dtype: object\n"
     ]
    }
   ],
   "source": [
    "print(county_index.loc[33805])"
   ]
  },
  {
   "cell_type": "markdown",
   "metadata": {},
   "source": [
    "So it looks like these are discontinued series that are labeled with Shannon County but associated with Oglala Lakota County. Let's remove discontinued series"
   ]
  },
  {
   "cell_type": "code",
   "execution_count": 42,
   "metadata": {},
   "outputs": [
    {
     "name": "stdout",
     "output_type": "stream",
     "text": [
      "  frequency               id observation_end observation_start  \\\n",
      "0    Annual  2020RATIO001001      2018-01-01        2010-01-01   \n",
      "1   Monthly    ACTLISCOU1001      2020-03-01        2016-07-01   \n",
      "2   Monthly  ACTLISCOUMM1001      2020-03-01        2017-07-01   \n",
      "3   Monthly  ACTLISCOUYY1001      2020-03-01        2017-07-01   \n",
      "4   Monthly       ALAUTA1LFN      2020-02-01        1990-01-01   \n",
      "\n",
      "       seasonal_adjustment                                              title  \\\n",
      "0  Not Seasonally Adjusted                                  Income Inequality   \n",
      "1  Not Seasonally Adjusted            Housing Inventory: Active Listing Count   \n",
      "2  Not Seasonally Adjusted  Housing Inventory: Active Listing Count Month-...   \n",
      "3  Not Seasonally Adjusted  Housing Inventory: Active Listing Count Year-O...   \n",
      "4  Not Seasonally Adjusted                               Civilian Labor Force   \n",
      "\n",
      "     units  county_id  \n",
      "0    Ratio      27336  \n",
      "1    Level      27336  \n",
      "2  Percent      27336  \n",
      "3  Percent      27336  \n",
      "4  Persons      27336  \n"
     ]
    }
   ],
   "source": [
    "df_series_table_no_disc = df_series_table_decounty[df_series_table_decounty.title.str.match('.*DISCONTINUED') == False]\n",
    "print(df_series_table_no_disc.head())"
   ]
  },
  {
   "cell_type": "code",
   "execution_count": 49,
   "metadata": {},
   "outputs": [
    {
     "name": "stdout",
     "output_type": "stream",
     "text": [
      "(307792, 8)\n",
      "582\n",
      "['All Employees: Administrative and Support and Waste Management and Remediation Services in '\n",
      " \"Bachelor's Degree or Higher (5-year estimate) in Shannon County, S\"\n",
      " \"Bachelor's Degree or Higher (5-year estimate) in Wade Hampton Census Area, A\"\n",
      " 'Civilian Labor Force in St. Louis [Independent City], M'\n",
      " 'Civilian Labor Force in the '\n",
      " 'Combined Violent and Property Crime Incidents Known to Law Enforcement in Shannon County, S'\n",
      " 'Combined Violent and Property Crime Incidents Known to Law Enforcement in Trousdale County,T'\n",
      " 'Estimate of People Age 0-17 in Poverty in DeKalb County, I'\n",
      " 'Estimate of People of All Ages in Poverty in DeKalb County, I'\n",
      " 'Gross Domestic Product: All Industries in Albemarle + Charlottesville County, V'\n",
      " 'Gross Domestic Product: All Industries in Aleutians East Borough County, A'\n",
      " 'Gross Domestic Product: All Industries in Aleutians West Census Area County, A'\n",
      " 'Gross Domestic Product: All Industries in Alexandria (Independent City) County, V'\n",
      " 'Gross Domestic Product: All Industries in Alleghany + Covington County, V'\n",
      " 'Gross Domestic Product: All Industries in Anchorage Municipality County, A'\n",
      " 'Gross Domestic Product: All Industries in Baltimore (Independent City) County, M'\n",
      " 'Gross Domestic Product: All Industries in Bethel Census Area County, A'\n",
      " 'Gross Domestic Product: All Industries in Bristol Bay Borough County, A'\n",
      " 'Gross Domestic Product: All Industries in Campbell + Lynchburg County, V'\n",
      " 'Gross Domestic Product: All Industries in Carroll + Galax County, V']\n"
     ]
    }
   ],
   "source": [
    "df_series_table_no_disc.reset_index(inplace=True, drop=True)\n",
    "print(df_series_table_no_disc.shape)\n",
    "eigh_agg = df_series_table_no_disc.groupby('title').count()\n",
    "print(len(eigh_agg[eigh_agg.county_id == 1].index.values))\n",
    "print(eigh_agg[eigh_agg.county_id == 1].index.values[:20])"
   ]
  },
  {
   "cell_type": "markdown",
   "metadata": {},
   "source": [
    "The remaining 582 series seem like the county in the title is mismatched with the county id and will have to be dealt with one by one"
   ]
  },
  {
   "cell_type": "code",
   "execution_count": 55,
   "metadata": {},
   "outputs": [
    {
     "name": "stdout",
     "output_type": "stream",
     "text": [
      "                                   name  state_id\n",
      "county_id                                        \n",
      "28747                 Wadena County, MN     28667\n",
      "27426      Wade Hampton Census Area, AK     27403\n",
      "                                                    title  county_id\n",
      "300053  SNAP Benefits Recipients in Wade Hampton Censu...      33897\n",
      "300056  Rate of Preventable Hospital Admissions in Wad...      33897\n",
      "300063  Bachelor's Degree or Higher (5-year estimate) ...      33897\n",
      "300070  Per Capita Personal Income in Wade Hampton Cen...      33897\n",
      "300078     Personal Income in Wade Hampton Census Area, A      33897\n"
     ]
    }
   ],
   "source": [
    "print(county_index[county_index.name.str.match('.*Wade')])\n",
    "print(df_series_table_no_disc[df_series_table_no_disc.title.str.match('.*Wade')][['title','county_id']])"
   ]
  },
  {
   "cell_type": "markdown",
   "metadata": {},
   "source": [
    "We already have all 5 of those series under the correct county, so we can delete them"
   ]
  },
  {
   "cell_type": "code",
   "execution_count": 56,
   "metadata": {},
   "outputs": [
    {
     "name": "stdout",
     "output_type": "stream",
     "text": [
      "(307787, 8)\n"
     ]
    },
    {
     "name": "stderr",
     "output_type": "stream",
     "text": [
      "C:\\Users\\srija\\Miniconda3\\envs\\housingpred\\lib\\site-packages\\pandas\\core\\frame.py:3990: SettingWithCopyWarning: \n",
      "A value is trying to be set on a copy of a slice from a DataFrame\n",
      "\n",
      "See the caveats in the documentation: https://pandas.pydata.org/pandas-docs/stable/user_guide/indexing.html#returning-a-view-versus-a-copy\n",
      "  return super().drop(\n"
     ]
    }
   ],
   "source": [
    "df_series_table_no_disc.drop([300053, 300056, 300063, 300070, 300078], inplace=True)\n",
    "print(df_series_table_no_disc.shape)"
   ]
  },
  {
   "cell_type": "code",
   "execution_count": 58,
   "metadata": {},
   "outputs": [
    {
     "name": "stdout",
     "output_type": "stream",
     "text": [
      "                                                    title  county_id\n",
      "228480      SNAP Benefits Recipients in Shannon County, S      33805\n",
      "228483  Rate of Preventable Hospital Admissions in Sha...      33805\n",
      "228486  Combined Violent and Property Crime Incidents ...      33805\n",
      "228487  High School Graduate or Higher (5-year estimat...      33805\n",
      "228488  Bachelor's Degree or Higher (5-year estimate) ...      33805\n"
     ]
    }
   ],
   "source": [
    "print(df_series_table_no_disc[df_series_table_no_disc.title.str.match('.*Shannon')][['title','county_id']])"
   ]
  },
  {
   "cell_type": "code",
   "execution_count": 60,
   "metadata": {
    "collapsed": true,
    "jupyter": {
     "outputs_hidden": true
    }
   },
   "outputs": [
    {
     "ename": "KeyError",
     "evalue": "'[228480 228483 228486 228487 228488] not found in axis'",
     "output_type": "error",
     "traceback": [
      "\u001b[1;31m---------------------------------------------------------------------------\u001b[0m",
      "\u001b[1;31mKeyError\u001b[0m                                  Traceback (most recent call last)",
      "\u001b[1;32m<ipython-input-60-b85b9c2f01b3>\u001b[0m in \u001b[0;36m<module>\u001b[1;34m\u001b[0m\n\u001b[1;32m----> 1\u001b[1;33m \u001b[0mdf_series_table_no_disc\u001b[0m \u001b[1;33m=\u001b[0m \u001b[0mdf_series_table_no_disc\u001b[0m\u001b[1;33m.\u001b[0m\u001b[0mdrop\u001b[0m\u001b[1;33m(\u001b[0m\u001b[1;33m[\u001b[0m\u001b[1;36m228480\u001b[0m\u001b[1;33m,\u001b[0m \u001b[1;36m228483\u001b[0m\u001b[1;33m,\u001b[0m \u001b[1;36m228486\u001b[0m\u001b[1;33m,\u001b[0m \u001b[1;36m228487\u001b[0m\u001b[1;33m,\u001b[0m \u001b[1;36m228488\u001b[0m\u001b[1;33m]\u001b[0m\u001b[1;33m,\u001b[0m \u001b[0minplace\u001b[0m\u001b[1;33m=\u001b[0m\u001b[1;32mTrue\u001b[0m\u001b[1;33m)\u001b[0m\u001b[1;33m\u001b[0m\u001b[1;33m\u001b[0m\u001b[0m\n\u001b[0m\u001b[0;32m      2\u001b[0m \u001b[0mprint\u001b[0m\u001b[1;33m(\u001b[0m\u001b[0mdf_series_table_no_disc\u001b[0m\u001b[1;33m.\u001b[0m\u001b[0mshape\u001b[0m\u001b[1;33m)\u001b[0m\u001b[1;33m\u001b[0m\u001b[1;33m\u001b[0m\u001b[0m\n",
      "\u001b[1;32m~\\Miniconda3\\envs\\housingpred\\lib\\site-packages\\pandas\\core\\frame.py\u001b[0m in \u001b[0;36mdrop\u001b[1;34m(self, labels, axis, index, columns, level, inplace, errors)\u001b[0m\n\u001b[0;32m   3988\u001b[0m                 \u001b[0mweight\u001b[0m  \u001b[1;36m1.0\u001b[0m     \u001b[1;36m0.8\u001b[0m\u001b[1;33m\u001b[0m\u001b[1;33m\u001b[0m\u001b[0m\n\u001b[0;32m   3989\u001b[0m         \"\"\"\n\u001b[1;32m-> 3990\u001b[1;33m         return super().drop(\n\u001b[0m\u001b[0;32m   3991\u001b[0m             \u001b[0mlabels\u001b[0m\u001b[1;33m=\u001b[0m\u001b[0mlabels\u001b[0m\u001b[1;33m,\u001b[0m\u001b[1;33m\u001b[0m\u001b[1;33m\u001b[0m\u001b[0m\n\u001b[0;32m   3992\u001b[0m             \u001b[0maxis\u001b[0m\u001b[1;33m=\u001b[0m\u001b[0maxis\u001b[0m\u001b[1;33m,\u001b[0m\u001b[1;33m\u001b[0m\u001b[1;33m\u001b[0m\u001b[0m\n",
      "\u001b[1;32m~\\Miniconda3\\envs\\housingpred\\lib\\site-packages\\pandas\\core\\generic.py\u001b[0m in \u001b[0;36mdrop\u001b[1;34m(self, labels, axis, index, columns, level, inplace, errors)\u001b[0m\n\u001b[0;32m   3934\u001b[0m         \u001b[1;32mfor\u001b[0m \u001b[0maxis\u001b[0m\u001b[1;33m,\u001b[0m \u001b[0mlabels\u001b[0m \u001b[1;32min\u001b[0m \u001b[0maxes\u001b[0m\u001b[1;33m.\u001b[0m\u001b[0mitems\u001b[0m\u001b[1;33m(\u001b[0m\u001b[1;33m)\u001b[0m\u001b[1;33m:\u001b[0m\u001b[1;33m\u001b[0m\u001b[1;33m\u001b[0m\u001b[0m\n\u001b[0;32m   3935\u001b[0m             \u001b[1;32mif\u001b[0m \u001b[0mlabels\u001b[0m \u001b[1;32mis\u001b[0m \u001b[1;32mnot\u001b[0m \u001b[1;32mNone\u001b[0m\u001b[1;33m:\u001b[0m\u001b[1;33m\u001b[0m\u001b[1;33m\u001b[0m\u001b[0m\n\u001b[1;32m-> 3936\u001b[1;33m                 \u001b[0mobj\u001b[0m \u001b[1;33m=\u001b[0m \u001b[0mobj\u001b[0m\u001b[1;33m.\u001b[0m\u001b[0m_drop_axis\u001b[0m\u001b[1;33m(\u001b[0m\u001b[0mlabels\u001b[0m\u001b[1;33m,\u001b[0m \u001b[0maxis\u001b[0m\u001b[1;33m,\u001b[0m \u001b[0mlevel\u001b[0m\u001b[1;33m=\u001b[0m\u001b[0mlevel\u001b[0m\u001b[1;33m,\u001b[0m \u001b[0merrors\u001b[0m\u001b[1;33m=\u001b[0m\u001b[0merrors\u001b[0m\u001b[1;33m)\u001b[0m\u001b[1;33m\u001b[0m\u001b[1;33m\u001b[0m\u001b[0m\n\u001b[0m\u001b[0;32m   3937\u001b[0m \u001b[1;33m\u001b[0m\u001b[0m\n\u001b[0;32m   3938\u001b[0m         \u001b[1;32mif\u001b[0m \u001b[0minplace\u001b[0m\u001b[1;33m:\u001b[0m\u001b[1;33m\u001b[0m\u001b[1;33m\u001b[0m\u001b[0m\n",
      "\u001b[1;32m~\\Miniconda3\\envs\\housingpred\\lib\\site-packages\\pandas\\core\\generic.py\u001b[0m in \u001b[0;36m_drop_axis\u001b[1;34m(self, labels, axis, level, errors)\u001b[0m\n\u001b[0;32m   3968\u001b[0m                 \u001b[0mnew_axis\u001b[0m \u001b[1;33m=\u001b[0m \u001b[0maxis\u001b[0m\u001b[1;33m.\u001b[0m\u001b[0mdrop\u001b[0m\u001b[1;33m(\u001b[0m\u001b[0mlabels\u001b[0m\u001b[1;33m,\u001b[0m \u001b[0mlevel\u001b[0m\u001b[1;33m=\u001b[0m\u001b[0mlevel\u001b[0m\u001b[1;33m,\u001b[0m \u001b[0merrors\u001b[0m\u001b[1;33m=\u001b[0m\u001b[0merrors\u001b[0m\u001b[1;33m)\u001b[0m\u001b[1;33m\u001b[0m\u001b[1;33m\u001b[0m\u001b[0m\n\u001b[0;32m   3969\u001b[0m             \u001b[1;32melse\u001b[0m\u001b[1;33m:\u001b[0m\u001b[1;33m\u001b[0m\u001b[1;33m\u001b[0m\u001b[0m\n\u001b[1;32m-> 3970\u001b[1;33m                 \u001b[0mnew_axis\u001b[0m \u001b[1;33m=\u001b[0m \u001b[0maxis\u001b[0m\u001b[1;33m.\u001b[0m\u001b[0mdrop\u001b[0m\u001b[1;33m(\u001b[0m\u001b[0mlabels\u001b[0m\u001b[1;33m,\u001b[0m \u001b[0merrors\u001b[0m\u001b[1;33m=\u001b[0m\u001b[0merrors\u001b[0m\u001b[1;33m)\u001b[0m\u001b[1;33m\u001b[0m\u001b[1;33m\u001b[0m\u001b[0m\n\u001b[0m\u001b[0;32m   3971\u001b[0m             \u001b[0mresult\u001b[0m \u001b[1;33m=\u001b[0m \u001b[0mself\u001b[0m\u001b[1;33m.\u001b[0m\u001b[0mreindex\u001b[0m\u001b[1;33m(\u001b[0m\u001b[1;33m**\u001b[0m\u001b[1;33m{\u001b[0m\u001b[0maxis_name\u001b[0m\u001b[1;33m:\u001b[0m \u001b[0mnew_axis\u001b[0m\u001b[1;33m}\u001b[0m\u001b[1;33m)\u001b[0m\u001b[1;33m\u001b[0m\u001b[1;33m\u001b[0m\u001b[0m\n\u001b[0;32m   3972\u001b[0m \u001b[1;33m\u001b[0m\u001b[0m\n",
      "\u001b[1;32m~\\Miniconda3\\envs\\housingpred\\lib\\site-packages\\pandas\\core\\indexes\\base.py\u001b[0m in \u001b[0;36mdrop\u001b[1;34m(self, labels, errors)\u001b[0m\n\u001b[0;32m   5015\u001b[0m         \u001b[1;32mif\u001b[0m \u001b[0mmask\u001b[0m\u001b[1;33m.\u001b[0m\u001b[0many\u001b[0m\u001b[1;33m(\u001b[0m\u001b[1;33m)\u001b[0m\u001b[1;33m:\u001b[0m\u001b[1;33m\u001b[0m\u001b[1;33m\u001b[0m\u001b[0m\n\u001b[0;32m   5016\u001b[0m             \u001b[1;32mif\u001b[0m \u001b[0merrors\u001b[0m \u001b[1;33m!=\u001b[0m \u001b[1;34m\"ignore\"\u001b[0m\u001b[1;33m:\u001b[0m\u001b[1;33m\u001b[0m\u001b[1;33m\u001b[0m\u001b[0m\n\u001b[1;32m-> 5017\u001b[1;33m                 \u001b[1;32mraise\u001b[0m \u001b[0mKeyError\u001b[0m\u001b[1;33m(\u001b[0m\u001b[1;34mf\"{labels[mask]} not found in axis\"\u001b[0m\u001b[1;33m)\u001b[0m\u001b[1;33m\u001b[0m\u001b[1;33m\u001b[0m\u001b[0m\n\u001b[0m\u001b[0;32m   5018\u001b[0m             \u001b[0mindexer\u001b[0m \u001b[1;33m=\u001b[0m \u001b[0mindexer\u001b[0m\u001b[1;33m[\u001b[0m\u001b[1;33m~\u001b[0m\u001b[0mmask\u001b[0m\u001b[1;33m]\u001b[0m\u001b[1;33m\u001b[0m\u001b[1;33m\u001b[0m\u001b[0m\n\u001b[0;32m   5019\u001b[0m         \u001b[1;32mreturn\u001b[0m \u001b[0mself\u001b[0m\u001b[1;33m.\u001b[0m\u001b[0mdelete\u001b[0m\u001b[1;33m(\u001b[0m\u001b[0mindexer\u001b[0m\u001b[1;33m)\u001b[0m\u001b[1;33m\u001b[0m\u001b[1;33m\u001b[0m\u001b[0m\n",
      "\u001b[1;31mKeyError\u001b[0m: '[228480 228483 228486 228487 228488] not found in axis'"
     ]
    }
   ],
   "source": [
    "df_series_table_no_disc.drop([228480, 228483, 228486, 228487, 228488], inplace=True)\n",
    "print(df_series_table_no_disc.shape)"
   ]
  },
  {
   "cell_type": "code",
   "execution_count": 99,
   "metadata": {},
   "outputs": [],
   "source": [
    "county_index.at[33806, 'name'] = 'Albemarle + Charlottesville County, VA'\n",
    "county_index.at[27404, 'name'] = 'Aleutians East Borough County, AK'\n",
    "county_index.at[30202, 'name'] = 'Alexandria (Independent City) County, VA'\n",
    "county_index.at[33807, 'name'] = 'Alleghany + Covington County, VA'\n",
    "county_index.at[27406, 'name'] = 'Anchorage Municipality, AK'\n",
    "county_index.at[28547, 'name'] = 'Baltimore (Independent City) County, MD'\n",
    "county_index.at[27407, 'name'] = 'Bethel Census Area County, AK'\n",
    "county_index.at[27408, 'name'] = 'Bristol Bay Borough County, AK'\n",
    "county_index.at[33808, 'name'] = 'Campbell + Lynchburg County, VA'"
   ]
  },
  {
   "cell_type": "code",
   "execution_count": 101,
   "metadata": {},
   "outputs": [
    {
     "name": "stdout",
     "output_type": "stream",
     "text": [
      "787\n"
     ]
    },
    {
     "name": "stderr",
     "output_type": "stream",
     "text": [
      "C:\\Users\\srija\\Miniconda3\\envs\\housingpred\\lib\\site-packages\\pandas\\core\\generic.py:5303: SettingWithCopyWarning: \n",
      "A value is trying to be set on a copy of a slice from a DataFrame.\n",
      "Try using .loc[row_indexer,col_indexer] = value instead\n",
      "\n",
      "See the caveats in the documentation: https://pandas.pydata.org/pandas-docs/stable/user_guide/indexing.html#returning-a-view-versus-a-copy\n",
      "  self[name] = value\n"
     ]
    }
   ],
   "source": [
    "df_series_table_no_disc.title = df_series_table_no_disc.apply(rename_in_features, axis=1)\n",
    "print(len(df_series_table_no_disc.title.unique()))"
   ]
  },
  {
   "cell_type": "code",
   "execution_count": 102,
   "metadata": {},
   "outputs": [
    {
     "name": "stdout",
     "output_type": "stream",
     "text": [
      "492\n",
      "['All Employees: Administrative and Support and Waste Management and Remediation Services in '\n",
      " 'Civilian Labor Force in St. Louis [Independent City], M'\n",
      " 'Civilian Labor Force in the '\n",
      " 'Combined Violent and Property Crime Incidents Known to Law Enforcement in Trousdale County,T'\n",
      " 'Estimate of People Age 0-17 in Poverty in DeKalb County, I'\n",
      " 'Estimate of People of All Ages in Poverty in DeKalb County, I'\n",
      " 'Gross Domestic Product: All Industries in Aleutians West Census Area County, A'\n",
      " 'Gross Domestic Product: All Industries in Anchorage Municipality County, A'\n",
      " 'Gross Domestic Product: All Industries in Carroll + Galax County, V'\n",
      " 'Gross Domestic Product: All Industries in Carson City (Independent City) County, N'\n",
      " 'Gross Domestic Product: All Industries in Chesapeake (Independent City) County, V'\n",
      " 'Gross Domestic Product: All Industries in Denali Borough County, A'\n",
      " 'Gross Domestic Product: All Industries in Dillingham Census Area County, A'\n",
      " 'Gross Domestic Product: All Industries in Fairbanks North Star Borough County, A'\n",
      " 'Gross Domestic Product: All Industries in Frederick + Winchester County, V'\n",
      " 'Gross Domestic Product: All Industries in Greensville + Emporia County, V'\n",
      " 'Gross Domestic Product: All Industries in Haines Borough County, A'\n",
      " 'Gross Domestic Product: All Industries in Hampton (Independent City) County, V'\n",
      " 'Gross Domestic Product: All Industries in Henry + Martinsville County, V'\n",
      " 'Gross Domestic Product: All Industries in Hoonah-Angoon Census Area County, A']\n"
     ]
    }
   ],
   "source": [
    "nine_agg = df_series_table_no_disc.groupby('title').count()\n",
    "print(len(nine_agg[nine_agg.county_id == 1].index.values))\n",
    "print(nine_agg[nine_agg.county_id == 1].index.values[:20])"
   ]
  },
  {
   "cell_type": "code",
   "execution_count": 135,
   "metadata": {},
   "outputs": [],
   "source": [
    "county_index.at[27405, 'name'] = 'Aleutians West Census Area County, AK'\n",
    "county_index.at[27406, 'name'] = 'Anchorage Municipality County, AK'\n",
    "county_index.at[33809, 'name'] = 'Carroll + Galax County, VA'\n",
    "county_index.at[29107, 'name'] = 'Carson City (Independent City) County, NV'\n",
    "county_index.at[30225, 'name'] = 'Chesapeake (Independent City) County, VA'\n",
    "county_index.at[32079, 'name'] = 'Denali Borough County, AK'\n",
    "county_index.at[27409, 'name'] = 'Dillingham Census Area County, AK'\n",
    "county_index.at[27410, 'name'] = 'Fairbanks North Star Borough County, AK'\n",
    "county_index.at[33810, 'name'] = 'Frederick + Winchester County, VA'"
   ]
  },
  {
   "cell_type": "code",
   "execution_count": 137,
   "metadata": {},
   "outputs": [
    {
     "name": "stdout",
     "output_type": "stream",
     "text": [
      "715\n"
     ]
    },
    {
     "name": "stderr",
     "output_type": "stream",
     "text": [
      "C:\\Users\\srija\\Miniconda3\\envs\\housingpred\\lib\\site-packages\\pandas\\core\\generic.py:5303: SettingWithCopyWarning: \n",
      "A value is trying to be set on a copy of a slice from a DataFrame.\n",
      "Try using .loc[row_indexer,col_indexer] = value instead\n",
      "\n",
      "See the caveats in the documentation: https://pandas.pydata.org/pandas-docs/stable/user_guide/indexing.html#returning-a-view-versus-a-copy\n",
      "  self[name] = value\n"
     ]
    }
   ],
   "source": [
    "df_series_table_no_disc.title = df_series_table_no_disc.apply(rename_in_features, axis=1)\n",
    "print(len(df_series_table_no_disc.title.unique()))"
   ]
  },
  {
   "cell_type": "code",
   "execution_count": 138,
   "metadata": {},
   "outputs": [
    {
     "name": "stdout",
     "output_type": "stream",
     "text": [
      "420\n",
      "['All Employees: Administrative and Support and Waste Management and Remediation Services in '\n",
      " 'Civilian Labor Force in St. Louis [Independent City], M'\n",
      " 'Civilian Labor Force in the '\n",
      " 'Combined Violent and Property Crime Incidents Known to Law Enforcement in Trousdale County,T'\n",
      " 'Estimate of People Age 0-17 in Poverty in DeKalb County, I'\n",
      " 'Estimate of People of All Ages in Poverty in DeKalb County, I'\n",
      " 'Gross Domestic Product: All Industries in Greensville + Emporia County, V'\n",
      " 'Gross Domestic Product: All Industries in Haines Borough County, A'\n",
      " 'Gross Domestic Product: All Industries in Hampton (Independent City) County, V'\n",
      " 'Gross Domestic Product: All Industries in Henry + Martinsville County, V'\n",
      " 'Gross Domestic Product: All Industries in Hoonah-Angoon Census Area County, A'\n",
      " 'Gross Domestic Product: All Industries in James City + Williamsburg County, V'\n",
      " 'Gross Domestic Product: All Industries in Juneau City and Borough County, A'\n",
      " 'Gross Domestic Product: All Industries in Kenai Peninsula Borough County, A'\n",
      " 'Gross Domestic Product: All Industries in Ketchikan Gateway Borough County, A'\n",
      " 'Gross Domestic Product: All Industries in Kodiak Island Borough County, A'\n",
      " 'Gross Domestic Product: All Industries in Kusilvak Census Area County, A'\n",
      " 'Gross Domestic Product: All Industries in Lake and Peninsula Borough County, A'\n",
      " 'Gross Domestic Product: All Industries in Matanuska-Susitna Borough County, A'\n",
      " 'Gross Domestic Product: All Industries in Maui + Kalawao County, H']\n"
     ]
    }
   ],
   "source": [
    "ten_agg = df_series_table_no_disc.groupby('title').count()\n",
    "print(len(ten_agg[ten_agg.county_id == 1].index.values))\n",
    "print(ten_agg[ten_agg.county_id == 1].index.values[:20])"
   ]
  },
  {
   "cell_type": "code",
   "execution_count": 174,
   "metadata": {},
   "outputs": [],
   "source": [
    "county_index.at[33811, 'name'] = 'Greensville + Emporia County, VA'\n",
    "county_index.at[27411, 'name'] = 'Haines Borough County, AK'\n",
    "county_index.at[30257, 'name'] = 'Hampton (Independent City) County, VA'\n",
    "county_index.at[33812, 'name'] = 'Henry + Martinsville County, VA'\n",
    "county_index.at[33517, 'name'] = 'Hoonah-Angoon Census Area County, AK'\n",
    "county_index.at[33813, 'name'] = 'James City + Williamsburg County, VA'\n",
    "county_index.at[27412, 'name'] = 'Juneau City and Borough County, AK'\n",
    "county_index.at[27413, 'name'] = 'Kenai Peninsula Borough County, AK'\n",
    "county_index.at[27414, 'name'] = 'Ketchikan Gateway Borough County, AK'\n",
    "county_index.at[27415, 'name'] = 'Kodiak Island Borough County, AK'\n",
    "county_index.at[33897, 'name'] = 'Kusilvak Census Area County, AK'\n",
    "county_index.at[27416, 'name'] = 'Lake and Peninsula Borough County, AK'\n",
    "county_index.at[27417, 'name'] = 'Matanuska-Susitna Borough County, AK'\n",
    "county_index.at[33804, 'name'] = 'Maui + Kalawao County, HI'"
   ]
  },
  {
   "cell_type": "code",
   "execution_count": 175,
   "metadata": {},
   "outputs": [
    {
     "name": "stdout",
     "output_type": "stream",
     "text": [
      "603\n"
     ]
    },
    {
     "name": "stderr",
     "output_type": "stream",
     "text": [
      "C:\\Users\\srija\\Miniconda3\\envs\\housingpred\\lib\\site-packages\\pandas\\core\\generic.py:5303: SettingWithCopyWarning: \n",
      "A value is trying to be set on a copy of a slice from a DataFrame.\n",
      "Try using .loc[row_indexer,col_indexer] = value instead\n",
      "\n",
      "See the caveats in the documentation: https://pandas.pydata.org/pandas-docs/stable/user_guide/indexing.html#returning-a-view-versus-a-copy\n",
      "  self[name] = value\n"
     ]
    }
   ],
   "source": [
    "df_series_table_no_disc.title = df_series_table_no_disc.apply(rename_in_features, axis=1)\n",
    "print(len(df_series_table_no_disc.title.unique()))"
   ]
  },
  {
   "cell_type": "code",
   "execution_count": 176,
   "metadata": {},
   "outputs": [
    {
     "name": "stdout",
     "output_type": "stream",
     "text": [
      "308\n",
      "['All Employees: Administrative and Support and Waste Management and Remediation Services in '\n",
      " 'Civilian Labor Force in St. Louis [Independent City], M'\n",
      " 'Civilian Labor Force in the '\n",
      " 'Combined Violent and Property Crime Incidents Known to Law Enforcement in Trousdale County,T'\n",
      " 'Estimate of People Age 0-17 in Poverty in DeKalb County, I'\n",
      " 'Estimate of People of All Ages in Poverty in DeKalb County, I'\n",
      " 'Gross Domestic Product: All Industries in Montgomery + Radford County, V'\n",
      " 'Gross Domestic Product: All Industries in Newport News (Independent City) County, V'\n",
      " 'Gross Domestic Product: All Industries in Nome Census Area County, A'\n",
      " 'Gross Domestic Product: All Industries in Norfolk (Independent City) County, V'\n",
      " 'Gross Domestic Product: All Industries in North Slope Borough County, A'\n",
      " 'Gross Domestic Product: All Industries in Northwest Arctic Borough County, A'\n",
      " 'Gross Domestic Product: All Industries in Oglala Lakota County, S'\n",
      " 'Gross Domestic Product: All Industries in Petersburg Borough County, A'\n",
      " 'Gross Domestic Product: All Industries in Pittsylvania + Danville County, V'\n",
      " 'Gross Domestic Product: All Industries in Portsmouth (Independent City) County, V'\n",
      " 'Gross Domestic Product: All Industries in Prince George + Hopewell County, V'\n",
      " 'Gross Domestic Product: All Industries in Prince of Wales-Hyder Census Area County, A'\n",
      " 'Gross Domestic Product: All Industries in Richmond (Independent City) County, V'\n",
      " 'Gross Domestic Product: All Industries in Roanoke (Independent City) County, V']\n"
     ]
    }
   ],
   "source": [
    "elev_agg = df_series_table_no_disc.groupby('title').count()\n",
    "print(len(elev_agg[elev_agg.county_id == 1].index.values))\n",
    "print(elev_agg[elev_agg.county_id == 1].index.values[:20])"
   ]
  },
  {
   "cell_type": "code",
   "execution_count": 194,
   "metadata": {},
   "outputs": [
    {
     "name": "stdout",
     "output_type": "stream",
     "text": [
      "(307780, 8)\n"
     ]
    },
    {
     "name": "stderr",
     "output_type": "stream",
     "text": [
      "C:\\Users\\srija\\Miniconda3\\envs\\housingpred\\lib\\site-packages\\pandas\\core\\frame.py:3990: SettingWithCopyWarning: \n",
      "A value is trying to be set on a copy of a slice from a DataFrame\n",
      "\n",
      "See the caveats in the documentation: https://pandas.pydata.org/pandas-docs/stable/user_guide/indexing.html#returning-a-view-versus-a-copy\n",
      "  return super().drop(\n"
     ]
    }
   ],
   "source": [
    "df_series_table_no_disc.drop([229008, 229023], inplace=True)\n",
    "print(df_series_table_no_disc.shape)"
   ]
  },
  {
   "cell_type": "code",
   "execution_count": 214,
   "metadata": {},
   "outputs": [],
   "source": [
    "county_index.at[33814, 'name'] = 'Montgomery + Radford County, VA'\n",
    "county_index.at[30286, 'name'] = 'Newport News (Independent City) County, VA'\n",
    "county_index.at[27418, 'name'] = 'Nome Census Area County, AK'\n",
    "county_index.at[30287, 'name'] = 'Norfolk (Independent City) County, VA'\n",
    "county_index.at[27419, 'name'] = 'North Slope Borough County, AK'\n",
    "county_index.at[27420, 'name'] = 'Northwest Arctic Borough County, AK'\n",
    "county_index.at[33519, 'name'] = 'Petersburg Borough County, AK'\n",
    "county_index.at[33815, 'name'] = 'Pittsylvania + Danville County, VA'\n",
    "county_index.at[30298, 'name'] = 'Portsmouth (Independent City) County, VA'\n",
    "county_index.at[33816, 'name'] = 'Prince George + Hopewell County, VA'\n",
    "county_index.at[33520, 'name'] = 'Prince of Wales-Hyder Census Area County, AK'\n",
    "county_index.at[30307, 'name'] = 'Richmond (Independent City) County, VA'\n",
    "county_index.at[30309, 'name'] = 'Roanoke (Independent City) County, VA'\n",
    "county_index.at[33817, 'name'] = 'Roanoke + Salem County, VA'\n",
    "df_series_table_no_disc.at[229001, 'county_id'] = 33805\n",
    "df_series_table_no_disc.at[229002, 'county_id'] = 33805\n",
    "df_series_table_no_disc.at[229003, 'county_id'] = 33805\n",
    "df_series_table_no_disc.at[229004, 'county_id'] = 33805\n",
    "df_series_table_no_disc.at[229038, 'county_id'] = 33805\n",
    "df_series_table_no_disc.at[229039, 'county_id'] = 33805\n",
    "df_series_table_no_disc.at[229040, 'county_id'] = 33805\n",
    "df_series_table_no_disc.at[229041, 'county_id'] = 33805"
   ]
  },
  {
   "cell_type": "code",
   "execution_count": 215,
   "metadata": {},
   "outputs": [
    {
     "name": "stdout",
     "output_type": "stream",
     "text": [
      "481\n"
     ]
    },
    {
     "name": "stderr",
     "output_type": "stream",
     "text": [
      "C:\\Users\\srija\\Miniconda3\\envs\\housingpred\\lib\\site-packages\\pandas\\core\\generic.py:5303: SettingWithCopyWarning: \n",
      "A value is trying to be set on a copy of a slice from a DataFrame.\n",
      "Try using .loc[row_indexer,col_indexer] = value instead\n",
      "\n",
      "See the caveats in the documentation: https://pandas.pydata.org/pandas-docs/stable/user_guide/indexing.html#returning-a-view-versus-a-copy\n",
      "  self[name] = value\n"
     ]
    }
   ],
   "source": [
    "df_series_table_no_disc.title = df_series_table_no_disc.apply(rename_in_features, axis=1)\n",
    "print(len(df_series_table_no_disc.title.unique()))"
   ]
  },
  {
   "cell_type": "code",
   "execution_count": 219,
   "metadata": {},
   "outputs": [
    {
     "name": "stdout",
     "output_type": "stream",
     "text": [
      "186\n",
      "['All Employees: Administrative and Support and Waste Management and Remediation Services in '\n",
      " 'Civilian Labor Force in St. Louis [Independent City], M'\n",
      " 'Civilian Labor Force in the '\n",
      " 'Combined Violent and Property Crime Incidents Known to Law Enforcement in Trousdale County,T'\n",
      " 'Estimate of People Age 0-17 in Poverty in DeKalb County, I'\n",
      " 'Estimate of People of All Ages in Poverty in DeKalb County, I'\n",
      " 'Gross Domestic Product: All Industries in Rockingham + Harrisonburg County, V'\n",
      " 'Gross Domestic Product: All Industries in Sitka City and Borough County, A'\n",
      " 'Gross Domestic Product: All Industries in Skagway Municipality County, A'\n",
      " 'Gross Domestic Product: All Industries in Southampton + Franklin County, V'\n",
      " 'Gross Domestic Product: All Industries in Southeast Fairbanks Census Area County, A'\n",
      " 'Gross Domestic Product: All Industries in Spotsylvania + Fredericksburg County, V'\n",
      " 'Gross Domestic Product: All Industries in St. Louis (Independent City) County, M'\n",
      " 'Gross Domestic Product: All Industries in Suffolk (Independent City) County, V'\n",
      " 'Gross Domestic Product: All Industries in Valdez-Cordova Census Area County, A'\n",
      " 'Gross Domestic Product: All Industries in Virginia Beach (Independent City) County, V'\n",
      " 'Gross Domestic Product: All Industries in Washington + Bristol County, V'\n",
      " 'Gross Domestic Product: All Industries in Wise + Norton County, V'\n",
      " 'Gross Domestic Product: All Industries in Wrangell City and Borough County, A'\n",
      " 'Gross Domestic Product: All Industries in York + Poquoson County, V']\n"
     ]
    }
   ],
   "source": [
    "twelv_agg = df_series_table_no_disc.groupby('title').count()\n",
    "print(len(twelv_agg[twelv_agg.county_id == 1].index.values))\n",
    "print(twelv_agg[twelv_agg.county_id == 1].index.values[:20])"
   ]
  },
  {
   "cell_type": "code",
   "execution_count": 251,
   "metadata": {},
   "outputs": [],
   "source": [
    "county_index.at[33818, 'name'] = 'Rockingham + Harrisonburg County, VA'\n",
    "county_index.at[27422, 'name'] = 'Sitka City and Borough County, AK'\n",
    "county_index.at[33516, 'name'] = 'Skagway Municipality County, AK'\n",
    "county_index.at[33819, 'name'] = 'Southampton + Franklin County, VA'\n",
    "county_index.at[27424, 'name'] = 'Southeast Fairbanks Census Area County, AK'\n",
    "county_index.at[33820, 'name'] = 'Spotsylvania + Fredericksburg County, VA'\n",
    "county_index.at[28941, 'name'] = 'St. Louis (Independent City) County, MO'\n",
    "county_index.at[30322, 'name'] = 'Suffolk (Independent City) County, VA'\n",
    "county_index.at[27425, 'name'] = 'Valdez-Cordova Census Area County, AK'\n",
    "county_index.at[30326, 'name'] = 'Virginia Beach (Independent City) County, VA'\n",
    "county_index.at[33821, 'name'] = 'Washington + Bristol County, VA'\n",
    "county_index.at[33822, 'name'] = 'Wise + Norton County, VA'\n",
    "county_index.at[33518, 'name'] = 'Wrangell City and Borough County, AK'\n",
    "county_index.at[33823, 'name'] = 'York + Poquoson County, VA'"
   ]
  },
  {
   "cell_type": "code",
   "execution_count": 252,
   "metadata": {},
   "outputs": [
    {
     "name": "stdout",
     "output_type": "stream",
     "text": [
      "369\n"
     ]
    },
    {
     "name": "stderr",
     "output_type": "stream",
     "text": [
      "C:\\Users\\srija\\Miniconda3\\envs\\housingpred\\lib\\site-packages\\pandas\\core\\generic.py:5303: SettingWithCopyWarning: \n",
      "A value is trying to be set on a copy of a slice from a DataFrame.\n",
      "Try using .loc[row_indexer,col_indexer] = value instead\n",
      "\n",
      "See the caveats in the documentation: https://pandas.pydata.org/pandas-docs/stable/user_guide/indexing.html#returning-a-view-versus-a-copy\n",
      "  self[name] = value\n"
     ]
    }
   ],
   "source": [
    "df_series_table_no_disc.title = df_series_table_no_disc.apply(rename_in_features, axis=1)\n",
    "print(len(df_series_table_no_disc.title.unique()))"
   ]
  },
  {
   "cell_type": "code",
   "execution_count": 253,
   "metadata": {},
   "outputs": [
    {
     "name": "stdout",
     "output_type": "stream",
     "text": [
      "74\n",
      "['All Employees: Administrative and Support and Waste Management and Remediation Services in '\n",
      " 'Civilian Labor Force in St. Louis [Independent City], M'\n",
      " 'Civilian Labor Force in the '\n",
      " 'Combined Violent and Property Crime Incidents Known to Law Enforcement in Trousdale County,T'\n",
      " 'Estimate of People Age 0-17 in Poverty in DeKalb County, I'\n",
      " 'Estimate of People of All Ages in Poverty in DeKalb County, I'\n",
      " 'Gross Domestic Product: All Industries in Yukon-Koyukuk Census Area County, A'\n",
      " 'Gross Domestic Product: Government and Government Enterprises in Yukon-Koyukuk Census Area County, A'\n",
      " 'Gross Domestic Product: Private Goods-Producing Industries in Yukon-Koyukuk Census Area County, A'\n",
      " 'Gross Domestic Product: Private Services-Providing Industries in Yukon-Koyukuk Census Area County, A'\n",
      " 'High School Graduate or Higher (5-year estimate) in the '\n",
      " 'Housing Inventory: Active Listing Count Month-Over-Month in DeKalb County, I'\n",
      " 'Housing Inventory: Active Listing Count Year-Over-Year in DeKalb County, I'\n",
      " 'Housing Inventory: Active Listing Count in DeKalb County, I'\n",
      " 'Housing Inventory: Average Listing Price Month-Over-Month in DeKalb County, I'\n",
      " 'Housing Inventory: Average Listing Price Year-Over-Year in DeKalb County, I'\n",
      " 'Housing Inventory: Average Listing Price in DeKalb County, I'\n",
      " 'Housing Inventory: Median Days on Market Month-Over-Month in DeKalb County, I'\n",
      " 'Housing Inventory: Median Days on Market Year-Over-Year in DeKalb County, I'\n",
      " 'Housing Inventory: Median Days on Market in DeKalb County, I']\n"
     ]
    }
   ],
   "source": [
    "thirt_agg = df_series_table_no_disc.groupby('title').count()\n",
    "print(len(thirt_agg[thirt_agg.county_id == 1].index.values))\n",
    "print(thirt_agg[thirt_agg.county_id == 1].index.values[:20])"
   ]
  },
  {
   "cell_type": "code",
   "execution_count": 262,
   "metadata": {},
   "outputs": [],
   "source": [
    "county_index.at[27957, 'name'] = 'DeKalb County, IL'\n",
    "county_index.at[28058, 'name'] = 'DeKalb County, IN'"
   ]
  },
  {
   "cell_type": "code",
   "execution_count": 263,
   "metadata": {},
   "outputs": [
    {
     "name": "stdout",
     "output_type": "stream",
     "text": [
      "283\n"
     ]
    },
    {
     "name": "stderr",
     "output_type": "stream",
     "text": [
      "C:\\Users\\srija\\Miniconda3\\envs\\housingpred\\lib\\site-packages\\pandas\\core\\generic.py:5303: SettingWithCopyWarning: \n",
      "A value is trying to be set on a copy of a slice from a DataFrame.\n",
      "Try using .loc[row_indexer,col_indexer] = value instead\n",
      "\n",
      "See the caveats in the documentation: https://pandas.pydata.org/pandas-docs/stable/user_guide/indexing.html#returning-a-view-versus-a-copy\n",
      "  self[name] = value\n"
     ]
    }
   ],
   "source": [
    "df_series_table_no_disc.title = df_series_table_no_disc.apply(rename_in_features, axis=1)\n",
    "print(len(df_series_table_no_disc.title.unique()))"
   ]
  },
  {
   "cell_type": "code",
   "execution_count": 264,
   "metadata": {},
   "outputs": [
    {
     "name": "stdout",
     "output_type": "stream",
     "text": [
      "35\n",
      "['All Employees: Administrative and Support and Waste Management and Remediation Services in '\n",
      " 'Civilian Labor Force in St. Louis [Independent City], M'\n",
      " 'Civilian Labor Force in the '\n",
      " 'Combined Violent and Property Crime Incidents Known to Law Enforcement in Trousdale County,T'\n",
      " 'Gross Domestic Product: All Industries in Yukon-Koyukuk Census Area County, A'\n",
      " 'Gross Domestic Product: Government and Government Enterprises in Yukon-Koyukuk Census Area County, A'\n",
      " 'Gross Domestic Product: Private Goods-Producing Industries in Yukon-Koyukuk Census Area County, A'\n",
      " 'Gross Domestic Product: Private Services-Providing Industries in Yukon-Koyukuk Census Area County, A'\n",
      " 'High School Graduate or Higher (5-year estimate) in the '\n",
      " 'Per Capita Personal Income in Skagway-Yakutat-Angoon Census Area, A'\n",
      " 'Per Capita Personal Income in the '\n",
      " 'Personal Income in Skagway-Yakutat-Angoon Census Area, A'\n",
      " 'Personal Income in the '\n",
      " 'Real Gross Domestic Product: All Industries in Dinwiddie, Colonial Heights + Petersburg Virginia County, V'\n",
      " 'Real Gross Domestic Product: All Industries in Prince William, Manassas + Manassas Park Virginia County, V'\n",
      " 'Real Gross Domestic Product: All Industries in Yukon-Koyukuk Census Area County, A'\n",
      " 'Real Gross Domestic Product: Government and Government Enterprises in Dinwiddie, Colonial Heights + Petersburg Virginia County, V'\n",
      " 'Real Gross Domestic Product: Government and Government Enterprises in Prince William, Manassas + Manassas Park Virginia County, V'\n",
      " 'Real Gross Domestic Product: Government and Government Enterprises in Yukon-Koyukuk Census Area County, A'\n",
      " 'Real Gross Domestic Product: Private Goods-Producing Industries in Dinwiddie, Colonial Heights + Petersburg Virginia County, V']\n"
     ]
    }
   ],
   "source": [
    "fourt_agg = df_series_table_no_disc.groupby('title').count()\n",
    "print(len(fourt_agg[fourt_agg.county_id == 1].index.values))\n",
    "print(fourt_agg[fourt_agg.county_id == 1].index.values[:20])"
   ]
  },
  {
   "cell_type": "code",
   "execution_count": 271,
   "metadata": {},
   "outputs": [],
   "source": [
    "county_index.at[27428, 'name'] = 'Yukon-Koyukuk Census Area County, AK'\n",
    "county_index.at[33925, 'name'] = 'Dinwiddie, Colonial Heights + Petersburg Virginia County, VA'\n",
    "county_index.at[33929, 'name'] = 'Prince William, Manassas + Manassas Park Virginia County, VA'\n",
    "county_index.at[33925, 'name'] = 'Dinwiddie, Colonial Heights + Petersburg Virginia County, VA'\n",
    "county_index.at[33925, 'name'] = 'Dinwiddie, Colonial Heights + Petersburg Virginia County, VA'"
   ]
  },
  {
   "cell_type": "code",
   "execution_count": 272,
   "metadata": {},
   "outputs": [
    {
     "name": "stdout",
     "output_type": "stream",
     "text": [
      "267\n"
     ]
    },
    {
     "name": "stderr",
     "output_type": "stream",
     "text": [
      "C:\\Users\\srija\\Miniconda3\\envs\\housingpred\\lib\\site-packages\\pandas\\core\\generic.py:5303: SettingWithCopyWarning: \n",
      "A value is trying to be set on a copy of a slice from a DataFrame.\n",
      "Try using .loc[row_indexer,col_indexer] = value instead\n",
      "\n",
      "See the caveats in the documentation: https://pandas.pydata.org/pandas-docs/stable/user_guide/indexing.html#returning-a-view-versus-a-copy\n",
      "  self[name] = value\n"
     ]
    }
   ],
   "source": [
    "df_series_table_no_disc.title = df_series_table_no_disc.apply(rename_in_features, axis=1)\n",
    "print(len(df_series_table_no_disc.title.unique()))"
   ]
  },
  {
   "cell_type": "code",
   "execution_count": 273,
   "metadata": {},
   "outputs": [
    {
     "name": "stdout",
     "output_type": "stream",
     "text": [
      "19\n",
      "['All Employees: Administrative and Support and Waste Management and Remediation Services in '\n",
      " 'Civilian Labor Force in St. Louis [Independent City], M'\n",
      " 'Civilian Labor Force in the '\n",
      " 'Combined Violent and Property Crime Incidents Known to Law Enforcement in Trousdale County,T'\n",
      " 'High School Graduate or Higher (5-year estimate) in the '\n",
      " 'Per Capita Personal Income in Skagway-Yakutat-Angoon Census Area, A'\n",
      " 'Per Capita Personal Income in the '\n",
      " 'Personal Income in Skagway-Yakutat-Angoon Census Area, A'\n",
      " 'Personal Income in the ' 'Resident Population in Denver County/city, C'\n",
      " 'Resident Population in Elliot County, K'\n",
      " 'Resident Population in McCreary, K'\n",
      " 'Resident Population in Nantucket County/town, M'\n",
      " 'Resident Population in Prince of Wales-Hyder Census Area, A'\n",
      " 'Resident Population in Skagway Municipality, A'\n",
      " 'Resident Population in Wrangell City and Borough, A'\n",
      " 'SNAP Benefits Recipients in Petersburg Borough, A'\n",
      " 'Unemployment Rate in Kusilvak Census Area, A'\n",
      " 'Unemployment Rate in Petersburg Borough, A']\n"
     ]
    }
   ],
   "source": [
    "fiftee_agg = df_series_table_no_disc.groupby('title').count()\n",
    "print(len(fiftee_agg[fiftee_agg.county_id == 1].index.values))\n",
    "print(fiftee_agg[fiftee_agg.county_id == 1].index.values[:20])"
   ]
  },
  {
   "cell_type": "code",
   "execution_count": 295,
   "metadata": {},
   "outputs": [],
   "source": [
    "county_index.at[33519, 'name'] = 'Petersburg Borough, AK'\n",
    "county_index.at[28941, 'name'] = 'St. Louis [Independent City], MO'\n",
    "county_index.at[29887, 'name'] = 'Trousdale County,TN'\n",
    "county_index.at[27596, 'name'] = 'Denver County/city, CO'\n",
    "county_index.at[28372, 'name'] = 'Elliot County, KY'\n",
    "county_index.at[28420, 'name'] = 'McCreary, KY'\n",
    "county_index.at[28578, 'name'] = 'Nantucket County/town, MA'\n",
    "df_series_table_no_disc.at[300706, 'county_id'] = 33520"
   ]
  },
  {
   "cell_type": "code",
   "execution_count": 296,
   "metadata": {},
   "outputs": [
    {
     "name": "stdout",
     "output_type": "stream",
     "text": [
      "251\n"
     ]
    },
    {
     "name": "stderr",
     "output_type": "stream",
     "text": [
      "C:\\Users\\srija\\Miniconda3\\envs\\housingpred\\lib\\site-packages\\pandas\\core\\generic.py:5303: SettingWithCopyWarning: \n",
      "A value is trying to be set on a copy of a slice from a DataFrame.\n",
      "Try using .loc[row_indexer,col_indexer] = value instead\n",
      "\n",
      "See the caveats in the documentation: https://pandas.pydata.org/pandas-docs/stable/user_guide/indexing.html#returning-a-view-versus-a-copy\n",
      "  self[name] = value\n"
     ]
    }
   ],
   "source": [
    "df_series_table_no_disc.title = df_series_table_no_disc.apply(rename_in_features, axis=1)\n",
    "print(len(df_series_table_no_disc.title.unique()))"
   ]
  },
  {
   "cell_type": "code",
   "execution_count": 304,
   "metadata": {},
   "outputs": [
    {
     "name": "stdout",
     "output_type": "stream",
     "text": [
      "11\n",
      "['All Employees: Administrative and Support and Waste Management and Remediation Services in '\n",
      " 'Civilian Labor Force in the '\n",
      " 'High School Graduate or Higher (5-year estimate) in the '\n",
      " 'Per Capita Personal Income in Skagway-Yakutat-Angoon Census Area, A'\n",
      " 'Per Capita Personal Income in the '\n",
      " 'Personal Income in Skagway-Yakutat-Angoon Census Area, A'\n",
      " 'Personal Income in the '\n",
      " 'Resident Population in Prince of Wales-Hyder Census Area, A'\n",
      " 'Resident Population in Skagway Municipality, A'\n",
      " 'Resident Population in Wrangell City and Borough, A'\n",
      " 'Unemployment Rate in Kusilvak Census Area, A']\n"
     ]
    }
   ],
   "source": [
    "sixtee_agg = df_series_table_no_disc.groupby('title').count()\n",
    "print(len(sixtee_agg[sixtee_agg.county_id == 1].index.values))\n",
    "print(sixtee_agg[sixtee_agg.county_id == 1].index.values[:20])"
   ]
  },
  {
   "cell_type": "code",
   "execution_count": 320,
   "metadata": {},
   "outputs": [
    {
     "name": "stderr",
     "output_type": "stream",
     "text": [
      "C:\\Users\\srija\\Miniconda3\\envs\\housingpred\\lib\\site-packages\\pandas\\core\\frame.py:3990: SettingWithCopyWarning: \n",
      "A value is trying to be set on a copy of a slice from a DataFrame\n",
      "\n",
      "See the caveats in the documentation: https://pandas.pydata.org/pandas-docs/stable/user_guide/indexing.html#returning-a-view-versus-a-copy\n",
      "  return super().drop(\n"
     ]
    }
   ],
   "source": [
    "df_series_table_no_disc.at[301120, 'county_id'] = 33897\n",
    "county_index.at[33897, 'name'] = 'Kusilvak Census Area, AK'\n",
    "df_series_table_no_disc.at[301227, 'county_id'] = 33518\n",
    "county_index.at[33518, 'name'] = 'Wrangell City and Borough, AK'\n",
    "df_series_table_no_disc.at[300814, 'county_id'] = 33516\n",
    "county_index.at[33516, 'name'] = 'Skagway Municipality, AK'\n",
    "df_series_table_no_disc.drop([300821, 300839], inplace=True)\n",
    "county_index.at[33520, 'name'] = 'Prince of Wales-Hyder Census Area, AK'"
   ]
  },
  {
   "cell_type": "code",
   "execution_count": 321,
   "metadata": {},
   "outputs": [
    {
     "name": "stdout",
     "output_type": "stream",
     "text": [
      "245\n"
     ]
    },
    {
     "name": "stderr",
     "output_type": "stream",
     "text": [
      "C:\\Users\\srija\\Miniconda3\\envs\\housingpred\\lib\\site-packages\\pandas\\core\\generic.py:5303: SettingWithCopyWarning: \n",
      "A value is trying to be set on a copy of a slice from a DataFrame.\n",
      "Try using .loc[row_indexer,col_indexer] = value instead\n",
      "\n",
      "See the caveats in the documentation: https://pandas.pydata.org/pandas-docs/stable/user_guide/indexing.html#returning-a-view-versus-a-copy\n",
      "  self[name] = value\n"
     ]
    }
   ],
   "source": [
    "df_series_table_no_disc.title = df_series_table_no_disc.apply(rename_in_features, axis=1)\n",
    "print(len(df_series_table_no_disc.title.unique()))"
   ]
  },
  {
   "cell_type": "code",
   "execution_count": 322,
   "metadata": {},
   "outputs": [
    {
     "name": "stdout",
     "output_type": "stream",
     "text": [
      "5\n",
      "['All Employees: Administrative and Support and Waste Management and Remediation Services in '\n",
      " 'Civilian Labor Force in the '\n",
      " 'High School Graduate or Higher (5-year estimate) in the '\n",
      " 'Per Capita Personal Income in the ' 'Personal Income in the ']\n"
     ]
    }
   ],
   "source": [
    "sevtee_agg = df_series_table_no_disc.groupby('title').count()\n",
    "print(len(sevtee_agg[sevtee_agg.county_id == 1].index.values))\n",
    "print(sevtee_agg[sevtee_agg.county_id == 1].index.values[:20])"
   ]
  },
  {
   "cell_type": "code",
   "execution_count": 336,
   "metadata": {},
   "outputs": [
    {
     "name": "stderr",
     "output_type": "stream",
     "text": [
      "C:\\Users\\srija\\Miniconda3\\envs\\housingpred\\lib\\site-packages\\pandas\\core\\indexing.py:966: SettingWithCopyWarning: \n",
      "A value is trying to be set on a copy of a slice from a DataFrame.\n",
      "Try using .loc[row_indexer,col_indexer] = value instead\n",
      "\n",
      "See the caveats in the documentation: https://pandas.pydata.org/pandas-docs/stable/user_guide/indexing.html#returning-a-view-versus-a-copy\n",
      "  self.obj[item] = s\n"
     ]
    }
   ],
   "source": [
    "df_series_table_no_disc.at[df_series_table_no_disc.title == 'Civilian Labor Force in the ', 'title'] = 'Civilian Labor Force'"
   ]
  },
  {
   "cell_type": "code",
   "execution_count": 349,
   "metadata": {},
   "outputs": [
    {
     "name": "stderr",
     "output_type": "stream",
     "text": [
      "C:\\Users\\srija\\Miniconda3\\envs\\housingpred\\lib\\site-packages\\pandas\\core\\indexing.py:966: SettingWithCopyWarning: \n",
      "A value is trying to be set on a copy of a slice from a DataFrame.\n",
      "Try using .loc[row_indexer,col_indexer] = value instead\n",
      "\n",
      "See the caveats in the documentation: https://pandas.pydata.org/pandas-docs/stable/user_guide/indexing.html#returning-a-view-versus-a-copy\n",
      "  self.obj[item] = s\n"
     ]
    }
   ],
   "source": [
    "df_series_table_no_disc.loc[df_series_table_no_disc.title == 'High School Graduate or Higher (5-year estimate) in the ', 'title'] = 'High School Graduate or Higher (5-year estimate)'\n",
    "df_series_table_no_disc.loc[df_series_table_no_disc.title == 'Personal Income in the ', 'title'] = 'Personal Income'\n",
    "df_series_table_no_disc.loc[df_series_table_no_disc.title == 'Per Capita Personal Income in the ', 'title'] = 'Per Capita Personal Income'\n",
    "df_series_table_no_disc.loc[df_series_table_no_disc.title == 'All Employees: Administrative and Support and Waste Management and Remediation Services in ', 'title'] = 'All Employees: Administrative and Support and Waste Management and Remediation Services'\n",
    "df_series_table_no_disc.loc[df_series_table_no_disc.title.str.match('.*Unemployment Rate in the'),'title'] = 'Unemployment Rate'\n",
    "df_series_table_no_disc.loc[df_series_table_no_disc.title.str.match('.*Unemployment Rate in '),'title'] = 'Unemployment Rate'"
   ]
  },
  {
   "cell_type": "markdown",
   "metadata": {},
   "source": [
    "Now let's check out the remaining featues with low counts"
   ]
  },
  {
   "cell_type": "code",
   "execution_count": 386,
   "metadata": {},
   "outputs": [
    {
     "data": {
      "text/html": [
       "<div>\n",
       "<style scoped>\n",
       "    .dataframe tbody tr th:only-of-type {\n",
       "        vertical-align: middle;\n",
       "    }\n",
       "\n",
       "    .dataframe tbody tr th {\n",
       "        vertical-align: top;\n",
       "    }\n",
       "\n",
       "    .dataframe thead th {\n",
       "        text-align: right;\n",
       "    }\n",
       "</style>\n",
       "<table border=\"1\" class=\"dataframe\">\n",
       "  <thead>\n",
       "    <tr style=\"text-align: right;\">\n",
       "      <th></th>\n",
       "      <th>frequency</th>\n",
       "      <th>id</th>\n",
       "      <th>observation_end</th>\n",
       "      <th>observation_start</th>\n",
       "      <th>seasonal_adjustment</th>\n",
       "      <th>units</th>\n",
       "      <th>county_id</th>\n",
       "    </tr>\n",
       "    <tr>\n",
       "      <th>title</th>\n",
       "      <th></th>\n",
       "      <th></th>\n",
       "      <th></th>\n",
       "      <th></th>\n",
       "      <th></th>\n",
       "      <th></th>\n",
       "      <th></th>\n",
       "    </tr>\n",
       "  </thead>\n",
       "  <tbody>\n",
       "    <tr>\n",
       "      <th>All Employees: Transportation and Utilities: Transportation, Warehousing, and Utilities</th>\n",
       "      <td>3</td>\n",
       "      <td>3</td>\n",
       "      <td>3</td>\n",
       "      <td>3</td>\n",
       "      <td>3</td>\n",
       "      <td>3</td>\n",
       "      <td>3</td>\n",
       "    </tr>\n",
       "    <tr>\n",
       "      <th>All Employees: Health Care: Hospitals</th>\n",
       "      <td>3</td>\n",
       "      <td>3</td>\n",
       "      <td>3</td>\n",
       "      <td>3</td>\n",
       "      <td>3</td>\n",
       "      <td>3</td>\n",
       "      <td>3</td>\n",
       "    </tr>\n",
       "    <tr>\n",
       "      <th>All Employees: Information</th>\n",
       "      <td>3</td>\n",
       "      <td>3</td>\n",
       "      <td>3</td>\n",
       "      <td>3</td>\n",
       "      <td>3</td>\n",
       "      <td>3</td>\n",
       "      <td>3</td>\n",
       "    </tr>\n",
       "    <tr>\n",
       "      <th>All Employees: Leisure and Hospitality</th>\n",
       "      <td>3</td>\n",
       "      <td>3</td>\n",
       "      <td>3</td>\n",
       "      <td>3</td>\n",
       "      <td>3</td>\n",
       "      <td>3</td>\n",
       "      <td>3</td>\n",
       "    </tr>\n",
       "    <tr>\n",
       "      <th>All Employees: Manufacturing</th>\n",
       "      <td>3</td>\n",
       "      <td>3</td>\n",
       "      <td>3</td>\n",
       "      <td>3</td>\n",
       "      <td>3</td>\n",
       "      <td>3</td>\n",
       "      <td>3</td>\n",
       "    </tr>\n",
       "    <tr>\n",
       "      <th>...</th>\n",
       "      <td>...</td>\n",
       "      <td>...</td>\n",
       "      <td>...</td>\n",
       "      <td>...</td>\n",
       "      <td>...</td>\n",
       "      <td>...</td>\n",
       "      <td>...</td>\n",
       "    </tr>\n",
       "    <tr>\n",
       "      <th>90% Confidence Interval Upper Bound of Estimate of Percent of Related Children Age 5-17 in Families in Poverty</th>\n",
       "      <td>3150</td>\n",
       "      <td>3150</td>\n",
       "      <td>3150</td>\n",
       "      <td>3150</td>\n",
       "      <td>3150</td>\n",
       "      <td>3150</td>\n",
       "      <td>3150</td>\n",
       "    </tr>\n",
       "    <tr>\n",
       "      <th>Employed Persons</th>\n",
       "      <td>6134</td>\n",
       "      <td>6134</td>\n",
       "      <td>6134</td>\n",
       "      <td>6134</td>\n",
       "      <td>6134</td>\n",
       "      <td>6134</td>\n",
       "      <td>6134</td>\n",
       "    </tr>\n",
       "    <tr>\n",
       "      <th>Unemployed Persons</th>\n",
       "      <td>6134</td>\n",
       "      <td>6134</td>\n",
       "      <td>6134</td>\n",
       "      <td>6134</td>\n",
       "      <td>6134</td>\n",
       "      <td>6134</td>\n",
       "      <td>6134</td>\n",
       "    </tr>\n",
       "    <tr>\n",
       "      <th>Civilian Labor Force</th>\n",
       "      <td>6189</td>\n",
       "      <td>6189</td>\n",
       "      <td>6189</td>\n",
       "      <td>6189</td>\n",
       "      <td>6189</td>\n",
       "      <td>6189</td>\n",
       "      <td>6189</td>\n",
       "    </tr>\n",
       "    <tr>\n",
       "      <th>Unemployment Rate</th>\n",
       "      <td>6288</td>\n",
       "      <td>6288</td>\n",
       "      <td>6288</td>\n",
       "      <td>6288</td>\n",
       "      <td>6288</td>\n",
       "      <td>6288</td>\n",
       "      <td>6288</td>\n",
       "    </tr>\n",
       "  </tbody>\n",
       "</table>\n",
       "<p>238 rows × 7 columns</p>\n",
       "</div>"
      ],
      "text/plain": [
       "                                                    frequency    id  \\\n",
       "title                                                                 \n",
       "All Employees: Transportation and Utilities: Tr...          3     3   \n",
       "All Employees: Health Care: Hospitals                       3     3   \n",
       "All Employees: Information                                  3     3   \n",
       "All Employees: Leisure and Hospitality                      3     3   \n",
       "All Employees: Manufacturing                                3     3   \n",
       "...                                                       ...   ...   \n",
       "90% Confidence Interval Upper Bound of Estimate...       3150  3150   \n",
       "Employed Persons                                         6134  6134   \n",
       "Unemployed Persons                                       6134  6134   \n",
       "Civilian Labor Force                                     6189  6189   \n",
       "Unemployment Rate                                        6288  6288   \n",
       "\n",
       "                                                    observation_end  \\\n",
       "title                                                                 \n",
       "All Employees: Transportation and Utilities: Tr...                3   \n",
       "All Employees: Health Care: Hospitals                             3   \n",
       "All Employees: Information                                        3   \n",
       "All Employees: Leisure and Hospitality                            3   \n",
       "All Employees: Manufacturing                                      3   \n",
       "...                                                             ...   \n",
       "90% Confidence Interval Upper Bound of Estimate...             3150   \n",
       "Employed Persons                                               6134   \n",
       "Unemployed Persons                                             6134   \n",
       "Civilian Labor Force                                           6189   \n",
       "Unemployment Rate                                              6288   \n",
       "\n",
       "                                                    observation_start  \\\n",
       "title                                                                   \n",
       "All Employees: Transportation and Utilities: Tr...                  3   \n",
       "All Employees: Health Care: Hospitals                               3   \n",
       "All Employees: Information                                          3   \n",
       "All Employees: Leisure and Hospitality                              3   \n",
       "All Employees: Manufacturing                                        3   \n",
       "...                                                               ...   \n",
       "90% Confidence Interval Upper Bound of Estimate...               3150   \n",
       "Employed Persons                                                 6134   \n",
       "Unemployed Persons                                               6134   \n",
       "Civilian Labor Force                                             6189   \n",
       "Unemployment Rate                                                6288   \n",
       "\n",
       "                                                    seasonal_adjustment  \\\n",
       "title                                                                     \n",
       "All Employees: Transportation and Utilities: Tr...                    3   \n",
       "All Employees: Health Care: Hospitals                                 3   \n",
       "All Employees: Information                                            3   \n",
       "All Employees: Leisure and Hospitality                                3   \n",
       "All Employees: Manufacturing                                          3   \n",
       "...                                                                 ...   \n",
       "90% Confidence Interval Upper Bound of Estimate...                 3150   \n",
       "Employed Persons                                                   6134   \n",
       "Unemployed Persons                                                 6134   \n",
       "Civilian Labor Force                                               6189   \n",
       "Unemployment Rate                                                  6288   \n",
       "\n",
       "                                                    units  county_id  \n",
       "title                                                                 \n",
       "All Employees: Transportation and Utilities: Tr...      3          3  \n",
       "All Employees: Health Care: Hospitals                   3          3  \n",
       "All Employees: Information                              3          3  \n",
       "All Employees: Leisure and Hospitality                  3          3  \n",
       "All Employees: Manufacturing                            3          3  \n",
       "...                                                   ...        ...  \n",
       "90% Confidence Interval Upper Bound of Estimate...   3150       3150  \n",
       "Employed Persons                                     6134       6134  \n",
       "Unemployed Persons                                   6134       6134  \n",
       "Civilian Labor Force                                 6189       6189  \n",
       "Unemployment Rate                                    6288       6288  \n",
       "\n",
       "[238 rows x 7 columns]"
      ]
     },
     "execution_count": 386,
     "metadata": {},
     "output_type": "execute_result"
    }
   ],
   "source": [
    "df_series_table_no_disc.groupby('title').count().sort_values('frequency')"
   ]
  },
  {
   "cell_type": "code",
   "execution_count": 398,
   "metadata": {},
   "outputs": [],
   "source": [
    "def remove_in_at_end(row):\n",
    "    if row.title[-4:] == ' in ':\n",
    "        return row.title[:-4]\n",
    "    else:\n",
    "        return row.title"
   ]
  },
  {
   "cell_type": "code",
   "execution_count": 399,
   "metadata": {},
   "outputs": [],
   "source": [
    "df_series_table_no_disc = df_series_table_no_disc.copy(deep=True)\n",
    "df_series_table_no_disc.title = df_series_table_no_disc.apply(remove_in_at_end, axis=1)"
   ]
  },
  {
   "cell_type": "code",
   "execution_count": 421,
   "metadata": {},
   "outputs": [],
   "source": [
    "corrected_series_table = df_series_table_no_disc\n",
    "# corrected_series_table.to_csv('cleaned_series_table.csv', index=False)"
   ]
  },
  {
   "cell_type": "markdown",
   "metadata": {},
   "source": [
    "#### Generate Aggregated Table"
   ]
  },
  {
   "cell_type": "code",
   "execution_count": 412,
   "metadata": {},
   "outputs": [
    {
     "name": "stdout",
     "output_type": "stream",
     "text": [
      "153\n"
     ]
    }
   ],
   "source": [
    "print(len(df_series_table_no_disc.title.unique()))\n",
    "output_agg = df_series_table_no_disc.groupby('title').count().sort_values('frequency')"
   ]
  },
  {
   "cell_type": "code",
   "execution_count": 414,
   "metadata": {},
   "outputs": [],
   "source": [
    "output_agg.to_csv('aggregated_features.csv')"
   ]
  }
 ],
 "metadata": {
  "kernelspec": {
   "display_name": "Python 3",
   "language": "python",
   "name": "python3"
  },
  "language_info": {
   "codemirror_mode": {
    "name": "ipython",
    "version": 3
   },
   "file_extension": ".py",
   "mimetype": "text/x-python",
   "name": "python",
   "nbconvert_exporter": "python",
   "pygments_lexer": "ipython3",
   "version": "3.8.1"
  }
 },
 "nbformat": 4,
 "nbformat_minor": 4
}
