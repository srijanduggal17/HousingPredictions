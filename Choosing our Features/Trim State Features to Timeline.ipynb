{
 "cells": [
  {
   "cell_type": "code",
   "execution_count": 1,
   "metadata": {},
   "outputs": [],
   "source": [
    "import pandas as pd\n",
    "import numpy as np\n",
    "import time\n",
    "import json\n",
    "from datetime import date\n",
    "from matplotlib import pyplot as plt"
   ]
  },
  {
   "cell_type": "code",
   "execution_count": 2,
   "metadata": {},
   "outputs": [],
   "source": [
    "state_level_feat = pd.read_csv('Choose State Level Features.csv')\n",
    "state_feat_info = pd.read_csv('state_series_table_all.csv')"
   ]
  },
  {
   "cell_type": "code",
   "execution_count": 3,
   "metadata": {},
   "outputs": [
    {
     "name": "stdout",
     "output_type": "stream",
     "text": [
      "(229, 2)\n",
      "(85514, 8)\n"
     ]
    }
   ],
   "source": [
    "print(state_level_feat.shape)\n",
    "print(state_feat_info.shape)"
   ]
  },
  {
   "cell_type": "code",
   "execution_count": 4,
   "metadata": {},
   "outputs": [],
   "source": [
    "chosen_state_feat = state_level_feat.title.values"
   ]
  },
  {
   "cell_type": "code",
   "execution_count": 5,
   "metadata": {},
   "outputs": [
    {
     "name": "stdout",
     "output_type": "stream",
     "text": [
      "['Housing Inventory: Active Listing Count in'\n",
      " 'Housing Inventory: Active Listing Count Month-Over-Month in'\n",
      " 'Housing Inventory: Active Listing Count Year-Over-Year in' ...\n",
      " 'Deposits in Insured Commercial Nonmember Banks in'\n",
      " 'Total Deposits in Commercial Nonmember Banks in'\n",
      " 'Total Deposits in Commercial Banks in']\n",
      "(14496, 8)\n"
     ]
    }
   ],
   "source": [
    "state_feat_info.title = state_feat_info.apply(lambda row: row['title'].strip(), axis=1)\n",
    "print(state_feat_info.title.values)\n",
    "chosen_state_feat_info = state_feat_info[state_feat_info.title.isin(chosen_state_feat)]\n",
    "print(chosen_state_feat_info.shape)"
   ]
  },
  {
   "cell_type": "code",
   "execution_count": 6,
   "metadata": {},
   "outputs": [
    {
     "name": "stdout",
     "output_type": "stream",
     "text": [
      "(1502, 8)\n",
      "(12945, 8)\n"
     ]
    }
   ],
   "source": [
    "late_features = chosen_state_feat_info[chosen_state_feat_info.observation_start > '2010-01-01']\n",
    "print(late_features.shape)\n",
    "late_features_to_drop = late_features.title.unique()\n",
    "state_feat_end_trim = chosen_state_feat_info[~chosen_state_feat_info.title.isin(late_features_to_drop)]\n",
    "print(state_feat_end_trim.shape)"
   ]
  },
  {
   "cell_type": "code",
   "execution_count": 7,
   "metadata": {},
   "outputs": [
    {
     "name": "stdout",
     "output_type": "stream",
     "text": [
      "(826, 8)\n",
      "(11984, 8)\n"
     ]
    }
   ],
   "source": [
    "early_features = state_feat_end_trim[state_feat_end_trim.observation_end < '2017-01-01']\n",
    "print(early_features.shape)\n",
    "early_features_to_drop = early_features.title.unique()\n",
    "state_feat_trim = state_feat_end_trim[~state_feat_end_trim.title.isin(early_features_to_drop)]\n",
    "print(state_feat_trim.shape)"
   ]
  },
  {
   "cell_type": "markdown",
   "metadata": {},
   "source": [
    "#### Check that we have each feature for every state that a county belongs to"
   ]
  },
  {
   "cell_type": "code",
   "execution_count": 8,
   "metadata": {},
   "outputs": [],
   "source": [
    "county_feat_trimmed = pd.read_csv('county_features_trimmed.csv')\n",
    "unique_county_ids = county_feat_trimmed.county_id.unique()\n",
    "df_county_ids = pd.DataFrame(data=unique_county_ids, columns=['county_id'])\n",
    "county_table = pd.read_csv('clipped_county_table.csv')"
   ]
  },
  {
   "cell_type": "code",
   "execution_count": 9,
   "metadata": {},
   "outputs": [],
   "source": [
    "joined = df_county_ids.merge(county_table, on='county_id', how='left')"
   ]
  },
  {
   "cell_type": "code",
   "execution_count": 10,
   "metadata": {},
   "outputs": [
    {
     "name": "stdout",
     "output_type": "stream",
     "text": [
      "46\n"
     ]
    }
   ],
   "source": [
    "states_needed = joined.state_id.unique()\n",
    "print(len(states_needed))"
   ]
  },
  {
   "cell_type": "markdown",
   "metadata": {},
   "source": [
    "Make sure you have every county for each feature and every state"
   ]
  },
  {
   "cell_type": "code",
   "execution_count": 11,
   "metadata": {},
   "outputs": [
    {
     "name": "stdout",
     "output_type": "stream",
     "text": [
      "['Monthly' 'Annual']\n",
      "['Monthly' 'Annual']\n",
      "['Monthly' 'Annual']\n",
      "['Monthly' 'Annual']\n",
      "['Monthly' 'Annual']\n",
      "['Monthly' 'Annual']\n",
      "['Monthly' 'Annual']\n",
      "['Monthly' 'Annual']\n",
      "['Monthly' 'Annual']\n",
      "['Monthly' 'Annual']\n",
      "['Monthly' 'Annual']\n",
      "['Monthly' 'Annual']\n",
      "['Monthly' 'Annual']\n",
      "['Monthly' 'Annual']\n",
      "['Monthly' 'Annual']\n",
      "['Monthly' 'Annual']\n",
      "['Monthly' 'Annual']\n",
      "['Monthly' 'Annual']\n",
      "['Monthly' 'Annual']\n",
      "['Monthly' 'Annual']\n",
      "['Monthly' 'Annual']\n",
      "['Annual' 'Quarterly']\n",
      "['Annual' 'Monthly']\n",
      "['Monthly' 'Annual']\n"
     ]
    }
   ],
   "source": [
    "state_freq_count = state_feat_trim.groupby('title').frequency.nunique()\n",
    "feat_with_multiple_frequencies = state_freq_count[state_freq_count > 1].index.values\n",
    "\n",
    "series_to_remove = []\n",
    "for feat in feat_with_multiple_frequencies:\n",
    "    df_cur_feat = state_feat_trim[state_feat_trim.title == feat]\n",
    "    print(df_cur_feat.frequency.unique())"
   ]
  },
  {
   "cell_type": "code",
   "execution_count": 12,
   "metadata": {},
   "outputs": [
    {
     "name": "stdout",
     "output_type": "stream",
     "text": [
      "Number of series to remove: 1151\n",
      "(10833, 8)\n"
     ]
    }
   ],
   "source": [
    "series_to_remove = []\n",
    "\n",
    "monthly_feat = feat_with_multiple_frequencies[:-3]\n",
    "monthly_feat = list(monthly_feat)\n",
    "monthly_feat.extend(feat_with_multiple_frequencies[-2:])\n",
    "\n",
    "annual_feat = feat_with_multiple_frequencies[-3:-2]\n",
    "for feat in annual_feat:\n",
    "    df_cur_feat = state_feat_trim[state_feat_trim.title == feat]\n",
    "    series_to_remove.extend(df_cur_feat[df_cur_feat.frequency == 'Quarterly'].id.values)\n",
    "\n",
    "for feat in monthly_feat:\n",
    "    df_cur_feat = state_feat_trim[state_feat_trim.title == feat]\n",
    "    series_to_remove.extend(df_cur_feat[df_cur_feat.frequency == 'Annual'].id.values)\n",
    "\n",
    "print('Number of series to remove:', len(series_to_remove))\n",
    "df_state_feat = state_feat_trim[~state_feat_trim.id.isin(series_to_remove)]\n",
    "print(df_state_feat.shape)"
   ]
  },
  {
   "cell_type": "code",
   "execution_count": 13,
   "metadata": {},
   "outputs": [
    {
     "name": "stdout",
     "output_type": "stream",
     "text": [
      "(9838, 8)\n"
     ]
    }
   ],
   "source": [
    "# Remove states that are not needed\n",
    "df_state_feat_final = df_state_feat[df_state_feat.state_id.isin(states_needed)]\n",
    "print(df_state_feat_final.shape)"
   ]
  },
  {
   "cell_type": "code",
   "execution_count": 14,
   "metadata": {},
   "outputs": [
    {
     "name": "stdout",
     "output_type": "stream",
     "text": [
      "2008-01-01\n",
      "2017-01-01\n",
      "181\n",
      "46\n",
      "title\n",
      "Accommodation and Food Services Earnings in                                          46\n",
      "Poverty Universe, Age 5-17 related for                                               46\n",
      "Poverty Universe, All Ages for                                                       46\n",
      "Poverty, Child Tax Exemptions for                                                    46\n",
      "Professional and Technical Services Earnings in                                      46\n",
      "                                                                                     ..\n",
      "Average Weekly Earnings of Production Employees: Manufacturing in                    92\n",
      "Average Weekly Earnings of All Employees: Trade, Transportation, and Utilities in    92\n",
      "Average Weekly Earnings of All Employees: Professional and Business Services in      92\n",
      "New Private Housing Units Authorized by Building Permits for                         92\n",
      "All Employees: Wholesale Trade in                                                    94\n",
      "Name: state_id, Length: 181, dtype: int64\n"
     ]
    }
   ],
   "source": [
    "# Check that we have each feature for each state\n",
    "print(df_state_feat_final.observation_start.max())\n",
    "print(df_state_feat_final.observation_end.min())\n",
    "print(df_state_feat_final.title.nunique())\n",
    "print(df_state_feat_final.state_id.nunique())\n",
    "agg_state = df_state_feat_final.groupby('title').state_id.count()\n",
    "print(agg_state.sort_values())"
   ]
  },
  {
   "cell_type": "markdown",
   "metadata": {},
   "source": [
    "Seems like we have duplicate series or something for some things"
   ]
  },
  {
   "cell_type": "code",
   "execution_count": 15,
   "metadata": {},
   "outputs": [
    {
     "name": "stdout",
     "output_type": "stream",
     "text": [
      "1510\n"
     ]
    }
   ],
   "source": [
    "df_out_adj_count = df_state_feat_final.groupby('title').seasonal_adjustment.nunique()\n",
    "df_out_mult_adj = df_out_adj_count[df_out_adj_count > 1].index.values\n",
    "\n",
    "series_to_remove = []\n",
    "for feat in df_out_mult_adj:\n",
    "    df_cur_feat = df_state_feat_final[df_state_feat_final.title == feat]\n",
    "    series_to_remove.extend(df_cur_feat[df_cur_feat.seasonal_adjustment == 'Not Seasonally Adjusted'].id.values)\n",
    "\n",
    "print(len(series_to_remove))"
   ]
  },
  {
   "cell_type": "markdown",
   "metadata": {},
   "source": [
    "Remove series that are not seasonally adjusted and keep the seasonally adjusted ones"
   ]
  },
  {
   "cell_type": "code",
   "execution_count": 16,
   "metadata": {},
   "outputs": [
    {
     "name": "stdout",
     "output_type": "stream",
     "text": [
      "(8328, 8)\n"
     ]
    }
   ],
   "source": [
    "df_out_fin = df_state_feat_final[~df_state_feat_final.id.isin(series_to_remove)]\n",
    "print(df_out_fin.shape)"
   ]
  },
  {
   "cell_type": "code",
   "execution_count": 17,
   "metadata": {},
   "outputs": [
    {
     "name": "stdout",
     "output_type": "stream",
     "text": [
      "2008-01-01\n",
      "2017-01-01\n",
      "181\n",
      "46\n",
      "title\n",
      "Accommodation and Food Services Earnings in                      46\n",
      "Professional and Technical Services Earnings in                  46\n",
      "Professional and Technical Services Wages and Salaries in        46\n",
      "Projected Business Formations Within 4 Quarters for              46\n",
      "Projected Business Formations within 8 Quarters for              46\n",
      "                                                                 ..\n",
      "Implicit Regional Price Deflator: Metropolitan Portion for       46\n",
      "Implicit Regional Price Deflator: Nonmetropolitan Portion for    46\n",
      "Imports of Goods for                                             46\n",
      "Exports of Goods for                                             46\n",
      "All Employees: Wholesale Trade in                                48\n",
      "Name: state_id, Length: 181, dtype: int64\n"
     ]
    }
   ],
   "source": [
    "# Check that we have each feature for each state\n",
    "print(df_out_fin.observation_start.max())\n",
    "print(df_out_fin.observation_end.min())\n",
    "print(df_out_fin.title.nunique())\n",
    "print(df_out_fin.state_id.nunique())\n",
    "agg_fin = df_out_fin.groupby('title').state_id.count()\n",
    "print(agg_fin.sort_values())"
   ]
  },
  {
   "cell_type": "markdown",
   "metadata": {},
   "source": [
    "Looks like we still have something going on with All Employees: Wholesale Trade in"
   ]
  },
  {
   "cell_type": "code",
   "execution_count": 18,
   "metadata": {},
   "outputs": [
    {
     "name": "stdout",
     "output_type": "stream",
     "text": [
      "                           id                              title  \\\n",
      "30612    SMS22000004100000001  All Employees: Wholesale Trade in   \n",
      "30798  SMU22000004100000001SA  All Employees: Wholesale Trade in   \n",
      "\n",
      "      observation_start observation_end frequency                 units  \\\n",
      "30612        1990-01-01      2020-02-01   Monthly  Thousands of Persons   \n",
      "30798        1990-01-01      2017-01-01   Monthly  Thousands of Persons   \n",
      "\n",
      "       seasonal_adjustment  state_id  \n",
      "30612  Seasonally Adjusted     27300  \n",
      "30798  Seasonally Adjusted     27300  \n",
      "                           id                              title  \\\n",
      "67609    SMS45000004100000001  All Employees: Wholesale Trade in   \n",
      "67769  SMU45000004100000001SA  All Employees: Wholesale Trade in   \n",
      "\n",
      "      observation_start observation_end frequency                 units  \\\n",
      "67609        1990-01-01      2020-02-01   Monthly  Thousands of Persons   \n",
      "67769        1990-01-01      2020-02-01   Monthly  Thousands of Persons   \n",
      "\n",
      "       seasonal_adjustment  state_id  \n",
      "67609  Seasonally Adjusted     27323  \n",
      "67769  Seasonally Adjusted     27323  \n"
     ]
    }
   ],
   "source": [
    "temp = df_out_fin[df_out_fin.title.str.match('All Employees: Wholesale')]\n",
    "# print(temp.sort_values('state_id'))\n",
    "print(temp[temp.state_id == 27300])  \n",
    "print(temp[temp.state_id == 27323])  "
   ]
  },
  {
   "cell_type": "markdown",
   "metadata": {},
   "source": [
    "We will drop SMS22000004100000001 and SMS45000004100000001"
   ]
  },
  {
   "cell_type": "code",
   "execution_count": 19,
   "metadata": {},
   "outputs": [],
   "source": [
    "df_state_features_out = df_out_fin[~df_out_fin.id.isin(['SMS22000004100000001', 'SMS45000004100000001'])]"
   ]
  },
  {
   "cell_type": "markdown",
   "metadata": {},
   "source": [
    "Rename state features with prefix: ST"
   ]
  },
  {
   "cell_type": "code",
   "execution_count": 21,
   "metadata": {},
   "outputs": [
    {
     "data": {
      "text/plain": [
       "3                    ST_Age 65 and Over Tax Exemptions for\n",
       "45       ST_Allowance for Loan and Lease Losses for Com...\n",
       "77       ST_Allocated Transfer Risk Reserves for Commer...\n",
       "110      ST_New Private Housing Units Authorized by Bui...\n",
       "112      ST_New Private Housing Units Authorized by Bui...\n",
       "                               ...                        \n",
       "85485                ST_Retail Trade Wages and Salaries in\n",
       "85486                       ST_Total Wages and Salaries in\n",
       "85487    ST_Transportation and Warehousing Wages and Sa...\n",
       "85488                   ST_Utilities Wages and Salaries in\n",
       "85489             ST_Wholesale Trade Wages and Salaries in\n",
       "Name: title, Length: 8326, dtype: object"
      ]
     },
     "execution_count": 21,
     "metadata": {},
     "output_type": "execute_result"
    }
   ],
   "source": [
    "df_state_features_out.title.apply(lambda title: 'ST_{}'.format(title))"
   ]
  },
  {
   "cell_type": "code",
   "execution_count": 22,
   "metadata": {},
   "outputs": [
    {
     "name": "stdout",
     "output_type": "stream",
     "text": [
      "2008-01-01\n",
      "2017-01-01\n",
      "181\n",
      "46\n",
      "title\n",
      "Accommodation and Food Services Earnings in                      46\n",
      "Professional and Technical Services Earnings in                  46\n",
      "Professional and Technical Services Wages and Salaries in        46\n",
      "Projected Business Formations Within 4 Quarters for              46\n",
      "Projected Business Formations within 8 Quarters for              46\n",
      "                                                                 ..\n",
      "Implicit Regional Price Deflator for                             46\n",
      "Implicit Regional Price Deflator: Metropolitan Portion for       46\n",
      "Implicit Regional Price Deflator: Nonmetropolitan Portion for    46\n",
      "Imports of Goods: Manufactured Commodities for                   46\n",
      "Wholesale Trade Wages and Salaries in                            46\n",
      "Name: state_id, Length: 181, dtype: int64\n"
     ]
    }
   ],
   "source": [
    "# Check that we have each feature for each state\n",
    "print(df_state_features_out.observation_start.max())\n",
    "print(df_state_features_out.observation_end.min())\n",
    "print(df_state_features_out.title.nunique())\n",
    "print(df_state_features_out.state_id.nunique())\n",
    "agg_fin = df_state_features_out.groupby('title').state_id.count()\n",
    "print(agg_fin.sort_values())"
   ]
  },
  {
   "cell_type": "code",
   "execution_count": 23,
   "metadata": {},
   "outputs": [
    {
     "name": "stdout",
     "output_type": "stream",
     "text": [
      "2010-01-01\n",
      "2017-01-01\n",
      "73\n",
      "1985\n",
      "title\n",
      "90% Confidence Interval Lower Bound of Estimate of Median Household Income                     1985\n",
      "90% Confidence Interval Lower Bound of Estimate of People Age 0-17 in Poverty                  1985\n",
      "90% Confidence Interval Lower Bound of Estimate of People of All Ages in Poverty               1985\n",
      "90% Confidence Interval Lower Bound of Estimate of Percent of People Age 0-17 in Poverty       1985\n",
      "90% Confidence Interval Lower Bound of Estimate of Percent of People of All Ages in Poverty    1985\n",
      "                                                                                               ... \n",
      "Resident Population                                                                            1985\n",
      "SNAP Benefits Recipients                                                                       1985\n",
      "Single-parent Households with Children as a Percentage of Households with Children             1985\n",
      "Unemployed Persons                                                                             1985\n",
      "Unemployment Rate                                                                              1985\n",
      "Name: county_id, Length: 73, dtype: int64\n"
     ]
    }
   ],
   "source": [
    "# Check county level again\n",
    "trim_c_data = pd.read_csv('county_features_trimmed.csv')\n",
    "print(trim_c_data.observation_start.max())\n",
    "print(trim_c_data.observation_end.min())\n",
    "print(trim_c_data.title.nunique())\n",
    "print(trim_c_data.county_id.nunique())\n",
    "agg_county_fin = trim_c_data.groupby('title').county_id.count()\n",
    "print(agg_county_fin)"
   ]
  },
  {
   "cell_type": "markdown",
   "metadata": {},
   "source": [
    "### Finally"
   ]
  },
  {
   "cell_type": "code",
   "execution_count": 25,
   "metadata": {},
   "outputs": [],
   "source": [
    "trim_c_data.to_csv('county_features_final.csv')\n",
    "df_state_features_out.to_csv('state_features_final.csv')"
   ]
  }
 ],
 "metadata": {
  "kernelspec": {
   "display_name": "Python 3",
   "language": "python",
   "name": "python3"
  },
  "language_info": {
   "codemirror_mode": {
    "name": "ipython",
    "version": 3
   },
   "file_extension": ".py",
   "mimetype": "text/x-python",
   "name": "python",
   "nbconvert_exporter": "python",
   "pygments_lexer": "ipython3",
   "version": "3.8.1"
  }
 },
 "nbformat": 4,
 "nbformat_minor": 4
}
