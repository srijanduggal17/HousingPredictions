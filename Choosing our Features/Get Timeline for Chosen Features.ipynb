{
 "cells": [
  {
   "cell_type": "code",
   "execution_count": 3,
   "metadata": {},
   "outputs": [],
   "source": [
    "import pandas as pd\n",
    "import numpy as np\n",
    "import time\n",
    "import json\n",
    "from datetime import date\n",
    "from matplotlib import pyplot as plt"
   ]
  },
  {
   "cell_type": "code",
   "execution_count": 2,
   "metadata": {},
   "outputs": [],
   "source": [
    "county_level_feat = pd.read_csv('Choose County Level Features.csv')\n",
    "state_level_feat = pd.read_csv('Choose State Level Features.csv')\n",
    "county_feat_info = pd.read_csv('clipped_series_table.csv')\n",
    "state_feat_info = pd.read_csv('state_series_table_all.csv')"
   ]
  },
  {
   "cell_type": "code",
   "execution_count": 3,
   "metadata": {},
   "outputs": [],
   "source": [
    "chosen_county_feat = county_level_feat.title.values\n",
    "chosen_state_feat = state_level_feat.title.values"
   ]
  },
  {
   "cell_type": "code",
   "execution_count": 4,
   "metadata": {},
   "outputs": [
    {
     "name": "stdout",
     "output_type": "stream",
     "text": [
      "(205840, 8)\n"
     ]
    }
   ],
   "source": [
    "chosen_county_feat_info = county_feat_info[county_feat_info.title.isin(chosen_county_feat)]\n",
    "print(chosen_county_feat_info.shape)"
   ]
  },
  {
   "cell_type": "markdown",
   "metadata": {},
   "source": [
    "Some chosen features have multiple frequencies: ie Monthly and Annual. Let's get rid of the annual version"
   ]
  },
  {
   "cell_type": "code",
   "execution_count": 5,
   "metadata": {},
   "outputs": [
    {
     "name": "stdout",
     "output_type": "stream",
     "text": [
      "['Civilian Labor Force' 'Employed Persons' 'Unemployed Persons'\n",
      " 'Unemployment Rate']\n",
      "Number of series to remove: 9584\n"
     ]
    }
   ],
   "source": [
    "feat_freq_count = chosen_county_feat_info.groupby('title').frequency.nunique()\n",
    "feat_with_multiple_frequencies = feat_freq_count[feat_freq_count > 1].index.values\n",
    "print(feat_with_multiple_frequencies)\n",
    "\n",
    "series_to_remove = []\n",
    "for feat in feat_with_multiple_frequencies:\n",
    "    df_cur_feat = chosen_county_feat_info[chosen_county_feat_info.title == feat]\n",
    "    series_to_remove.extend(df_cur_feat[df_cur_feat.frequency == 'Annual'].id.values)\n",
    "\n",
    "print('Number of series to remove:', len(series_to_remove))\n",
    "df_chose_county_feat = chosen_county_feat_info[~chosen_county_feat_info.id.isin(series_to_remove)]"
   ]
  },
  {
   "cell_type": "code",
   "execution_count": 6,
   "metadata": {},
   "outputs": [
    {
     "name": "stderr",
     "output_type": "stream",
     "text": [
      "<ipython-input-6-923f89409dad>:7: SettingWithCopyWarning: \n",
      "A value is trying to be set on a copy of a slice from a DataFrame.\n",
      "Try using .loc[row_indexer,col_indexer] = value instead\n",
      "\n",
      "See the caveats in the documentation: https://pandas.pydata.org/pandas-docs/stable/user_guide/indexing.html#returning-a-view-versus-a-copy\n",
      "  df_chose_county_feat['num_months'] = df_chose_county_feat.apply(num_months, axis=1)\n"
     ]
    }
   ],
   "source": [
    "def num_months(row):\n",
    "    end = date.fromisoformat(row['observation_end'])\n",
    "    start = date.fromisoformat(row['observation_start'])\n",
    "    num_months = (end.year - start.year)*12 + (end.month - start.month)\n",
    "    return num_months\n",
    "\n",
    "df_chose_county_feat['num_months'] = df_chose_county_feat.apply(num_months, axis=1)"
   ]
  },
  {
   "cell_type": "markdown",
   "metadata": {},
   "source": [
    "Some features have the same id and title"
   ]
  },
  {
   "cell_type": "code",
   "execution_count": 7,
   "metadata": {},
   "outputs": [
    {
     "name": "stdout",
     "output_type": "stream",
     "text": [
      "       frequency                id observation_end observation_start  \\\n",
      "80932    Monthly           KYHALFN      2020-02-01        1990-01-01   \n",
      "80933    Monthly        KYHANC1LFN      2015-12-01        1990-01-01   \n",
      "80934    Monthly        KYHANC1URN      2018-01-01        1990-01-01   \n",
      "80936    Monthly           KYHAURN      2020-02-01        1990-01-01   \n",
      "240455    Annual  NETMIGNACS022033      2017-01-01        2009-01-01   \n",
      "240456    Annual  NETMIGNACS022121      2017-01-01        2009-01-01   \n",
      "\n",
      "            seasonal_adjustment  \\\n",
      "80932   Not Seasonally Adjusted   \n",
      "80933   Not Seasonally Adjusted   \n",
      "80934   Not Seasonally Adjusted   \n",
      "80936   Not Seasonally Adjusted   \n",
      "240455  Not Seasonally Adjusted   \n",
      "240456  Not Seasonally Adjusted   \n",
      "\n",
      "                                                    title  \\\n",
      "80932                                Civilian Labor Force   \n",
      "80933                                Civilian Labor Force   \n",
      "80934                                   Unemployment Rate   \n",
      "80936                                   Unemployment Rate   \n",
      "240455  Net County-to-County Migration Flow (5-year es...   \n",
      "240456  Net County-to-County Migration Flow (5-year es...   \n",
      "\n",
      "                       units  county_id  num_months  \n",
      "80932                Persons        875         361  \n",
      "80933   Thousands of Persons        875         311  \n",
      "80934                Percent        875         336  \n",
      "80936                Percent        875         361  \n",
      "240455               Persons      28478          96  \n",
      "240456               Persons      28478          96  \n"
     ]
    }
   ],
   "source": [
    "print(df_chose_county_feat[df_chose_county_feat.duplicated(subset = ['county_id', 'title'], keep=False)][38:])"
   ]
  },
  {
   "cell_type": "code",
   "execution_count": 8,
   "metadata": {},
   "outputs": [
    {
     "name": "stdout",
     "output_type": "stream",
     "text": [
      "(196256, 9)\n",
      "(196234, 9)\n"
     ]
    }
   ],
   "source": [
    "series_id_to_remove = ['MHICILBFL12025A052NCEN', 'MHICIUBFL12025A052NCEN', 'MHIFL12025A052NCEN', \n",
    "                       'PE5T17FL12025A647NCEN', 'PECILB5T17FL12025A647NCEN', 'PECILBAAFL12025A647NCEN',\n",
    "                       'PECILBU18FL12025A647NCEN', 'PECIUB5T17FL12025A647NCEN', 'PECIUBAAFL12025A647NCEN',\n",
    "                       'PECIUBU18FL12025A647NCEN', 'PP5T17FL12025A156NCEN', 'PPAAFL12025A156NCEN', \n",
    "                       'PPCILB5T17FL12025A156NCEN', 'PPCILBAAFL12025A156NCEN', 'PPCILBU18FL12025A156NCEN',\n",
    "                       'PPCIUB5T17FL12025A156NCEN','PPCIUBAAFL12025A156NCEN', 'PPCIUBU18FL12025A156NCEN', \n",
    "                       'PPU18FL12025A156NCEN', 'KYHANC1LFN', 'KYHANC1URN', 'NETMIGNACS022121']\n",
    "\n",
    "print(df_chose_county_feat.shape)\n",
    "df_chose_county_feat = df_chose_county_feat[~df_chose_county_feat.id.isin(series_id_to_remove)]\n",
    "print(df_chose_county_feat.shape)"
   ]
  },
  {
   "cell_type": "code",
   "execution_count": 9,
   "metadata": {},
   "outputs": [],
   "source": [
    "# df_chose_county_feat.to_csv('county_feat_months.csv')"
   ]
  },
  {
   "cell_type": "code",
   "execution_count": 10,
   "metadata": {},
   "outputs": [
    {
     "name": "stdout",
     "output_type": "stream",
     "text": [
      "       frequency              id observation_end observation_start  \\\n",
      "138810    Annual  ATNHPIUS36061A      2013-01-01        1998-01-01   \n",
      "123810    Annual  ATNHPIUS31003A      2016-01-01        1999-01-01   \n",
      "108335    Annual  ATNHPIUS28025A      2016-01-01        1992-01-01   \n",
      "98545     Annual  ATNHPIUS26131A      2016-01-01        1998-01-01   \n",
      "178214    Annual  ATNHPIUS42115A      2016-01-01        1992-01-01   \n",
      "117263    Annual  ATNHPIUS29125A      2016-01-01        1998-01-01   \n",
      "223597    Annual  ATNHPIUS54045A      2016-01-01        1998-01-01   \n",
      "195627    Annual  ATNHPIUS48035A      2017-01-01        1999-01-01   \n",
      "103683    Annual  ATNHPIUS27081A      2017-01-01        1999-01-01   \n",
      "68397     Annual  ATNHPIUS19093A      2017-01-01        1998-01-01   \n",
      "\n",
      "            seasonal_adjustment                               title  \\\n",
      "138810  Not Seasonally Adjusted  All-Transactions House Price Index   \n",
      "123810  Not Seasonally Adjusted  All-Transactions House Price Index   \n",
      "108335  Not Seasonally Adjusted  All-Transactions House Price Index   \n",
      "98545   Not Seasonally Adjusted  All-Transactions House Price Index   \n",
      "178214  Not Seasonally Adjusted  All-Transactions House Price Index   \n",
      "117263  Not Seasonally Adjusted  All-Transactions House Price Index   \n",
      "223597  Not Seasonally Adjusted  All-Transactions House Price Index   \n",
      "195627  Not Seasonally Adjusted  All-Transactions House Price Index   \n",
      "103683  Not Seasonally Adjusted  All-Transactions House Price Index   \n",
      "68397   Not Seasonally Adjusted  All-Transactions House Price Index   \n",
      "\n",
      "                 units  county_id  num_months  \n",
      "138810  Index 2000=100      29222         180  \n",
      "123810  Index 2000=100      29014         204  \n",
      "108335  Index 2000=100        600         288  \n",
      "98545   Index 2000=100      28649         216  \n",
      "178214  Index 2000=100      29671         288  \n",
      "117263  Index 2000=100       1014         216  \n",
      "223597  Index 2000=100      30399         216  \n",
      "195627  Index 2000=100      29916         216  \n",
      "103683  Index 2000=100      28708         216  \n",
      "68397   Index 2000=100      28181         228  \n"
     ]
    }
   ],
   "source": [
    "house_price_sorted = df_chose_county_feat[df_chose_county_feat.title == 'All-Transactions House Price Index'].sort_values('observation_end')\n",
    "print(house_price_sorted.head(10))"
   ]
  },
  {
   "cell_type": "markdown",
   "metadata": {},
   "source": [
    "By removing 1 county, our ground truth range is 2000-2016 rather than 2000-2013<br>\n",
    "By removing 6 more counties, our ground truth range is 2000-2017 rather than 2000-2016.<br>\n",
    "I will remove 6 more counties bc we lose 16 years worth of data for 6 counties but gain 1 year worth of data for 2395 counties"
   ]
  },
  {
   "cell_type": "code",
   "execution_count": 11,
   "metadata": {},
   "outputs": [
    {
     "name": "stdout",
     "output_type": "stream",
     "text": [
      "(196234, 9)\n",
      "(195663, 9)\n"
     ]
    }
   ],
   "source": [
    "counties_to_remove = house_price_sorted[house_price_sorted.observation_end < '2017-01-01'].county_id.values\n",
    "print(df_chose_county_feat.shape)\n",
    "new_df_chose_county_feat = df_chose_county_feat[~df_chose_county_feat.county_id.isin(counties_to_remove)]\n",
    "print(new_df_chose_county_feat.shape)"
   ]
  },
  {
   "cell_type": "code",
   "execution_count": 12,
   "metadata": {},
   "outputs": [
    {
     "name": "stdout",
     "output_type": "stream",
     "text": [
      "['Rate of Preventable Hospital Admissions'\n",
      " 'Gross Domestic Product: Private Goods-Producing Industries'\n",
      " 'Gross Domestic Product: Private Services-Providing Industries'\n",
      " 'Real Gross Domestic Product: Private Goods-Producing Industries'\n",
      " 'Real Gross Domestic Product: Private Services-Providing Industries'\n",
      " 'Combined Violent and Property Crime Incidents Known to Law Enforcement'\n",
      " 'White to Non-White Racial Dissimilarity Index' 'Premature Death Rate'\n",
      " 'Age-Adjusted Premature Death Rate']\n"
     ]
    }
   ],
   "source": [
    "# Now let's see what features we lose if the earliest end date is 2017\n",
    "feats_end_too_early = new_df_chose_county_feat[new_df_chose_county_feat.observation_end < '2017-01-01']\n",
    "print(feats_end_too_early.title.unique())"
   ]
  },
  {
   "cell_type": "markdown",
   "metadata": {},
   "source": [
    "I think we are ok to lose preventable hospital admissions, premature death rate, age-adjusted premature death rate. Let's see if there are any measures of GDP that we would still keep and if we could keep Crime"
   ]
  },
  {
   "cell_type": "code",
   "execution_count": 13,
   "metadata": {},
   "outputs": [
    {
     "name": "stdout",
     "output_type": "stream",
     "text": [
      "['Gross Domestic Product: All Industries'\n",
      " 'Gross Domestic Product: Private Goods-Producing Industries'\n",
      " 'Gross Domestic Product: Government and Government Enterprises'\n",
      " 'Gross Domestic Product: Private Services-Providing Industries'\n",
      " 'Real Gross Domestic Product: All Industries'\n",
      " 'Real Gross Domestic Product: Private Goods-Producing Industries'\n",
      " 'Real Gross Domestic Product: Government and Government Enterprises'\n",
      " 'Real Gross Domestic Product: Private Services-Providing Industries']\n"
     ]
    }
   ],
   "source": [
    "print(new_df_chose_county_feat[new_df_chose_county_feat.title.str.match('.*domestic product', case=False)].title.unique())"
   ]
  },
  {
   "cell_type": "markdown",
   "metadata": {},
   "source": [
    "Looks like we would still keep GDP all industries which should be fine. Let's look at crime"
   ]
  },
  {
   "cell_type": "code",
   "execution_count": 14,
   "metadata": {},
   "outputs": [
    {
     "name": "stdout",
     "output_type": "stream",
     "text": [
      "['Combined Violent and Property Crime Incidents Known to Law Enforcement']\n"
     ]
    }
   ],
   "source": [
    "crime_feats = new_df_chose_county_feat[new_df_chose_county_feat.title.str.match('.*crime', case=False)]\n",
    "print(crime_feats.title.unique())"
   ]
  },
  {
   "cell_type": "markdown",
   "metadata": {},
   "source": [
    "So that's the only feature related to crime. Let's see how many counties end before 2017"
   ]
  },
  {
   "cell_type": "code",
   "execution_count": 15,
   "metadata": {},
   "outputs": [
    {
     "name": "stdout",
     "output_type": "stream",
     "text": [
      "(173, 9)\n"
     ]
    }
   ],
   "source": [
    "print(crime_feats[crime_feats.observation_end < '2017-01-01'].shape)"
   ]
  },
  {
   "cell_type": "markdown",
   "metadata": {},
   "source": [
    "So we have to lose 173 counties to keep this feature for 2222 counties. Let's wait to make this decision for now. <br>\n",
    "First lets drop the features that end too early that we found earlier"
   ]
  },
  {
   "cell_type": "code",
   "execution_count": 16,
   "metadata": {},
   "outputs": [
    {
     "name": "stdout",
     "output_type": "stream",
     "text": [
      "['Rate of Preventable Hospital Admissions', 'Gross Domestic Product: Private Goods-Producing Industries', 'Gross Domestic Product: Private Services-Providing Industries', 'Real Gross Domestic Product: Private Goods-Producing Industries', 'Real Gross Domestic Product: Private Services-Providing Industries', 'White to Non-White Racial Dissimilarity Index', 'Premature Death Rate', 'Age-Adjusted Premature Death Rate']\n",
      "(195663, 9)\n",
      "(176715, 9)\n"
     ]
    }
   ],
   "source": [
    "feat_names_to_drop = feats_end_too_early.title.unique()\n",
    "shortlist = list(feat_names_to_drop)\n",
    "shortlist.remove('Combined Violent and Property Crime Incidents Known to Law Enforcement')\n",
    "print(shortlist)\n",
    "print(new_df_chose_county_feat.shape)\n",
    "df_county_feat_end_clipped = new_df_chose_county_feat[~new_df_chose_county_feat.title.isin(shortlist)]\n",
    "print(df_county_feat_end_clipped.shape)"
   ]
  },
  {
   "cell_type": "markdown",
   "metadata": {},
   "source": [
    "Now let's look at features that start too late"
   ]
  },
  {
   "cell_type": "markdown",
   "metadata": {},
   "source": [
    "Note, we can choose to drop 9 more counties to start 1 year earlier in 1/1/1999. So we lose 1 year of data for 9 counties to add 1 year of data for 2213 counties"
   ]
  },
  {
   "cell_type": "code",
   "execution_count": 17,
   "metadata": {},
   "outputs": [
    {
     "name": "stdout",
     "output_type": "stream",
     "text": [
      "69\n"
     ]
    }
   ],
   "source": [
    "# Now let's see what features we lose if the latest start date is 2000\n",
    "feats_start_too_late = df_county_feat_end_clipped[df_county_feat_end_clipped.observation_start > '1999-01-01']\n",
    "print(len(feats_start_too_late.title.unique()))"
   ]
  },
  {
   "cell_type": "markdown",
   "metadata": {},
   "source": [
    "Wow looks like there are a lot of features that have at least 1 county with a late start date. Let's look into these"
   ]
  },
  {
   "cell_type": "code",
   "execution_count": 18,
   "metadata": {},
   "outputs": [
    {
     "name": "stdout",
     "output_type": "stream",
     "text": [
      "['2000-01-01' '2001-01-01' '2002-01-01' '2003-01-01' '2004-01-01'\n",
      " '2005-01-01' '2006-01-01' '2007-01-01' '2008-01-01' '2009-01-01'\n",
      " '2010-01-01' '2011-01-01' '2012-01-01' '2013-01-01' '2014-01-01'\n",
      " '2015-01-01']\n"
     ]
    }
   ],
   "source": [
    "diff_start_dates = feats_start_too_late.observation_start.unique()\n",
    "diff_start_dates.sort()\n",
    "print(diff_start_dates)"
   ]
  },
  {
   "cell_type": "code",
   "execution_count": 19,
   "metadata": {},
   "outputs": [
    {
     "name": "stdout",
     "output_type": "stream",
     "text": [
      "['Percent of Population Below the Poverty Level'\n",
      " 'Combined Violent and Property Crime Incidents Known to Law Enforcement'\n",
      " 'New Private Housing Structures Authorized by Building Permits']\n"
     ]
    }
   ],
   "source": [
    "cur_late = df_county_feat_end_clipped[df_county_feat_end_clipped.observation_start > '2010-01-01']\n",
    "print(cur_late.title.unique())"
   ]
  },
  {
   "cell_type": "markdown",
   "metadata": {},
   "source": [
    "- For crime we'd lose ~225 counties to maintain a date range of 2010-2017\n",
    "- For new private housing we can drop 3 counties and maintain a start date of 2004\n",
    "- Percent of pop below poverty level starts in 2012\n",
    "- Income Inequality starts in 2010\n",
    "- Burdened Households starts in 2010\n",
    "- High school grad starts in 2010\n",
    "- Bach or higher starts in 2010\n",
    "- Socioeconomic population estimate starts in 2008\n",
    "\n",
    "### Basically i think we should try to keep 2010 to 2017 as our date range"
   ]
  },
  {
   "cell_type": "code",
   "execution_count": 20,
   "metadata": {},
   "outputs": [
    {
     "name": "stdout",
     "output_type": "stream",
     "text": [
      "(176715, 9)\n",
      "(160218, 9)\n"
     ]
    }
   ],
   "source": [
    "# First let's drop the 3 counties for private housing structures.\n",
    "# Then let's drop the 225 counties for crime\n",
    "# Then let's drop percent of pop below poverty level as a feature and we should be good\n",
    "\n",
    "late_counties = df_county_feat_end_clipped[df_county_feat_end_clipped.observation_start > '2010-01-01']\n",
    "housing_counties = late_counties[late_counties.title == 'New Private Housing Structures Authorized by Building Permits'].county_id.values\n",
    "late_crime_counties = late_counties[late_counties.title == 'Combined Violent and Property Crime Incidents Known to Law Enforcement'].county_id.values\n",
    "poverty_feat = late_counties[late_counties.title == 'Percent of Population Below the Poverty Level'].id.values\n",
    "early_counties = df_county_feat_end_clipped[df_county_feat_end_clipped.observation_end < '2017-01-01'].county_id.values\n",
    "\n",
    "counties_to_drop = []\n",
    "counties_to_drop.extend(housing_counties)\n",
    "counties_to_drop.extend(late_crime_counties)\n",
    "counties_to_drop.extend(early_counties)\n",
    "\n",
    "print(df_county_feat_end_clipped.shape)\n",
    "df_feat_dropped_county = df_county_feat_end_clipped[~df_county_feat_end_clipped.county_id.isin(counties_to_drop)]\n",
    "print(df_feat_dropped_county.shape)"
   ]
  },
  {
   "cell_type": "code",
   "execution_count": 21,
   "metadata": {},
   "outputs": [
    {
     "name": "stdout",
     "output_type": "stream",
     "text": [
      "(158046, 9)\n"
     ]
    }
   ],
   "source": [
    "df_county_feat_trimmed = df_feat_dropped_county[~df_feat_dropped_county.id.isin(poverty_feat)]\n",
    "print(df_county_feat_trimmed.shape)"
   ]
  },
  {
   "cell_type": "markdown",
   "metadata": {},
   "source": [
    "Now every feature in our dataset should have data from 2010-2017 "
   ]
  },
  {
   "cell_type": "code",
   "execution_count": 22,
   "metadata": {},
   "outputs": [
    {
     "name": "stdout",
     "output_type": "stream",
     "text": [
      "2010-01-01\n",
      "2017-01-01\n"
     ]
    }
   ],
   "source": [
    "print(df_county_feat_trimmed.observation_start.max())\n",
    "print(df_county_feat_trimmed.observation_end.min())"
   ]
  },
  {
   "cell_type": "markdown",
   "metadata": {},
   "source": [
    "Time Range Looks good!<br>\n",
    "Let's see how many features we have"
   ]
  },
  {
   "cell_type": "code",
   "execution_count": 23,
   "metadata": {},
   "outputs": [
    {
     "name": "stdout",
     "output_type": "stream",
     "text": [
      "73\n",
      "2172\n"
     ]
    }
   ],
   "source": [
    "print(df_county_feat_trimmed.title.nunique())\n",
    "print(df_county_feat_trimmed.county_id.nunique())"
   ]
  },
  {
   "cell_type": "markdown",
   "metadata": {},
   "source": [
    "#### Check that we have each feature for every county"
   ]
  },
  {
   "cell_type": "code",
   "execution_count": 24,
   "metadata": {},
   "outputs": [
    {
     "name": "stdout",
     "output_type": "stream",
     "text": [
      "title\n",
      "Combined Violent and Property Crime Incidents Known to Law Enforcement    2010\n",
      "Real Gross Domestic Product: Government and Government Enterprises        2121\n",
      "Real Gross Domestic Product: All Industries                               2121\n",
      "Gross Domestic Product: Government and Government Enterprises             2121\n",
      "Gross Domestic Product: All Industries                                    2121\n",
      "                                                                          ... \n",
      "Estimated Percent of Related Children Age 5-17 in Families in Poverty     2172\n",
      "High School Graduate or Higher (5-year estimate)                          2172\n",
      "Homeownership Rate (5-year estimate)                                      2172\n",
      "Bachelor's Degree or Higher (5-year estimate)                             2172\n",
      "Unemployment Rate                                                         2172\n",
      "Name: county_id, Length: 73, dtype: int64\n"
     ]
    }
   ],
   "source": [
    "agg_county = df_county_feat_trimmed.groupby('title').county_id.count()\n",
    "print(agg_county.sort_values())"
   ]
  },
  {
   "cell_type": "markdown",
   "metadata": {},
   "source": [
    "We do not. We need to drop the counties we don't have all the features for"
   ]
  },
  {
   "cell_type": "code",
   "execution_count": 25,
   "metadata": {},
   "outputs": [
    {
     "name": "stdout",
     "output_type": "stream",
     "text": [
      "(146567, 9)\n"
     ]
    }
   ],
   "source": [
    "counties_to_keep = df_county_feat_trimmed[df_county_feat_trimmed.title.str.match('combined violent', case=False)].county_id.values\n",
    "final_trimmed_county_data = df_county_feat_trimmed[df_county_feat_trimmed.county_id.isin(counties_to_keep)]\n",
    "print(final_trimmed_county_data.shape)"
   ]
  },
  {
   "cell_type": "markdown",
   "metadata": {},
   "source": [
    "Again let's check the number of counties, features, and check that we have every feature for each county"
   ]
  },
  {
   "cell_type": "code",
   "execution_count": 26,
   "metadata": {},
   "outputs": [
    {
     "name": "stdout",
     "output_type": "stream",
     "text": [
      "2010-01-01\n",
      "2017-01-01\n",
      "73\n",
      "2010\n",
      "title\n",
      "Gross Domestic Product: All Industries                                1985\n",
      "Gross Domestic Product: Government and Government Enterprises         1985\n",
      "Net County-to-County Migration Flow (5-year estimate)                 2009\n",
      "New Private Housing Structures Authorized by Building Permits         1996\n",
      "Per Capita Personal Income                                            1986\n",
      "Personal Income                                                       1986\n",
      "Real Gross Domestic Product: All Industries                           1985\n",
      "Real Gross Domestic Product: Government and Government Enterprises    1985\n",
      "Name: county_id, dtype: int64\n"
     ]
    }
   ],
   "source": [
    "print(final_trimmed_county_data.observation_start.max())\n",
    "print(final_trimmed_county_data.observation_end.min())\n",
    "print(final_trimmed_county_data.title.nunique())\n",
    "print(final_trimmed_county_data.county_id.nunique())\n",
    "agg_county_fin = final_trimmed_county_data.groupby('title').county_id.count()\n",
    "print(agg_county_fin[agg_county_fin < 2010])"
   ]
  },
  {
   "cell_type": "code",
   "execution_count": 27,
   "metadata": {},
   "outputs": [
    {
     "name": "stdout",
     "output_type": "stream",
     "text": [
      "(144890, 9)\n"
     ]
    }
   ],
   "source": [
    "counties_keep = final_trimmed_county_data[final_trimmed_county_data.title == 'Real Gross Domestic Product: All Industries'].county_id.unique()\n",
    "trim_c_data = final_trimmed_county_data[final_trimmed_county_data.county_id.isin(counties_keep)]\n",
    "print(trim_c_data.shape)"
   ]
  },
  {
   "cell_type": "code",
   "execution_count": 28,
   "metadata": {},
   "outputs": [
    {
     "name": "stdout",
     "output_type": "stream",
     "text": [
      "2010-01-01\n",
      "2017-01-01\n",
      "73\n",
      "1985\n",
      "title\n",
      "90% Confidence Interval Lower Bound of Estimate of Median Household Income                     1985\n",
      "90% Confidence Interval Lower Bound of Estimate of People Age 0-17 in Poverty                  1985\n",
      "90% Confidence Interval Lower Bound of Estimate of People of All Ages in Poverty               1985\n",
      "90% Confidence Interval Lower Bound of Estimate of Percent of People Age 0-17 in Poverty       1985\n",
      "90% Confidence Interval Lower Bound of Estimate of Percent of People of All Ages in Poverty    1985\n",
      "                                                                                               ... \n",
      "Resident Population                                                                            1985\n",
      "SNAP Benefits Recipients                                                                       1985\n",
      "Single-parent Households with Children as a Percentage of Households with Children             1985\n",
      "Unemployed Persons                                                                             1985\n",
      "Unemployment Rate                                                                              1985\n",
      "Name: county_id, Length: 73, dtype: int64\n"
     ]
    }
   ],
   "source": [
    "print(trim_c_data.observation_start.max())\n",
    "print(trim_c_data.observation_end.min())\n",
    "print(trim_c_data.title.nunique())\n",
    "print(trim_c_data.county_id.nunique())\n",
    "agg_county_fin = trim_c_data.groupby('title').county_id.count()\n",
    "print(agg_county_fin)"
   ]
  },
  {
   "cell_type": "code",
   "execution_count": 30,
   "metadata": {},
   "outputs": [],
   "source": [
    "trim_c_data.to_csv('county_features_trimmed.csv', index=False)"
   ]
  }
 ],
 "metadata": {
  "kernelspec": {
   "display_name": "Python 3",
   "language": "python",
   "name": "python3"
  },
  "language_info": {
   "codemirror_mode": {
    "name": "ipython",
    "version": 3
   },
   "file_extension": ".py",
   "mimetype": "text/x-python",
   "name": "python",
   "nbconvert_exporter": "python",
   "pygments_lexer": "ipython3",
   "version": "3.7.4"
  }
 },
 "nbformat": 4,
 "nbformat_minor": 4
}
