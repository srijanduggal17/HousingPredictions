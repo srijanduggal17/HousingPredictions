{
 "cells": [
  {
   "cell_type": "code",
   "execution_count": 1,
   "metadata": {},
   "outputs": [],
   "source": [
    "import pandas as pd\n",
    "import numpy as np\n",
    "import time\n",
    "import requests\n",
    "import json"
   ]
  },
  {
   "cell_type": "markdown",
   "metadata": {},
   "source": [
    "Series we need to get are:\n",
    "- M2 Money\n",
    "- M1 Money\n",
    "- VIX Volatility\n",
    "- Wilshire 5000 index\n",
    "- 30 yr mortgage rate\n",
    "- Total nonfarm employment\n",
    "- Minimum wage\n",
    "- Unemployment rate\n",
    "- Consumer price index"
   ]
  },
  {
   "cell_type": "markdown",
   "metadata": {},
   "source": [
    "We want all of these series to be on a monthly basis. If any series has more resolution than monthly (ie weekly daily etc, we want to average them to be monthly. Fortunately the API lets us do that). If any series has less resolution than monthly, we will have to repeat values for each month (we will have to do this ourselves). Let's see which of these datasets are given on a monthly or finer basis, and which are given on a less resolute than monthly basis (ie quarterly, annual)"
   ]
  },
  {
   "cell_type": "markdown",
   "metadata": {},
   "source": [
    "- M1: monthly (M1SL)\n",
    "- Non-M1 components of M2: monthly (NOM1M2)\n",
    "- Vix: daily (VIXCLS)\n",
    "- Wilshire 5000: daily (WILL5000INDFC)\n",
    "- 30 yr mortgage: weekly (MORTGAGE30US)\n",
    "- Nonfarm employment: monthly (PAYEMS)\n",
    "- Federal nonfarm Minimum wage: monthly (FEDMINNFRWG)\n",
    "- Unemployment rate: monthly (UNRATE)\n",
    "- Consumer price index: monthly (CPIAUCSL)"
   ]
  },
  {
   "cell_type": "markdown",
   "metadata": {},
   "source": [
    "Alright now let's query the API for the country level metadata so we can make the country level series table"
   ]
  },
  {
   "cell_type": "code",
   "execution_count": 2,
   "metadata": {},
   "outputs": [],
   "source": [
    "series = ['M1SL', 'NOM1M2', 'VIXCLS', 'WILL5000INDFC', 'MORTGAGE30US', 'PAYEMS', 'FEDMINNFRWG', 'UNRATE', 'CPIAUCSL']\n",
    "table_cols = ['id', 'title', 'observation_start', 'observation_end', 'frequency', 'units', 'seasonal_adjustment']"
   ]
  },
  {
   "cell_type": "code",
   "execution_count": 3,
   "metadata": {},
   "outputs": [],
   "source": [
    "series_in_country = []\n",
    "\n",
    "for ser in series:\n",
    "    time.sleep(1)\n",
    "    params = {\n",
    "        'series_id': ser,\n",
    "        'api_key': 'e76fcf746d3ca3cc025c0803dd212fc8',\n",
    "        'file_type': 'json'\n",
    "    }\n",
    "    r = requests.get(url = 'https://api.stlouisfed.org/fred/series', params=params)\n",
    "    res = r.json()\n",
    "    for current in res['seriess']:\n",
    "        temp = { your_key: current[your_key] for your_key in table_cols }\n",
    "        series_in_country.append(temp)"
   ]
  },
  {
   "cell_type": "code",
   "execution_count": 4,
   "metadata": {},
   "outputs": [
    {
     "name": "stdout",
     "output_type": "stream",
     "text": [
      "              id                                              title  \\\n",
      "0           M1SL                                     M1 Money Stock   \n",
      "1         NOM1M2                            Non-M1 Components of M2   \n",
      "2         VIXCLS                         CBOE Volatility Index: VIX   \n",
      "3  WILL5000INDFC          Wilshire 5000 Total Market Full Cap Index   \n",
      "4   MORTGAGE30US  30-Year Fixed Rate Mortgage Average in the Uni...   \n",
      "5         PAYEMS                       All Employees, Total Nonfarm   \n",
      "6    FEDMINNFRWG  Federal Minimum Hourly Wage for Nonfarm Worker...   \n",
      "7         UNRATE                                  Unemployment Rate   \n",
      "8       CPIAUCSL  Consumer Price Index for All Urban Consumers: ...   \n",
      "\n",
      "  observation_start observation_end                frequency  \\\n",
      "0        1959-01-01      2020-02-01                  Monthly   \n",
      "1        1959-01-01      2020-02-01                  Monthly   \n",
      "2        1990-01-02      2020-04-08             Daily, Close   \n",
      "3        1970-12-31      2020-04-08             Daily, Close   \n",
      "4        1971-04-02      2020-04-09  Weekly, Ending Thursday   \n",
      "5        1939-01-01      2020-03-01                  Monthly   \n",
      "6        1938-10-01      2020-03-01                  Monthly   \n",
      "7        1948-01-01      2020-03-01                  Monthly   \n",
      "8        1947-01-01      2020-03-01                  Monthly   \n",
      "\n",
      "                  units      seasonal_adjustment  \n",
      "0   Billions of Dollars      Seasonally Adjusted  \n",
      "1   Billions of Dollars      Seasonally Adjusted  \n",
      "2                 Index  Not Seasonally Adjusted  \n",
      "3                 Index  Not Seasonally Adjusted  \n",
      "4               Percent  Not Seasonally Adjusted  \n",
      "5  Thousands of Persons      Seasonally Adjusted  \n",
      "6      Dollars per Hour  Not Seasonally Adjusted  \n",
      "7               Percent      Seasonally Adjusted  \n",
      "8   Index 1982-1984=100      Seasonally Adjusted  \n"
     ]
    }
   ],
   "source": [
    "# Check out results\n",
    "df_country_series_table = pd.DataFrame(series_in_country)\n",
    "print(df_country_series_table)"
   ]
  },
  {
   "cell_type": "code",
   "execution_count": 5,
   "metadata": {},
   "outputs": [],
   "source": [
    "# Save to file\n",
    "df_country_series_table.to_csv('country_series_table.csv', index=False)"
   ]
  },
  {
   "cell_type": "markdown",
   "metadata": {},
   "source": [
    "#### Get observations for each series"
   ]
  },
  {
   "cell_type": "code",
   "execution_count": 6,
   "metadata": {},
   "outputs": [],
   "source": [
    "country_series_list = df_country_series_table.id.values\n",
    "country_series_titles = df_country_series_table.title.values\n",
    "\n",
    "# Set up DataFrame\n",
    "country_features = pd.DataFrame(columns=['date'])"
   ]
  },
  {
   "cell_type": "code",
   "execution_count": 7,
   "metadata": {},
   "outputs": [
    {
     "name": "stdout",
     "output_type": "stream",
     "text": [
      "734\n",
      "734\n",
      "364\n",
      "593\n",
      "589\n",
      "975\n",
      "978\n",
      "867\n",
      "879\n"
     ]
    }
   ],
   "source": [
    "# Get datasets\n",
    "for series_id, series_name in zip(country_series_list, country_series_titles):\n",
    "    params = {\n",
    "        'series_id': series_id,\n",
    "        'api_key': 'e76fcf746d3ca3cc025c0803dd212fc8',\n",
    "        'file_type': 'json',\n",
    "        'frequency': 'm',\n",
    "        'aggregation_method': 'avg'\n",
    "    }\n",
    "    r = requests.get(url = 'https://api.stlouisfed.org/fred/series/observations', params=params)\n",
    "    res = r.json()\n",
    "\n",
    "    print(res['count'])\n",
    "    if (res['count'] > 100000):\n",
    "        print(series_id)\n",
    "\n",
    "    df_current = pd.DataFrame(res['observations'])\n",
    "    df_current.rename(columns={'value': series_name}, inplace=True)\n",
    "    df_current.drop(['realtime_start', 'realtime_end'], axis=1, inplace=True)\n",
    "    country_features = pd.merge(country_features, df_current, how='outer', on=['date'])"
   ]
  },
  {
   "cell_type": "code",
   "execution_count": 8,
   "metadata": {},
   "outputs": [
    {
     "name": "stdout",
     "output_type": "stream",
     "text": [
      "(979, 10)\n",
      "         date M1 Money Stock Non-M1 Components of M2  \\\n",
      "0  1959-01-01          138.9                   147.7   \n",
      "1  1959-02-01          139.4                   148.3   \n",
      "2  1959-03-01          139.7                   149.4   \n",
      "3  1959-04-01          139.7                   150.4   \n",
      "4  1959-05-01          140.7                   151.5   \n",
      "\n",
      "  CBOE Volatility Index: VIX Wilshire 5000 Total Market Full Cap Index  \\\n",
      "0                        NaN                                       NaN   \n",
      "1                        NaN                                       NaN   \n",
      "2                        NaN                                       NaN   \n",
      "3                        NaN                                       NaN   \n",
      "4                        NaN                                       NaN   \n",
      "\n",
      "  30-Year Fixed Rate Mortgage Average in the United States  \\\n",
      "0                                                NaN         \n",
      "1                                                NaN         \n",
      "2                                                NaN         \n",
      "3                                                NaN         \n",
      "4                                                NaN         \n",
      "\n",
      "  All Employees, Total Nonfarm  \\\n",
      "0                        52478   \n",
      "1                        52688   \n",
      "2                        53014   \n",
      "3                        53321   \n",
      "4                        53550   \n",
      "\n",
      "  Federal Minimum Hourly Wage for Nonfarm Workers for the United States  \\\n",
      "0                                               1.00                      \n",
      "1                                               1.00                      \n",
      "2                                               1.00                      \n",
      "3                                               1.00                      \n",
      "4                                               1.00                      \n",
      "\n",
      "  Unemployment Rate  \\\n",
      "0               6.0   \n",
      "1               5.9   \n",
      "2               5.6   \n",
      "3               5.2   \n",
      "4               5.1   \n",
      "\n",
      "  Consumer Price Index for All Urban Consumers: All Items in U.S. City Average  \n",
      "0                                              29.01                            \n",
      "1                                               29.0                            \n",
      "2                                              28.97                            \n",
      "3                                              28.98                            \n",
      "4                                              29.04                            \n"
     ]
    }
   ],
   "source": [
    "# Check out results\n",
    "print(country_features.shape)\n",
    "print(country_features.head())"
   ]
  },
  {
   "cell_type": "code",
   "execution_count": 9,
   "metadata": {},
   "outputs": [],
   "source": [
    "# Save to file\n",
    "country_features.to_csv('country_features.csv', index=False)"
   ]
  }
 ],
 "metadata": {
  "kernelspec": {
   "display_name": "Python 3",
   "language": "python",
   "name": "python3"
  },
  "language_info": {
   "codemirror_mode": {
    "name": "ipython",
    "version": 3
   },
   "file_extension": ".py",
   "mimetype": "text/x-python",
   "name": "python",
   "nbconvert_exporter": "python",
   "pygments_lexer": "ipython3",
   "version": "3.7.7"
  }
 },
 "nbformat": 4,
 "nbformat_minor": 4
}
