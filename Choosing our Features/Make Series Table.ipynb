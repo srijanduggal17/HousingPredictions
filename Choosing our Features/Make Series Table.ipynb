{
 "cells": [
  {
   "cell_type": "markdown",
   "metadata": {},
   "source": [
    "### Making the Series Table\n",
    "This table will have the series_id, series metadata, and county_id for all series within every county"
   ]
  },
  {
   "cell_type": "code",
   "execution_count": 1,
   "metadata": {},
   "outputs": [],
   "source": [
    "import pandas as pd\n",
    "import numpy as np\n",
    "import time\n",
    "import requests\n",
    "import json\n",
    "\n",
    "# Function to rename a feature that has the county's name in it\n",
    "def get_series_name(county_name, series_title):\n",
    "    ndx = series_title.find(county_name)\n",
    "    return series_title[:ndx]"
   ]
  },
  {
   "cell_type": "code",
   "execution_count": 2,
   "metadata": {},
   "outputs": [
    {
     "name": "stdout",
     "output_type": "stream",
     "text": [
      "(3240, 3)\n",
      "   county_id                name  state_id\n",
      "0      27336  Autauga County, AL     27335\n",
      "1      27337  Baldwin County, AL     27335\n",
      "2      27338  Barbour County, AL     27335\n",
      "3      27339     Bibb County, AL     27335\n",
      "4      27340   Blount County, AL     27335\n"
     ]
    }
   ],
   "source": [
    "# Load the list of all counties\n",
    "df_county_table = pd.read_csv('county_table.csv')\n",
    "print(df_county_table.shape)\n",
    "print(df_county_table.head())\n",
    "counties_list = df_county_table['county_id'].values\n",
    "counties_names = df_county_table['name'].values\n",
    "\n",
    "# Initialize the series table\n",
    "df_series_table = pd.DataFrame()\n",
    "series_table_cols = ['id', 'title', 'observation_start', 'observation_end', 'frequency', 'units', 'seasonal_adjustment']"
   ]
  },
  {
   "cell_type": "code",
   "execution_count": 3,
   "metadata": {},
   "outputs": [
    {
     "name": "stdout",
     "output_type": "stream",
     "text": [
      "(300663, 8)\n",
      "  frequency               id observation_end observation_start  \\\n",
      "0    Annual  2020RATIO001001      2018-01-01        2010-01-01   \n",
      "1   Monthly    ACTLISCOU1001      2020-03-01        2016-07-01   \n",
      "2   Monthly  ACTLISCOUMM1001      2020-03-01        2017-07-01   \n",
      "3   Monthly  ACTLISCOUYY1001      2020-03-01        2017-07-01   \n",
      "4   Monthly       ALAUTA1LFN      2020-02-01        1990-01-01   \n",
      "\n",
      "       seasonal_adjustment                                              title  \\\n",
      "0  Not Seasonally Adjusted                                  Income Inequality   \n",
      "1  Not Seasonally Adjusted            Housing Inventory: Active Listing Count   \n",
      "2  Not Seasonally Adjusted  Housing Inventory: Active Listing Count Month-...   \n",
      "3  Not Seasonally Adjusted  Housing Inventory: Active Listing Count Year-O...   \n",
      "4  Not Seasonally Adjusted                               Civilian Labor Force   \n",
      "\n",
      "     units  county_id  \n",
      "0    Ratio      27336  \n",
      "1    Level      27336  \n",
      "2  Percent      27336  \n",
      "3  Percent      27336  \n",
      "4  Persons      27336  \n"
     ]
    }
   ],
   "source": [
    "# This cell and the next cell is where the series table starts to be filled\n",
    "# There are a lot of series so I ran these two cells many times back and forth\n",
    "#  (I wanted to save the data rather than store it in temporary memory)\n",
    "df_series_table = pd.read_csv('series_table_3100.csv')\n",
    "print(df_series_table.shape)\n",
    "print(df_series_table.head())"
   ]
  },
  {
   "cell_type": "code",
   "execution_count": 4,
   "metadata": {},
   "outputs": [
    {
     "name": "stdout",
     "output_type": "stream",
     "text": [
      "(314211, 8)\n"
     ]
    }
   ],
   "source": [
    "start = 3100\n",
    "for county_id, county_name in zip(counties_list[start:], counties_names[start:]):\n",
    "    time.sleep(.5)\n",
    "    params = {\n",
    "        'category_id': county_id,\n",
    "        'api_key': 'e76fcf746d3ca3cc025c0803dd212fc8',\n",
    "        'file_type': 'json'\n",
    "    }\n",
    "    r = requests.get(url = 'https://api.stlouisfed.org/fred/category/series', params=params)\n",
    "    res = r.json()\n",
    "    seriess = res['seriess']\n",
    "    series_in_county = pd.DataFrame()\n",
    "    for series in seriess:\n",
    "        temp = { your_key: series[your_key] for your_key in series_table_cols }\n",
    "        temp['title'] = get_series_name(county_name, temp['title'])\n",
    "        series_in_county = series_in_county.append(temp, ignore_index=True)\n",
    "    series_in_county['county_id'] = county_id\n",
    "    df_series_table = df_series_table.append(series_in_county)\n",
    "\n",
    "print(df_series_table.shape)"
   ]
  },
  {
   "cell_type": "code",
   "execution_count": 5,
   "metadata": {},
   "outputs": [],
   "source": [
    "df_series_table.to_csv('series_table_all.csv', index=False)"
   ]
  }
 ],
 "metadata": {
  "kernelspec": {
   "display_name": "Python 3",
   "language": "python",
   "name": "python3"
  },
  "language_info": {
   "codemirror_mode": {
    "name": "ipython",
    "version": 3
   },
   "file_extension": ".py",
   "mimetype": "text/x-python",
   "name": "python",
   "nbconvert_exporter": "python",
   "pygments_lexer": "ipython3",
   "version": "3.8.1"
  }
 },
 "nbformat": 4,
 "nbformat_minor": 4
}
