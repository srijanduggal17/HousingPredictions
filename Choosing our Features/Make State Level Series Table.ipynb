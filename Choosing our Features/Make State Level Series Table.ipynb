{
 "cells": [
  {
   "cell_type": "markdown",
   "metadata": {},
   "source": [
    "### Making the State Level Series Table\n",
    "This table will have the series_id, series metadata, and state_id for all series within every state"
   ]
  },
  {
   "cell_type": "code",
   "execution_count": 1,
   "metadata": {},
   "outputs": [],
   "source": [
    "import pandas as pd\n",
    "import numpy as np\n",
    "import time\n",
    "import requests\n",
    "import json\n",
    "\n",
    "# Function to rename a feature that has the states's name in it\n",
    "def get_series_name(state_name, series_title):\n",
    "    ndx = series_title.find(state_name)\n",
    "    return series_title[:ndx]"
   ]
  },
  {
   "cell_type": "code",
   "execution_count": 2,
   "metadata": {},
   "outputs": [
    {
     "name": "stdout",
     "output_type": "stream",
     "text": [
      "(53, 2)\n",
      "      id        name\n",
      "0  27282     Alabama\n",
      "1  27283      Alaska\n",
      "2  27284     Arizona\n",
      "3    149    Arkansas\n",
      "4  27286  California\n"
     ]
    }
   ],
   "source": [
    "# Load the list of all states\n",
    "df_state_table = pd.read_csv('state_table.csv')\n",
    "print(df_state_table.shape)\n",
    "print(df_state_table.head())\n",
    "states_list = df_state_table['id'].values\n",
    "states_names = df_state_table['name'].values\n",
    "\n",
    "# # Initialize the series table\n",
    "df_state_series_table = pd.DataFrame()\n",
    "state_series_table_cols = ['id', 'title', 'observation_start', 'observation_end', 'frequency', 'units', 'seasonal_adjustment']"
   ]
  },
  {
   "cell_type": "code",
   "execution_count": 3,
   "metadata": {},
   "outputs": [
    {
     "name": "stdout",
     "output_type": "stream",
     "text": [
      "(0, 0)\n",
      "Empty DataFrame\n",
      "Columns: []\n",
      "Index: []\n"
     ]
    }
   ],
   "source": [
    "# This cell and the next cell is where the series table starts to be filled\n",
    "# There are a lot of series so I ran these two cells many times back and forth\n",
    "#  (I wanted to save the data rather than store it in temporary memory)\n",
    "# df_state_series_table = pd.read_csv('series_table_3100.csv')\n",
    "print(df_state_series_table.shape)\n",
    "print(df_state_series_table.head())"
   ]
  },
  {
   "cell_type": "code",
   "execution_count": 4,
   "metadata": {},
   "outputs": [
    {
     "name": "stdout",
     "output_type": "stream",
     "text": [
      "Alabama\n",
      "1668\n",
      "(1668, 8)\n",
      "Alaska\n",
      "1301\n",
      "(1301, 8)\n",
      "Arizona\n",
      "1637\n",
      "(1637, 8)\n",
      "Arkansas\n",
      "1457\n",
      "(1457, 8)\n",
      "California\n",
      "2296\n",
      "(2296, 8)\n",
      "Colorado\n",
      "1639\n",
      "(1639, 8)\n",
      "Connecticut\n",
      "1702\n",
      "(1702, 8)\n",
      "Delaware\n",
      "1447\n",
      "(1447, 8)\n",
      "District of Columbia\n",
      "1344\n",
      "(1344, 8)\n",
      "Florida\n",
      "1796\n",
      "(1796, 8)\n",
      "Georgia\n",
      "1650\n",
      "(1650, 8)\n",
      "Hawaii\n",
      "1410\n",
      "(1410, 8)\n",
      "Idaho\n",
      "1544\n",
      "(1544, 8)\n",
      "Illinois\n",
      "1971\n",
      "(1971, 8)\n",
      "Indiana\n",
      "1776\n",
      "(1776, 8)\n",
      "Iowa\n",
      "1575\n",
      "(1575, 8)\n",
      "Kansas\n",
      "1532\n",
      "(1532, 8)\n",
      "Kentucky\n",
      "1606\n",
      "(1606, 8)\n",
      "Louisiana\n",
      "1665\n",
      "(1665, 8)\n",
      "Maine\n",
      "1498\n",
      "(1498, 8)\n",
      "Maryland\n",
      "1648\n",
      "(1648, 8)\n",
      "Massachusetts\n",
      "1767\n",
      "(1767, 8)\n",
      "Michigan\n",
      "2050\n",
      "(2050, 8)\n",
      "Minnesota\n",
      "1826\n",
      "(1826, 8)\n",
      "Mississippi\n",
      "1547\n",
      "(1547, 8)\n",
      "Missouri\n",
      "1695\n",
      "(1695, 8)\n",
      "Montana\n",
      "1390\n",
      "(1390, 8)\n",
      "Nebraska\n",
      "1631\n",
      "(1631, 8)\n",
      "Nevada\n",
      "1528\n",
      "(1528, 8)\n",
      "New Hampshire\n",
      "1509\n",
      "(1509, 8)\n",
      "New Jersey\n",
      "1841\n",
      "(1841, 8)\n",
      "New Mexico\n",
      "1340\n",
      "(1340, 8)\n",
      "New York\n",
      "2035\n",
      "(2035, 8)\n",
      "North Carolina\n",
      "1731\n",
      "(1731, 8)\n",
      "North Dakota\n",
      "1446\n",
      "(1446, 8)\n",
      "Ohio\n",
      "1858\n",
      "(1858, 8)\n",
      "Oklahoma\n",
      "1602\n",
      "(1602, 8)\n",
      "Oregon\n",
      "1727\n",
      "(1727, 8)\n",
      "Pennsylvania\n",
      "1828\n",
      "(1828, 8)\n",
      "Puerto Rico\n",
      "375\n",
      "(375, 8)\n",
      "Rhode Island\n",
      "1470\n",
      "(1470, 8)\n",
      "South Carolina\n",
      "1596\n",
      "(1596, 8)\n",
      "South Dakota\n",
      "1330\n",
      "(1330, 8)\n",
      "Tennessee\n",
      "1644\n",
      "(1644, 8)\n",
      "Texas\n",
      "3469\n",
      "(3469, 8)\n",
      "Utah\n",
      "1623\n",
      "(1623, 8)\n",
      "Vermont\n",
      "1486\n",
      "(1486, 8)\n",
      "Virgin Islands\n",
      "170\n",
      "(170, 8)\n",
      "Virginia\n",
      "1565\n",
      "(1565, 8)\n",
      "West Virginia\n",
      "1511\n",
      "(1511, 8)\n",
      "Washington\n",
      "1750\n",
      "(1750, 8)\n",
      "Wisconsin\n",
      "1662\n",
      "(1662, 8)\n",
      "Wyoming\n",
      "1350\n",
      "(1350, 8)\n",
      "(85514, 8)\n"
     ]
    }
   ],
   "source": [
    "for state_id, state_name in zip(states_list, states_names):\n",
    "    time.sleep(2)\n",
    "    series_in_state = []\n",
    "    print(state_name)\n",
    "    params = {\n",
    "        'category_id': state_id,\n",
    "        'api_key': 'e76fcf746d3ca3cc025c0803dd212fc8',\n",
    "        'file_type': 'json'\n",
    "    }\n",
    "    r = requests.get(url = 'https://api.stlouisfed.org/fred/category/series', params=params)\n",
    "    res = r.json()\n",
    "    print(res['count'])\n",
    "    for series in res['seriess']:\n",
    "        temp = { your_key: series[your_key] for your_key in state_series_table_cols }\n",
    "        temp['title'] = get_series_name(state_name, temp['title'])\n",
    "        series_in_state.append(temp)\n",
    "    \n",
    "    offset = 1000\n",
    "    total_iters = np.floor(res['count'] / 1000)\n",
    "    current_iter = 1\n",
    "    while current_iter <= total_iters:\n",
    "        params = {\n",
    "            'category_id': state_id,\n",
    "            'api_key': 'e76fcf746d3ca3cc025c0803dd212fc8',\n",
    "            'file_type': 'json',\n",
    "            'offset': offset\n",
    "        }\n",
    "        r = requests.get(url = 'https://api.stlouisfed.org/fred/category/series', params=params)\n",
    "        res = r.json()\n",
    "        \n",
    "        for series in res['seriess']:\n",
    "            temp = { your_key: series[your_key] for your_key in state_series_table_cols }\n",
    "            temp['title'] = get_series_name(state_name, temp['title'])\n",
    "            series_in_state.append(temp)\n",
    "        \n",
    "        current_iter += 1\n",
    "        offset += 1000\n",
    "        \n",
    "    df_cur_state = pd.DataFrame(series_in_state)\n",
    "    df_cur_state['state_id'] = state_id\n",
    "    print(df_cur_state.shape)\n",
    "    df_state_series_table = df_state_series_table.append(df_cur_state)\n",
    "\n",
    "print(df_state_series_table.shape)"
   ]
  },
  {
   "cell_type": "code",
   "execution_count": 5,
   "metadata": {},
   "outputs": [
    {
     "name": "stdout",
     "output_type": "stream",
     "text": [
      "                 id                                              title  \\\n",
      "0       ACTLISCOUAL        Housing Inventory: Active Listing Count in    \n",
      "1     ACTLISCOUMMAL  Housing Inventory: Active Listing Count Month-...   \n",
      "2     ACTLISCOUYYAL  Housing Inventory: Active Listing Count Year-O...   \n",
      "3  AGEXMAL1A647NCEN                Age 65 and Over Tax Exemptions for    \n",
      "4    AL7320A052SCEN     Value of Exports to Sudan (DISCONTINUED) from    \n",
      "\n",
      "  observation_start observation_end frequency                 units  \\\n",
      "0        2016-07-01      2020-03-01   Monthly                 Level   \n",
      "1        2017-07-01      2020-03-01   Monthly               Percent   \n",
      "2        2017-07-01      2020-03-01   Monthly               Percent   \n",
      "3        1989-01-01      2017-01-01    Annual  Number of Exemptions   \n",
      "4        1992-01-01      1992-01-01    Annual               Dollars   \n",
      "\n",
      "       seasonal_adjustment  state_id  \n",
      "0  Not Seasonally Adjusted     27282  \n",
      "1  Not Seasonally Adjusted     27282  \n",
      "2  Not Seasonally Adjusted     27282  \n",
      "3  Not Seasonally Adjusted     27282  \n",
      "4  Not Seasonally Adjusted     27282  \n"
     ]
    }
   ],
   "source": [
    "print(df_state_series_table.head())"
   ]
  },
  {
   "cell_type": "code",
   "execution_count": 6,
   "metadata": {},
   "outputs": [
    {
     "name": "stdout",
     "output_type": "stream",
     "text": [
      "53\n"
     ]
    }
   ],
   "source": [
    "print(len(df_state_series_table.state_id.unique()))"
   ]
  },
  {
   "cell_type": "code",
   "execution_count": 7,
   "metadata": {},
   "outputs": [],
   "source": [
    "df_state_series_dedup = df_state_series_table.drop_duplicates()"
   ]
  },
  {
   "cell_type": "code",
   "execution_count": 8,
   "metadata": {},
   "outputs": [
    {
     "name": "stdout",
     "output_type": "stream",
     "text": [
      "85514\n",
      "(85514, 8)\n",
      "                 title  observation_start  observation_end  frequency  units  \\\n",
      "id                                                                             \n",
      "2020RATIO011001      1                  1                1          1      1   \n",
      "ACTLISCOUAK          1                  1                1          1      1   \n",
      "ACTLISCOUAL          1                  1                1          1      1   \n",
      "ACTLISCOUAR          1                  1                1          1      1   \n",
      "ACTLISCOUAZ          1                  1                1          1      1   \n",
      "...                ...                ...              ...        ...    ...   \n",
      "X08TDMSBTRI          1                  1                1          1      1   \n",
      "X08TDMSBTVT          1                  1                1          1      1   \n",
      "X08TDMSBTWA          1                  1                1          1      1   \n",
      "X08TDMSBTWI          1                  1                1          1      1   \n",
      "X08TDMSBTWV          1                  1                1          1      1   \n",
      "\n",
      "                 seasonal_adjustment  state_id  \n",
      "id                                              \n",
      "2020RATIO011001                    1         1  \n",
      "ACTLISCOUAK                        1         1  \n",
      "ACTLISCOUAL                        1         1  \n",
      "ACTLISCOUAR                        1         1  \n",
      "ACTLISCOUAZ                        1         1  \n",
      "...                              ...       ...  \n",
      "X08TDMSBTRI                        1         1  \n",
      "X08TDMSBTVT                        1         1  \n",
      "X08TDMSBTWA                        1         1  \n",
      "X08TDMSBTWI                        1         1  \n",
      "X08TDMSBTWV                        1         1  \n",
      "\n",
      "[85514 rows x 7 columns]\n"
     ]
    }
   ],
   "source": [
    "print(len(df_state_series_table.id.unique()))\n",
    "print(df_state_series_dedup.shape)\n",
    "print(df_state_series_table.groupby('id').count())"
   ]
  },
  {
   "cell_type": "code",
   "execution_count": 10,
   "metadata": {},
   "outputs": [],
   "source": [
    "df_state_series_table.to_csv('state_series_table_all.csv', index=False)"
   ]
  },
  {
   "cell_type": "code",
   "execution_count": 16,
   "metadata": {},
   "outputs": [
    {
     "name": "stdout",
     "output_type": "stream",
     "text": [
      "(2839,)\n"
     ]
    }
   ],
   "source": [
    "agg = df_state_series_table.groupby('title')['state_id'].nunique()\n",
    "print(agg.shape)"
   ]
  },
  {
   "cell_type": "markdown",
   "metadata": {},
   "source": [
    "So we have 2839 features. Let's order these by number of states"
   ]
  },
  {
   "cell_type": "code",
   "execution_count": 30,
   "metadata": {},
   "outputs": [
    {
     "name": "stdout",
     "output_type": "stream",
     "text": [
      "title\n",
      "All Employees: Total Private in                                                                                                                   200\n",
      "All Employees: Total Nonfarm in                                                                                                                   200\n",
      "All Employees: Information in                                                                                                                     155\n",
      "All Employees: Wholesale Trade in                                                                                                                 153\n",
      "All Employees: Other Services in                                                                                                                  151\n",
      "                                                                                                                                                 ... \n",
      "Value of Exports to Antigua and Barbuda from U.S.                                                                                                   1\n",
      "Change in Retail Trade: Gasoline Stations Payroll Employment in                                                                                     1\n",
      "Value of Exports to Anguilla from U.S.                                                                                                              1\n",
      "Change in Retail Trade: Furniture and Home Furnishings Stores Payroll Employment in                                                                 1\n",
      "Change in Financial Activities: Securities, Commodity Contracts, and Other Financial Investments and Related Activities Payroll Employment in       1\n",
      "Name: state_id, Length: 2839, dtype: int64\n"
     ]
    }
   ],
   "source": [
    "print(df_state_series_table.groupby('title').count().sort_values('state_id', ascending=False).state_id)"
   ]
  },
  {
   "cell_type": "markdown",
   "metadata": {},
   "source": [
    "I don't see how we have more than 53 of anything. Maybe two series have similar metadata"
   ]
  },
  {
   "cell_type": "code",
   "execution_count": 40,
   "metadata": {},
   "outputs": [
    {
     "name": "stdout",
     "output_type": "stream",
     "text": [
      "title                                                                                        frequency  units                                seasonal_adjustment      observation_end\n",
      "Number of Identified Exporters to Turkey from                                                Annual     Number of Firms                      Not Seasonally Adjusted  2016-01-01         52\n",
      "Number of Identified Exporters to Republic of Korea from                                     Annual     Number of Firms                      Not Seasonally Adjusted  2016-01-01         52\n",
      "Number of Identified Exporters to Austria from                                               Annual     Number of Firms                      Not Seasonally Adjusted  2016-01-01         52\n",
      "Number of Identified Exporters to Australia from                                             Annual     Number of Firms                      Not Seasonally Adjusted  2016-01-01         52\n",
      "Number of Identified Exporters to Argentina from                                             Annual     Number of Firms                      Not Seasonally Adjusted  2016-01-01         52\n",
      "                                                                                                                                                                                         ..\n",
      "Health Care: Hospitals Payroll Employment in                                                 Monthly    Percent Change at Annual Rate        Seasonally Adjusted      2019-12-01          1\n",
      "                                                                                             Annual     Thousands of Persons                 Not Seasonally Adjusted  2016-01-01          1\n",
      "                                                                                                        December to December Percent Change  Not Seasonally Adjusted  2019-01-01          1\n",
      "Health Care: Home Health Care Services Payroll Employment in                                 Monthly    Thousands of Persons                 Seasonally Adjusted      2019-12-01          1\n",
      "Wholesale Trade: Wholesale Electronic Markets and Agents and Brokers Payroll Employment in   Monthly    Thousands of Persons                 Seasonally Adjusted      2019-12-01          1\n",
      "Name: state_id, Length: 7380, dtype: int64\n"
     ]
    }
   ],
   "source": [
    "print(df_state_series_table.groupby(['title','frequency','units','seasonal_adjustment', 'observation_end']).count().sort_values('state_id', ascending=False).state_id)"
   ]
  },
  {
   "cell_type": "code",
   "execution_count": 43,
   "metadata": {},
   "outputs": [],
   "source": [
    "agg.to_csv('agg_state_feat_info.csv')"
   ]
  }
 ],
 "metadata": {
  "kernelspec": {
   "display_name": "Python 3",
   "language": "python",
   "name": "python3"
  },
  "language_info": {
   "codemirror_mode": {
    "name": "ipython",
    "version": 3
   },
   "file_extension": ".py",
   "mimetype": "text/x-python",
   "name": "python",
   "nbconvert_exporter": "python",
   "pygments_lexer": "ipython3",
   "version": "3.8.1"
  }
 },
 "nbformat": 4,
 "nbformat_minor": 4
}
