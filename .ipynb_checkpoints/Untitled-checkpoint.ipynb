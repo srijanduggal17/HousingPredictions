{
 "cells": [
  {
   "cell_type": "code",
   "execution_count": 1,
   "metadata": {},
   "outputs": [],
   "source": [
    "import pandas as pd"
   ]
  },
  {
   "cell_type": "code",
   "execution_count": 2,
   "metadata": {},
   "outputs": [],
   "source": [
    "df_county_features = pd.read_csv('county_features_final.csv')\n",
    "df_state_features = pd.read_csv('state_features_final.csv')"
   ]
  },
  {
   "cell_type": "code",
   "execution_count": 5,
   "metadata": {},
   "outputs": [
    {
     "name": "stdout",
     "output_type": "stream",
     "text": [
      "2010-01-01\n",
      "2017-01-01\n",
      "73\n",
      "2171\n",
      "title\n",
      "Combined Violent and Property Crime Incidents Known to Law Enforcement    2010\n",
      "Gross Domestic Product: Government and Government Enterprises             2120\n",
      "Real Gross Domestic Product: Government and Government Enterprises        2120\n",
      "Real Gross Domestic Product: All Industries                               2120\n",
      "Gross Domestic Product: All Industries                                    2120\n",
      "                                                                          ... \n",
      "High School Graduate or Higher (5-year estimate)                          2171\n",
      "Homeownership Rate (5-year estimate)                                      2171\n",
      "Income Inequality                                                         2171\n",
      "Burdened Households                                                       2171\n",
      "Unemployment Rate                                                         2171\n",
      "Name: county_id, Length: 73, dtype: int64\n"
     ]
    }
   ],
   "source": [
    "# Check what we have\n",
    "print(df_county_features.observation_start.max())\n",
    "print(df_county_features.observation_end.min())\n",
    "print(df_county_features.title.nunique())\n",
    "print(df_county_features.county_id.nunique())\n",
    "agg_fin = df_county_features.groupby('title').county_id.count()\n",
    "print(agg_fin.sort_values())"
   ]
  }
 ],
 "metadata": {
  "kernelspec": {
   "display_name": "Python 3",
   "language": "python",
   "name": "python3"
  },
  "language_info": {
   "codemirror_mode": {
    "name": "ipython",
    "version": 3
   },
   "file_extension": ".py",
   "mimetype": "text/x-python",
   "name": "python",
   "nbconvert_exporter": "python",
   "pygments_lexer": "ipython3",
   "version": "3.8.1"
  }
 },
 "nbformat": 4,
 "nbformat_minor": 4
}
