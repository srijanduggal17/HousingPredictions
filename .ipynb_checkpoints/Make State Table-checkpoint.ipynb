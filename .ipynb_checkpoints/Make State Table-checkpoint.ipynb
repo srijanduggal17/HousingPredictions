{
 "cells": [
  {
   "cell_type": "markdown",
   "metadata": {},
   "source": [
    "### Making the State Table\n",
    "This is the table that has the state name and the corresponding state id"
   ]
  },
  {
   "cell_type": "code",
   "execution_count": 1,
   "metadata": {},
   "outputs": [],
   "source": [
    "import pandas as pd\n",
    "import numpy as np\n",
    "import time\n",
    "import requests\n",
    "import json"
   ]
  },
  {
   "cell_type": "code",
   "execution_count": 2,
   "metadata": {},
   "outputs": [
    {
     "name": "stdout",
     "output_type": "stream",
     "text": [
      "       id                  name\n",
      "0   27282               Alabama\n",
      "1   27283                Alaska\n",
      "2   27284               Arizona\n",
      "3     149              Arkansas\n",
      "4   27286            California\n",
      "5   27287              Colorado\n",
      "6   27288           Connecticut\n",
      "7   27289              Delaware\n",
      "8   27290  District of Columbia\n",
      "9   27291               Florida\n",
      "10  27292               Georgia\n",
      "11  27293                Hawaii\n",
      "12  27294                 Idaho\n",
      "13    150              Illinois\n",
      "14    151               Indiana\n",
      "15  27297                  Iowa\n",
      "16  27298                Kansas\n",
      "17    152              Kentucky\n",
      "18  27300             Louisiana\n",
      "19  27301                 Maine\n",
      "20  27302              Maryland\n",
      "21  27303         Massachusetts\n",
      "22  27304              Michigan\n",
      "23  27305             Minnesota\n",
      "24    153           Mississippi\n",
      "25    154              Missouri\n",
      "26  27308               Montana\n",
      "27  27309              Nebraska\n",
      "28  27310                Nevada\n",
      "29  27311         New Hampshire\n",
      "30  27312            New Jersey\n",
      "31  27313            New Mexico\n",
      "32  27314              New York\n",
      "33  27315        North Carolina\n",
      "34  27316          North Dakota\n",
      "35  27317                  Ohio\n",
      "36  27318              Oklahoma\n",
      "37  27319                Oregon\n",
      "38  27320          Pennsylvania\n",
      "39  33504           Puerto Rico\n",
      "40  27322          Rhode Island\n",
      "41  27323        South Carolina\n",
      "42  27324          South Dakota\n",
      "43    193             Tennessee\n",
      "44  27326                 Texas\n",
      "45  27328                  Utah\n",
      "46  27329               Vermont\n",
      "47  33605        Virgin Islands\n",
      "48  27330              Virginia\n",
      "49  27332         West Virginia\n",
      "50  27331            Washington\n",
      "51  27333             Wisconsin\n",
      "52  27334               Wyoming\n"
     ]
    }
   ],
   "source": [
    "'''\n",
    "Get category id for all states\n",
    "'''\n",
    "\n",
    "params = {\n",
    "            'category_id':27281,\n",
    "            'api_key': 'e76fcf746d3ca3cc025c0803dd212fc8',\n",
    "            'file_type': 'json'\n",
    "         }\n",
    "\n",
    "r = requests.get(url = 'https://api.stlouisfed.org/fred/category/children', params=params) \n",
    "res = r.json()\n",
    "\n",
    "states = res['categories']\n",
    "\n",
    "state_table = pd.DataFrame(states)\n",
    "state_table.drop(['parent_id'], axis=1, inplace=True)\n",
    "print(state_table)\n",
    "state_table.to_csv('state_table.csv', index=False)"
   ]
  }
 ],
 "metadata": {
  "kernelspec": {
   "display_name": "Python 3",
   "language": "python",
   "name": "python3"
  },
  "language_info": {
   "codemirror_mode": {
    "name": "ipython",
    "version": 3
   },
   "file_extension": ".py",
   "mimetype": "text/x-python",
   "name": "python",
   "nbconvert_exporter": "python",
   "pygments_lexer": "ipython3",
   "version": "3.8.1"
  }
 },
 "nbformat": 4,
 "nbformat_minor": 4
}
