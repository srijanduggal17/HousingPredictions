{
 "cells": [
  {
   "cell_type": "markdown",
   "metadata": {},
   "source": [
    "### Exploring Cleaned Series Results\n",
    "Here we check out the cleaned series table.\n",
    "We get the set of all counties for which there are targets and then remove the counties without targets from the series table. Then we reaggregate and output"
   ]
  },
  {
   "cell_type": "code",
   "execution_count": 1,
   "metadata": {},
   "outputs": [],
   "source": [
    "import pandas as pd\n",
    "import numpy as np\n",
    "import time\n",
    "import requests\n",
    "import json"
   ]
  },
  {
   "cell_type": "code",
   "execution_count": 4,
   "metadata": {},
   "outputs": [],
   "source": [
    "feat_agg = pd.read_csv('aggregated_feature_info.csv')\n",
    "cleaned_series_table = pd.read_csv('cleaned_series_table.csv')"
   ]
  },
  {
   "cell_type": "code",
   "execution_count": 5,
   "metadata": {},
   "outputs": [
    {
     "name": "stdout",
     "output_type": "stream",
     "text": [
      "(153, 8)\n",
      "(307778, 8)\n"
     ]
    }
   ],
   "source": [
    "print(feat_agg.shape)\n",
    "print(cleaned_series_table.shape)"
   ]
  },
  {
   "cell_type": "code",
   "execution_count": 14,
   "metadata": {},
   "outputs": [
    {
     "name": "stdout",
     "output_type": "stream",
     "text": [
      "                                 title  frequency    id  observation_end  \\\n",
      "71  All-Transactions House Price Index       2402  2402             2402   \n",
      "\n",
      "    observation_start  seasonal_adjustment  units  county_id  \n",
      "71               2402                 2402   2402       2402  \n"
     ]
    }
   ],
   "source": [
    "print(feat_agg[feat_agg.title == 'All-Transactions House Price Index'])"
   ]
  },
  {
   "cell_type": "markdown",
   "metadata": {},
   "source": [
    "Looks like we only have the target variable for 2402 counties.<br>\n",
    "Let's find the set of counties for which we have target variable"
   ]
  },
  {
   "cell_type": "code",
   "execution_count": 30,
   "metadata": {},
   "outputs": [],
   "source": [
    "counties_with_target = cleaned_series_table[cleaned_series_table.title == 'All-Transactions House Price Index'].county_id.values\n",
    "ndx, counts = np.unique(counties_with_target, return_counts=True)"
   ]
  },
  {
   "cell_type": "code",
   "execution_count": 34,
   "metadata": {},
   "outputs": [
    {
     "name": "stdout",
     "output_type": "stream",
     "text": [
      "27899\n"
     ]
    }
   ],
   "source": [
    "dup_counties = ndx[counts > 1]\n",
    "print(dup_counties[0])"
   ]
  },
  {
   "cell_type": "code",
   "execution_count": 37,
   "metadata": {},
   "outputs": [
    {
     "name": "stdout",
     "output_type": "stream",
     "text": [
      "      frequency                id observation_end observation_start  \\\n",
      "53234    Annual   2020RATIO016011      2018-01-01        2010-01-01   \n",
      "53235    Annual    ATNHPIUS15003A      2018-01-01        1975-01-01   \n",
      "53236    Annual    ATNHPIUS16011A      2018-01-01        1986-01-01   \n",
      "53237    Annual  B01002001E016011      2018-01-01        2009-01-01   \n",
      "53238    Annual  B03002001E016011      2018-01-01        2009-01-01   \n",
      "\n",
      "           seasonal_adjustment  \\\n",
      "53234  Not Seasonally Adjusted   \n",
      "53235  Not Seasonally Adjusted   \n",
      "53236  Not Seasonally Adjusted   \n",
      "53237  Not Seasonally Adjusted   \n",
      "53238  Not Seasonally Adjusted   \n",
      "\n",
      "                                                   title           units  \\\n",
      "53234                                  Income Inequality           Ratio   \n",
      "53235                 All-Transactions House Price Index  Index 2000=100   \n",
      "53236                 All-Transactions House Price Index  Index 2000=100   \n",
      "53237  Estimate, Median Age by Sex, Total Population ...    Years of Age   \n",
      "53238       Population Estimate, Total (5-year estimate)         Persons   \n",
      "\n",
      "       county_id  \n",
      "53234      27899  \n",
      "53235      27899  \n",
      "53236      27899  \n",
      "53237      27899  \n",
      "53238      27899  \n"
     ]
    }
   ],
   "source": [
    "print(cleaned_series_table[cleaned_series_table.county_id == 27899].head())"
   ]
  },
  {
   "cell_type": "markdown",
   "metadata": {},
   "source": [
    "The targets ATNHPIUS16011A and ATNHPIUS15003A have the same county id. Looks like the second belongs to Honolulu County and the first belongs to Bingham County"
   ]
  },
  {
   "cell_type": "code",
   "execution_count": 39,
   "metadata": {},
   "outputs": [
    {
     "name": "stdout",
     "output_type": "stream",
     "text": [
      "     county_id                      name  state_id\n",
      "518      27889  Honolulu County/city, HI     27887\n",
      "     county_id                name  state_id\n",
      "528      27899  Bingham County, ID     27893\n"
     ]
    }
   ],
   "source": [
    "county_table = pd.read_csv('county_table_dedup.csv')\n",
    "print(county_table[county_table.name.str.match('.*Honolulu')])\n",
    "print(county_table[county_table.name.str.match('.*Bingham')])"
   ]
  },
  {
   "cell_type": "markdown",
   "metadata": {},
   "source": [
    "So the series ATNHPIUS15003A should have county id 27889"
   ]
  },
  {
   "cell_type": "code",
   "execution_count": 42,
   "metadata": {},
   "outputs": [
    {
     "name": "stdout",
     "output_type": "stream",
     "text": [
      "2402\n",
      "2402\n"
     ]
    }
   ],
   "source": [
    "cleaned_series_table.loc[53235, 'county_id'] = 27889\n",
    "\n",
    "counties_with_target = cleaned_series_table[cleaned_series_table.title == 'All-Transactions House Price Index'].county_id.values\n",
    "print(len(counties_with_target))\n",
    "counties_with_target = set(counties_with_target)\n",
    "print(len(counties_with_target))"
   ]
  },
  {
   "cell_type": "markdown",
   "metadata": {},
   "source": [
    "Ok so now we have a list of all the counties with targets. Let's remove the series corresponding to counties for which we do not have targets"
   ]
  },
  {
   "cell_type": "code",
   "execution_count": 49,
   "metadata": {},
   "outputs": [],
   "source": [
    "clipped_series_table = cleaned_series_table[cleaned_series_table['county_id'].isin(counties_with_target)]"
   ]
  },
  {
   "cell_type": "code",
   "execution_count": 54,
   "metadata": {},
   "outputs": [
    {
     "name": "stdout",
     "output_type": "stream",
     "text": [
      "(244506, 8)\n"
     ]
    }
   ],
   "source": [
    "print(clipped_series_table.shape)"
   ]
  },
  {
   "cell_type": "code",
   "execution_count": 55,
   "metadata": {},
   "outputs": [],
   "source": [
    "clipped_series_table.to_csv('clipped_series_table.csv', index=False)"
   ]
  },
  {
   "cell_type": "markdown",
   "metadata": {},
   "source": [
    "Let's remove those counties from the county table also"
   ]
  },
  {
   "cell_type": "code",
   "execution_count": 59,
   "metadata": {},
   "outputs": [],
   "source": [
    "clipped_county_table = county_table[county_table['county_id'].isin(counties_with_target)]"
   ]
  },
  {
   "cell_type": "code",
   "execution_count": 60,
   "metadata": {},
   "outputs": [],
   "source": [
    "clipped_county_table.to_csv('clipped_county_table.csv', index=False)"
   ]
  },
  {
   "cell_type": "markdown",
   "metadata": {},
   "source": [
    "#### Reaggregate"
   ]
  },
  {
   "cell_type": "code",
   "execution_count": 84,
   "metadata": {},
   "outputs": [],
   "source": [
    "clipped_feat_info_agg = clipped_series_table.groupby('title').count().sort_values('frequency', ascending=False)"
   ]
  },
  {
   "cell_type": "code",
   "execution_count": 85,
   "metadata": {},
   "outputs": [
    {
     "name": "stdout",
     "output_type": "stream",
     "text": [
      "(57, 7)\n"
     ]
    }
   ],
   "source": [
    "feats_for_all_counties = clipped_feat_info_agg[clipped_feat_info_agg.county_id >= 2402]\n",
    "print(feats_for_all_counties.shape)"
   ]
  },
  {
   "cell_type": "markdown",
   "metadata": {},
   "source": [
    "So we have 2402 counties (examples) with 57 county-specific features at least. We can trade off number of counties for other features if there are ones that we particularly want."
   ]
  },
  {
   "cell_type": "code",
   "execution_count": 86,
   "metadata": {},
   "outputs": [],
   "source": [
    "clipped_feat_info_agg.to_csv('agg_feat_info_clipped.csv')"
   ]
  }
 ],
 "metadata": {
  "kernelspec": {
   "display_name": "Python 3",
   "language": "python",
   "name": "python3"
  },
  "language_info": {
   "codemirror_mode": {
    "name": "ipython",
    "version": 3
   },
   "file_extension": ".py",
   "mimetype": "text/x-python",
   "name": "python",
   "nbconvert_exporter": "python",
   "pygments_lexer": "ipython3",
   "version": "3.8.1"
  }
 },
 "nbformat": 4,
 "nbformat_minor": 4
}
