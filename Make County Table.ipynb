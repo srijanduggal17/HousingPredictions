{
 "cells": [
  {
   "cell_type": "markdown",
   "metadata": {},
   "source": [
    "### Making the County Table\n",
    "This is the table that has the county name, county id, and corresponding state id.\n",
    "It will be used to pull state-level information into our examples for each county"
   ]
  },
  {
   "cell_type": "code",
   "execution_count": 1,
   "metadata": {},
   "outputs": [],
   "source": [
    "import pandas as pd\n",
    "import numpy as np\n",
    "import time\n",
    "import requests\n",
    "import json"
   ]
  },
  {
   "cell_type": "code",
   "execution_count": 2,
   "metadata": {},
   "outputs": [
    {
     "name": "stdout",
     "output_type": "stream",
     "text": [
      "      id        name\n",
      "0  27282     Alabama\n",
      "1  27283      Alaska\n",
      "2  27284     Arizona\n",
      "3    149    Arkansas\n",
      "4  27286  California\n"
     ]
    }
   ],
   "source": [
    "# Load all state ids from table\n",
    "df_state_table = pd.read_csv('state_table.csv')\n",
    "print(df_state_table.head())\n",
    "df_county_table = pd.DataFrame()"
   ]
  },
  {
   "cell_type": "code",
   "execution_count": 5,
   "metadata": {},
   "outputs": [],
   "source": [
    "# Loop over all state ids to get the list of counties within each state\n",
    "states_wo_counties = []\n",
    "no_categories = []\n",
    "\n",
    "states_list = list(df_state_table['id'].values)\n",
    "# Alaska, Louisiana, and Virgin Islands dont have counties so we will deal with those later\n",
    "states_list.remove(27283)\n",
    "states_list.remove(27300)\n",
    "states_list.remove(33605)\n",
    "\n",
    "for state_id in states_list:\n",
    "    time.sleep(2)\n",
    "    params = {\n",
    "        'category_id': state_id,\n",
    "        'api_key': 'e76fcf746d3ca3cc025c0803dd212fc8',\n",
    "        'file_type': 'json'\n",
    "    }\n",
    "    r = requests.get(url = 'https://api.stlouisfed.org/fred/category/children', params=params)\n",
    "    res = r.json()\n",
    "    try:\n",
    "        found_counties = False\n",
    "        if 'categories' in list(res.keys()):\n",
    "            for child in res['categories']:\n",
    "                if child['name'] == 'Counties':\n",
    "                    state_counties_id = child['id']\n",
    "                    found_counties = True\n",
    "        else:\n",
    "            no_categories.append(state_id)\n",
    "\n",
    "\n",
    "        if found_counties:\n",
    "            params = {\n",
    "                'category_id': state_counties_id,\n",
    "                'api_key': 'e76fcf746d3ca3cc025c0803dd212fc8',\n",
    "                'file_type': 'json'\n",
    "            }\n",
    "            r = requests.get(url = 'https://api.stlouisfed.org/fred/category/children', params=params)\n",
    "            res = r.json()\n",
    "            df_county_table = df_county_table.append(pd.DataFrame(res['categories']))\n",
    "        else:\n",
    "            states_wo_counties.append(state_id)\n",
    "    except:\n",
    "        print(state_id)\n",
    "        print(res)"
   ]
  },
  {
   "cell_type": "code",
   "execution_count": 6,
   "metadata": {},
   "outputs": [
    {
     "name": "stdout",
     "output_type": "stream",
     "text": [
      "(3078, 3)\n",
      "[]\n",
      "[]\n"
     ]
    }
   ],
   "source": [
    "# Print results\n",
    "df_county_table.reset_index(inplace=True, drop=True)\n",
    "print(df_county_table.shape)\n",
    "print(states_wo_counties)\n",
    "print(no_categories)"
   ]
  },
  {
   "cell_type": "code",
   "execution_count": 7,
   "metadata": {},
   "outputs": [],
   "source": [
    "# Alaska\n",
    "params = {\n",
    "    'category_id': 27283,\n",
    "    'api_key': 'e76fcf746d3ca3cc025c0803dd212fc8',\n",
    "    'file_type': 'json'\n",
    "}\n",
    "r = requests.get(url = 'https://api.stlouisfed.org/fred/category/children', params=params)\n",
    "res = r.json()\n",
    "\n",
    "for child in res['categories']:\n",
    "    if child['name'] == 'Census Areas and Boroughs':\n",
    "        state_counties_id = child['id']\n",
    "\n",
    "params = {\n",
    "    'category_id': state_counties_id,\n",
    "    'api_key': 'e76fcf746d3ca3cc025c0803dd212fc8',\n",
    "    'file_type': 'json'\n",
    "}\n",
    "r = requests.get(url = 'https://api.stlouisfed.org/fred/category/children', params=params)\n",
    "res = r.json()\n",
    "df_county_table = df_county_table.append(pd.DataFrame(res['categories']))"
   ]
  },
  {
   "cell_type": "code",
   "execution_count": 8,
   "metadata": {},
   "outputs": [],
   "source": [
    "# Louisiana\n",
    "params = {\n",
    "    'category_id': 27300,\n",
    "    'api_key': 'e76fcf746d3ca3cc025c0803dd212fc8',\n",
    "    'file_type': 'json'\n",
    "}\n",
    "r = requests.get(url = 'https://api.stlouisfed.org/fred/category/children', params=params)\n",
    "res = r.json()\n",
    "\n",
    "    for child in res['categories']:\n",
    "        if child['name'] == 'Parishes':\n",
    "            state_counties_id = child['id']\n",
    "\n",
    "    params = {\n",
    "        'category_id': state_counties_id,\n",
    "        'api_key': 'e76fcf746d3ca3cc025c0803dd212fc8',\n",
    "        'file_type': 'json'\n",
    "    }\n",
    "    r = requests.get(url = 'https://api.stlouisfed.org/fred/category/children', params=params)\n",
    "    res = r.json()\n",
    "    df_county_table = df_county_table.append(pd.DataFrame(res['categories']))"
   ]
  },
  {
   "cell_type": "code",
   "execution_count": 9,
   "metadata": {},
   "outputs": [
    {
     "data": {
      "text/html": [
       "<div>\n",
       "<style scoped>\n",
       "    .dataframe tbody tr th:only-of-type {\n",
       "        vertical-align: middle;\n",
       "    }\n",
       "\n",
       "    .dataframe tbody tr th {\n",
       "        vertical-align: top;\n",
       "    }\n",
       "\n",
       "    .dataframe thead th {\n",
       "        text-align: right;\n",
       "    }\n",
       "</style>\n",
       "<table border=\"1\" class=\"dataframe\">\n",
       "  <thead>\n",
       "    <tr style=\"text-align: right;\">\n",
       "      <th></th>\n",
       "      <th>id</th>\n",
       "      <th>name</th>\n",
       "      <th>parent_id</th>\n",
       "    </tr>\n",
       "  </thead>\n",
       "  <tbody>\n",
       "    <tr>\n",
       "      <th>0</th>\n",
       "      <td>27336</td>\n",
       "      <td>Autauga County, AL</td>\n",
       "      <td>27335</td>\n",
       "    </tr>\n",
       "    <tr>\n",
       "      <th>1</th>\n",
       "      <td>27337</td>\n",
       "      <td>Baldwin County, AL</td>\n",
       "      <td>27335</td>\n",
       "    </tr>\n",
       "    <tr>\n",
       "      <th>2</th>\n",
       "      <td>27338</td>\n",
       "      <td>Barbour County, AL</td>\n",
       "      <td>27335</td>\n",
       "    </tr>\n",
       "    <tr>\n",
       "      <th>3</th>\n",
       "      <td>27339</td>\n",
       "      <td>Bibb County, AL</td>\n",
       "      <td>27335</td>\n",
       "    </tr>\n",
       "    <tr>\n",
       "      <th>4</th>\n",
       "      <td>27340</td>\n",
       "      <td>Blount County, AL</td>\n",
       "      <td>27335</td>\n",
       "    </tr>\n",
       "    <tr>\n",
       "      <th>...</th>\n",
       "      <td>...</td>\n",
       "      <td>...</td>\n",
       "      <td>...</td>\n",
       "    </tr>\n",
       "    <tr>\n",
       "      <th>3236</th>\n",
       "      <td>28522</td>\n",
       "      <td>West Baton Rouge Parish, LA</td>\n",
       "      <td>28461</td>\n",
       "    </tr>\n",
       "    <tr>\n",
       "      <th>3237</th>\n",
       "      <td>28523</td>\n",
       "      <td>West Carroll Parish, LA</td>\n",
       "      <td>28461</td>\n",
       "    </tr>\n",
       "    <tr>\n",
       "      <th>3238</th>\n",
       "      <td>28524</td>\n",
       "      <td>West Feliciana Parish, LA</td>\n",
       "      <td>28461</td>\n",
       "    </tr>\n",
       "    <tr>\n",
       "      <th>3239</th>\n",
       "      <td>28525</td>\n",
       "      <td>Winn Parish, LA</td>\n",
       "      <td>28461</td>\n",
       "    </tr>\n",
       "    <tr>\n",
       "      <th>3240</th>\n",
       "      <td>33605</td>\n",
       "      <td>Virgin Islands</td>\n",
       "      <td>33605</td>\n",
       "    </tr>\n",
       "  </tbody>\n",
       "</table>\n",
       "<p>3241 rows × 3 columns</p>\n",
       "</div>"
      ],
      "text/plain": [
       "         id                         name  parent_id\n",
       "0     27336           Autauga County, AL      27335\n",
       "1     27337           Baldwin County, AL      27335\n",
       "2     27338           Barbour County, AL      27335\n",
       "3     27339              Bibb County, AL      27335\n",
       "4     27340            Blount County, AL      27335\n",
       "...     ...                          ...        ...\n",
       "3236  28522  West Baton Rouge Parish, LA      28461\n",
       "3237  28523      West Carroll Parish, LA      28461\n",
       "3238  28524    West Feliciana Parish, LA      28461\n",
       "3239  28525              Winn Parish, LA      28461\n",
       "3240  33605               Virgin Islands      33605\n",
       "\n",
       "[3241 rows x 3 columns]"
      ]
     },
     "execution_count": 9,
     "metadata": {},
     "output_type": "execute_result"
    }
   ],
   "source": [
    "# Virgin Islands\n",
    "df_county_table.append({'id': 33605, 'name': 'Virgin Islands', 'parent_id': 33605}, ignore_index=True)"
   ]
  },
  {
   "cell_type": "code",
   "execution_count": 11,
   "metadata": {},
   "outputs": [
    {
     "name": "stdout",
     "output_type": "stream",
     "text": [
      "(3240, 3)\n"
     ]
    }
   ],
   "source": [
    "print(df_county_table.shape)"
   ]
  },
  {
   "cell_type": "code",
   "execution_count": 12,
   "metadata": {},
   "outputs": [],
   "source": [
    "df_county_table.rename(columns={'parent_id': 'state_id', 'id':'county_id'}, inplace=True)"
   ]
  },
  {
   "cell_type": "code",
   "execution_count": 14,
   "metadata": {},
   "outputs": [],
   "source": [
    "df_county_table.to_csv('county_table.csv', index=False)"
   ]
  }
 ],
 "metadata": {
  "kernelspec": {
   "display_name": "Python 3",
   "language": "python",
   "name": "python3"
  },
  "language_info": {
   "codemirror_mode": {
    "name": "ipython",
    "version": 3
   },
   "file_extension": ".py",
   "mimetype": "text/x-python",
   "name": "python",
   "nbconvert_exporter": "python",
   "pygments_lexer": "ipython3",
   "version": "3.8.1"
  }
 },
 "nbformat": 4,
 "nbformat_minor": 4
}
