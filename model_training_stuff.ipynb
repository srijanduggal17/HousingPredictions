{
 "cells": [
  {
   "cell_type": "code",
   "execution_count": null,
   "metadata": {},
   "outputs": [],
   "source": [
    "import torch\n",
    "from torch.utils.data import DataLoader\n",
    "from datetime import datetime\n",
    "from utils.data.CountyDataset import (\n",
    "    CountyDataset,\n",
    ")\n",
    "from torch.utils.data import random_split\n",
    "from torch import nn"
   ]
  },
  {
   "cell_type": "code",
   "execution_count": null,
   "metadata": {},
   "outputs": [],
   "source": [
    "def get_dataset(master_path):\n",
    "    dataset = CountyDataset(master_path)\n",
    "    X, Y = next(iter(dataset))\n",
    "\n",
    "    print('-'*89)\n",
    "    print('Total Dataset Summary')\n",
    "    print('-'*89)\n",
    "\n",
    "    print(f'total samples {len(dataset):,} '\n",
    "          f'X {X.size()} | Y {Y.size()}')\n",
    "\n",
    "    return dataset\n",
    "\n",
    "def get_numpy(dataset):\n",
    "    data = []\n",
    "    for i in range(len(dataset)):\n",
    "        X, Y = dataset[i]\n",
    "        data.append((X.numpy(), Y.numpy()))\n",
    "\n",
    "    print('-'*89)\n",
    "    print(f'Numpy Dataset Summary')\n",
    "    print('-'*89)\n",
    "    X, Y = zip(*data)\n",
    "    print(f'total samples {len(X)} '\n",
    "          f'| input time periods {len(X[0])} '\n",
    "          f'| input features {X[0].shape[1]} '\n",
    "          f'| output time periods {len(Y[0])}'\n",
    "          f'| target col {dataset.target_col}')\n",
    "\n",
    "    return data, dataset.xcols, dataset.target_col, dataset.date_index\n",
    "\n"
   ]
  },
  {
   "cell_type": "code",
   "execution_count": null,
   "metadata": {},
   "outputs": [],
   "source": [
    "### LOAD DATASET FROM CHRIS'S THING ###\n",
    "master_path = 'utils/data/county_table.csv'\n",
    "data = get_numpy(get_dataset(master_path))"
   ]
  },
  {
   "cell_type": "code",
   "execution_count": null,
   "metadata": {},
   "outputs": [],
   "source": [
    "### LOAD DATASET FROM PICKLE ###\n",
    "import pickle\n",
    "with open('dataset.pickle', 'rb') as handle:\n",
    "    full_dataset = pickle.load(handle)"
   ]
  },
  {
   "cell_type": "code",
   "execution_count": null,
   "metadata": {},
   "outputs": [],
   "source": [
    "# full_dataset = data[0] ## comment this if loaded from pickle\n",
    "train_dataset, test_dataset = torch.utils.data.random_split(full_dataset,\n",
    "                                                            [1267, 317])\n",
    "train_loader = DataLoader(train_dataset, batch_size=128,\n",
    "                          shuffle=True, pin_memory=False,\n",
    "                          num_workers=4)\n",
    "test_loader = DataLoader(test_dataset, batch_size=128,\n",
    "                          shuffle=True, pin_memory=False,\n",
    "                          num_workers=4)\n",
    "\n"
   ]
  },
  {
   "cell_type": "code",
   "execution_count": null,
   "metadata": {},
   "outputs": [],
   "source": [
    "### TRAINING ###\n",
    "### PICK A MODEL ###\n",
    "from models.LSTM import LSTM\n",
    "model = LSTM(input_dim=235, hidden_dim=10, output_dim=10, num_layers=2)\n",
    "\n",
    "# from models.RNN import RNN\n",
    "# model = RNN(D_in=235, H=10, D_out=10, L=1, dropout=0.0)\n",
    "\n",
    "num_epochs = 10\n",
    "loss_function = nn.MSELoss()\n",
    "optimizer = torch.optim.Adam(model.parameters(), lr=0.001)\n",
    "\n",
    "for i in range(num_epochs):\n",
    "    for idx, data in enumerate(train_loader):\n",
    "        X_train, y_train = data\n",
    "        \n",
    "        # zero out gradient between epochs\n",
    "        optimizer.zero_grad()\n",
    "\n",
    "        # forward pass\n",
    "        y_pred = model(X_train)\n",
    "\n",
    "        # calculate loss\n",
    "        loss = loss_function(y_pred, y_train)\n",
    "        if idx == len(train_loader) - 1:\n",
    "            print(\"Epoch: \", i, \"RMSE: \", torch.sqrt(loss).item())\n",
    "        # backward pass\n",
    "        loss.backward()\n",
    "\n",
    "        # update params\n",
    "        optimizer.step()\n",
    "#         print('here')"
   ]
  },
  {
   "cell_type": "code",
   "execution_count": null,
   "metadata": {},
   "outputs": [],
   "source": [
    "### TESTING ###\n",
    "import numpy as np\n",
    "with torch.no_grad():\n",
    "    rmses = []\n",
    "    for idx, data in enumerate(test_loader):\n",
    "        X_test, y_test = data\n",
    "#         X_test = X_test.permute(1, 0, 2)\n",
    "        y_pred = model(X_test)\n",
    "        loss = loss_function(y_pred, y_test)\n",
    "        rmse_i = torch.sqrt(loss).item()\n",
    "        rmses += [rmse_i]\n",
    "    print(np.mean(rmses))"
   ]
  },
  {
   "cell_type": "code",
   "execution_count": null,
   "metadata": {},
   "outputs": [],
   "source": []
  }
 ],
 "metadata": {
  "kernelspec": {
   "display_name": "Python 3",
   "language": "python",
   "name": "python3"
  },
  "language_info": {
   "codemirror_mode": {
    "name": "ipython",
    "version": 3
   },
   "file_extension": ".py",
   "mimetype": "text/x-python",
   "name": "python",
   "nbconvert_exporter": "python",
   "pygments_lexer": "ipython3",
   "version": "3.7.7"
  }
 },
 "nbformat": 4,
 "nbformat_minor": 4
}
