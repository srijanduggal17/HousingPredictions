{
  "nbformat": 4,
  "nbformat_minor": 0,
  "metadata": {
    "kernelspec": {
      "display_name": "Python 3",
      "language": "python",
      "name": "python3"
    },
    "language_info": {
      "codemirror_mode": {
        "name": "ipython",
        "version": 3
      },
      "file_extension": ".py",
      "mimetype": "text/x-python",
      "name": "python",
      "nbconvert_exporter": "python",
      "pygments_lexer": "ipython3",
      "version": "3.7.7"
    },
    "colab": {
      "name": "model_training_stuff.ipynb",
      "provenance": [],
      "collapsed_sections": [],
      "toc_visible": true
    },
    "accelerator": "GPU"
  },
  "cells": [
    {
      "cell_type": "code",
      "metadata": {
        "id": "B6OLekQoECv6",
        "colab_type": "code",
        "colab": {}
      },
      "source": [
        "import torch\n",
        "from torch.utils.data import DataLoader\n",
        "from datetime import datetime\n",
        "from torch.utils.data import random_split\n",
        "from torch import nn\n",
        "import numpy as np\n",
        "from torch.optim.lr_scheduler import ExponentialLR\n",
        "import time"
      ],
      "execution_count": 0,
      "outputs": []
    },
    {
      "cell_type": "code",
      "metadata": {
        "id": "HlRzuvIiEEQ6",
        "colab_type": "code",
        "colab": {
          "base_uri": "https://localhost:8080/",
          "height": 129
        },
        "outputId": "f489f3f2-ec53-4ea5-f07e-9af14bf3b7d7"
      },
      "source": [
        "from google.colab import drive\n",
        "drive.mount('/content/drive')"
      ],
      "execution_count": 2,
      "outputs": [
        {
          "output_type": "stream",
          "text": [
            "Go to this URL in a browser: https://accounts.google.com/o/oauth2/auth?client_id=947318989803-6bn6qk8qdgf4n4g3pfee6491hc0brc4i.apps.googleusercontent.com&redirect_uri=urn%3aietf%3awg%3aoauth%3a2.0%3aoob&response_type=code&scope=email%20https%3a%2f%2fwww.googleapis.com%2fauth%2fdocs.test%20https%3a%2f%2fwww.googleapis.com%2fauth%2fdrive%20https%3a%2f%2fwww.googleapis.com%2fauth%2fdrive.photos.readonly%20https%3a%2f%2fwww.googleapis.com%2fauth%2fpeopleapi.readonly\n",
            "\n",
            "Enter your authorization code:\n",
            "··········\n",
            "Mounted at /content/drive\n"
          ],
          "name": "stdout"
        }
      ]
    },
    {
      "cell_type": "code",
      "metadata": {
        "id": "tihFiXiTECwD",
        "colab_type": "code",
        "colab": {}
      },
      "source": [
        "### FUNCTIONS TO LOAD DATA FROM CHRIS'S THING (don't run this cell) ###\n",
        "from CountyDataset import (\n",
        "    CountyDataset,\n",
        ")\n",
        "def get_dataset(master_path):\n",
        "    dataset = CountyDataset(master_path)\n",
        "    X, Y = next(iter(dataset))\n",
        "\n",
        "    print('-'*89)\n",
        "    print('Total Dataset Summary')\n",
        "    print('-'*89)\n",
        "\n",
        "    print(f'total samples {len(dataset):,} '\n",
        "          f'X {X.size()} | Y {Y.size()}')\n",
        "\n",
        "    return dataset\n",
        "\n",
        "def get_numpy(dataset):\n",
        "    data = []\n",
        "    for i in range(len(dataset)):\n",
        "        X, Y = dataset[i]\n",
        "        data.append((X.numpy(), Y.numpy()))\n",
        "\n",
        "    print('-'*89)\n",
        "    print(f'Numpy Dataset Summary')\n",
        "    print('-'*89)\n",
        "    X, Y = zip(*data)\n",
        "    print(f'total samples {len(X)} '\n",
        "          f'| input time periods {len(X[0])} '\n",
        "          f'| input features {X[0].shape[1]} '\n",
        "          f'| output time periods {len(Y[0])}'\n",
        "          f'| target col {dataset.target_col}')\n",
        "\n",
        "    return data, dataset.xcols, dataset.target_col, dataset.date_index\n",
        "\n"
      ],
      "execution_count": 0,
      "outputs": []
    },
    {
      "cell_type": "code",
      "metadata": {
        "id": "b4DM6rIcECwL",
        "colab_type": "code",
        "colab": {
          "base_uri": "https://localhost:8080/",
          "height": 246
        },
        "outputId": "dd6b957c-6a42-4afe-af65-64ffcd5454d4"
      },
      "source": [
        "### LOAD DATASET FROM CHRIS'S THING (also don't run this cell) ###\n",
        "master_path = 'utils/data/county_table.csv'\n",
        "data = get_numpy(get_dataset(master_path))\n",
        "\n",
        "# save data to pickle file\n",
        "import pickle\n",
        "with open('dataset.pickle', 'wb') as handle:\n",
        "    pickle.dump(data[0], handle)"
      ],
      "execution_count": 2,
      "outputs": [
        {
          "output_type": "error",
          "ename": "NameError",
          "evalue": "ignored",
          "traceback": [
            "\u001b[0;31m---------------------------------------------------------------------------\u001b[0m",
            "\u001b[0;31mNameError\u001b[0m                                 Traceback (most recent call last)",
            "\u001b[0;32m<ipython-input-2-749687f7e16c>\u001b[0m in \u001b[0;36m<module>\u001b[0;34m()\u001b[0m\n\u001b[1;32m      1\u001b[0m \u001b[0mmaster_path\u001b[0m \u001b[0;34m=\u001b[0m \u001b[0;34m'utils/data/county_table.csv'\u001b[0m\u001b[0;34m\u001b[0m\u001b[0;34m\u001b[0m\u001b[0m\n\u001b[0;32m----> 2\u001b[0;31m \u001b[0mdata\u001b[0m \u001b[0;34m=\u001b[0m \u001b[0mget_numpy\u001b[0m\u001b[0;34m(\u001b[0m\u001b[0mget_dataset\u001b[0m\u001b[0;34m(\u001b[0m\u001b[0mmaster_path\u001b[0m\u001b[0;34m)\u001b[0m\u001b[0;34m)\u001b[0m\u001b[0;34m\u001b[0m\u001b[0;34m\u001b[0m\u001b[0m\n\u001b[0m\u001b[1;32m      3\u001b[0m \u001b[0;34m\u001b[0m\u001b[0m\n\u001b[1;32m      4\u001b[0m \u001b[0;32mimport\u001b[0m \u001b[0mpickle\u001b[0m\u001b[0;34m\u001b[0m\u001b[0;34m\u001b[0m\u001b[0m\n\u001b[1;32m      5\u001b[0m \u001b[0;32mwith\u001b[0m \u001b[0mopen\u001b[0m\u001b[0;34m(\u001b[0m\u001b[0;34m'dataset.pickle'\u001b[0m\u001b[0;34m,\u001b[0m \u001b[0;34m'wb'\u001b[0m\u001b[0;34m)\u001b[0m \u001b[0;32mas\u001b[0m \u001b[0mhandle\u001b[0m\u001b[0;34m:\u001b[0m\u001b[0;34m\u001b[0m\u001b[0;34m\u001b[0m\u001b[0m\n",
            "\u001b[0;31mNameError\u001b[0m: name 'get_numpy' is not defined"
          ]
        }
      ]
    },
    {
      "cell_type": "code",
      "metadata": {
        "id": "GB6eOk_VEsLs",
        "colab_type": "code",
        "colab": {}
      },
      "source": [
        "### LOAD DATA FROM PICKLE FILES ###\n",
        "# change file paths to wherever the pickled data files are stored\n",
        "import pickle\n",
        "with open('drive/My Drive/DL project/datasets/test_24_1.pickle', 'rb') as handle:\n",
        "    test_dataset = pickle.load(handle)\n",
        "with open('drive/My Drive/DL project/datasets/train_24_1.pickle', 'rb') as handle:\n",
        "    train_dataset = pickle.load(handle)\n",
        "with open('drive/My Drive/DL project/datasets/val_24_1.pickle', 'rb') as handle:\n",
        "    val_dataset = pickle.load(handle)\n",
        "\n",
        "num_months = 24 ## change this line as necessary to the number of training months per instance\n",
        "\n",
        "# this bit gets rid of all the incomplete series (i.e. those with less than num_months months)\n",
        "train_dataset = [data for data in train_dataset if len(data[0]) == num_months]\n",
        "test_dataset = [data for data in test_dataset if len(data[0]) == num_months]\n",
        "val_dataset = [data for data in val_dataset if len(data[0]) == num_months]"
      ],
      "execution_count": 0,
      "outputs": []
    },
    {
      "cell_type": "code",
      "metadata": {
        "id": "Q3MOUFk4MgRy",
        "colab_type": "code",
        "colab": {}
      },
      "source": [
        "# make DataLoaders for each of the splits of the data\n",
        "train_loader = DataLoader(train_dataset, batch_size=512,\n",
        "                          shuffle=False, pin_memory=False,\n",
        "                          num_workers=4)\n",
        "test_loader = DataLoader(test_dataset, batch_size=1,\n",
        "                          shuffle=False, pin_memory=False,\n",
        "                          num_workers=4)\n",
        "val_loader = DataLoader(val_dataset, batch_size=512,\n",
        "                          shuffle=False, pin_memory=False,\n",
        "                          num_workers=4)"
      ],
      "execution_count": 0,
      "outputs": []
    },
    {
      "cell_type": "code",
      "metadata": {
        "id": "SSDOKmCnLLue",
        "colab_type": "code",
        "colab": {}
      },
      "source": [
        "### train, val, and test functions for main training loop ###\n",
        "def train(model, train_loader, optimizer, loss_function, epoch, device=None):\n",
        "    model.train()\n",
        "    for idx, (X_train, y_train) in enumerate(train_loader):\n",
        "        if device is not None:\n",
        "            X_train, y_train = X_train.to(device), y_train.to(device)\n",
        "\n",
        "        optimizer.zero_grad()\n",
        "        y_pred = model(X_train)\n",
        "        loss = torch.sqrt(loss_function(y_pred, y_train)) # loss is RMSE of log prices\n",
        "        loss.backward()\n",
        "        optimizer.step()\n",
        "\n",
        "    return loss.item()\n",
        "\n",
        "def val(model, val_loader, loss_function, device=None):\n",
        "    model.eval()\n",
        "    val_loss = []\n",
        "    with torch.no_grad():\n",
        "        for idx, (X_val, y_val) in enumerate(val_loader):\n",
        "            if device is not None:\n",
        "                X_val, y_val = X_val.to(device), y_val.to(device)\n",
        "            y_pred = model(X_val)\n",
        "            loss = torch.sqrt(loss_function(y_pred, y_val)).item()\n",
        "            val_loss += [loss]\n",
        "    return np.mean(val_loss)\n",
        "\n",
        "def test(model, test_loader, loss_function, device=None):\n",
        "    model.eval()\n",
        "    test_loss = []\n",
        "    # mape = 0  # commented out stuff gives MAPE metric - \n",
        "                # maybe we record this as well since it's more interpratable\n",
        "    with torch.no_grad():\n",
        "        for idx, (X_test, y_test) in enumerate(test_loader):\n",
        "            if device is not None:\n",
        "                X_test, y_test = X_test.to(device), y_test.to(device)\n",
        "            y_pred = model(X_test)\n",
        "            y_pred_actual = torch.exp(y_pred)\n",
        "            y_test_actual = torch.exp(y_test)\n",
        "            # mape += torch.abs(y_test_actual - y_pred_actual) / y_test_actual\n",
        "            # if idx % 1000 == 0: # this bit just prints a few actual prices\n",
        "            #     print('{}\\t{}'.format(torch.exp(y_pred).item(), torch.exp(y_test).item()))\n",
        "            loss = torch.sqrt(loss_function(y_pred, y_test)).item()\n",
        "            test_loss += [loss]\n",
        "        # mape /= len(test_loader.dataset)\n",
        "    # return np.mean(test_loss), mape.item()\n",
        "    return np.mean(test_loss)\n",
        "\n"
      ],
      "execution_count": 0,
      "outputs": []
    },
    {
      "cell_type": "code",
      "metadata": {
        "id": "TRcM9xKMECwd",
        "colab_type": "code",
        "colab": {
          "base_uri": "https://localhost:8080/",
          "height": 237
        },
        "outputId": "40ccc965-717c-4728-a85e-2bda2d562fd7"
      },
      "source": [
        "### TRAINING ###\n",
        "device = 'cuda' # use GPU; change from 'cuda' to None for CPU\n",
        "\n",
        "# training parameters\n",
        "num_epochs = 10 # pick 10, 50, 100\n",
        "hidden_dim = 10 # pick 10, 50, 100\n",
        "learning_rate = .01 # pick .01, .001\n",
        "learning_rate_decay = .95 # pick .95\n",
        "\n",
        "### PICK A MODEL ###\n",
        "# don't forget to update the import line to whatever path the model file is stored at\n",
        "from LSTM import LSTM\n",
        "model = LSTM(input_dim=235, hidden_dim=hidden_dim, output_dim=1, num_layers=2)\n",
        "\n",
        "# from RNN import RNN\n",
        "# model = RNN(D_in=235, H=hidden_dim, D_out=1, L=1, dropout=0.0, device=device)\n",
        "\n",
        "if device is not None:\n",
        "    model.to(device)\n",
        "\n",
        "# set up optimizer, etc.\n",
        "loss_function = nn.MSELoss()\n",
        "optimizer = torch.optim.Adam(model.parameters(), lr=learning_rate)\n",
        "scheduler = ExponentialLR(optimizer, gamma=learning_rate_decay)\n",
        "\n",
        "print('Epoch\\tTrain RMSE\\tVal RMSE\\tTime Elapsed')\n",
        "print('----------------------------------------------------')\n",
        "# main training loop\n",
        "for i in range(num_epochs):\n",
        "    start = time.time()\n",
        "    train_loss = train(model, train_loader, optimizer, loss_function, i+1, device=device)\n",
        "    val_loss = val(model, val_loader, loss_function, device=device)\n",
        "    scheduler.step()\n",
        "    time_elapsed = time.time() - start\n",
        "    print('{}\\t{:.6f}\\t{:.6f}\\t{:.3f}s'.format(i+1, train_loss, val_loss, time_elapsed))"
      ],
      "execution_count": 6,
      "outputs": [
        {
          "output_type": "stream",
          "text": [
            "Epoch\tTrain RMSE\tVal RMSE\tTime Elapsed\n",
            "----------------------------------------------------\n",
            "1\t0.353139\t0.429124\t3.912s\n",
            "2\t0.360261\t0.355582\t3.783s\n",
            "3\t0.298506\t0.249291\t3.731s\n",
            "4\t0.208733\t0.230087\t3.657s\n",
            "5\t0.159793\t0.212679\t3.628s\n",
            "6\t0.196586\t0.200727\t3.779s\n",
            "7\t0.143031\t0.271291\t3.647s\n",
            "8\t0.124488\t0.193582\t3.663s\n",
            "9\t0.126722\t0.190084\t3.612s\n",
            "10\t0.133099\t0.185574\t3.725s\n"
          ],
          "name": "stdout"
        }
      ]
    },
    {
      "cell_type": "code",
      "metadata": {
        "id": "bxSKajLjECwj",
        "colab_type": "code",
        "colab": {
          "base_uri": "https://localhost:8080/",
          "height": 54
        },
        "outputId": "04ddfbf7-c448-4f73-9384-d37d33513798"
      },
      "source": [
        "### TESTING ###\n",
        "start = time.time()\n",
        "test_loss = test(model, test_loader, loss_function, device=device)\n",
        "time_elapsed = time.time() - start\n",
        "print('Test RMSE: {}'.format(test_loss))\n",
        "print('Time Elapsed: {:.3f}'.format(time_elapsed))"
      ],
      "execution_count": 12,
      "outputs": [
        {
          "output_type": "stream",
          "text": [
            "Test RMSE: 0.1528758873138454\n",
            "Time Elapsed: 43.098\n"
          ],
          "name": "stdout"
        }
      ]
    },
    {
      "cell_type": "code",
      "metadata": {
        "id": "c2ChEMEaECwo",
        "colab_type": "code",
        "colab": {}
      },
      "source": [
        ""
      ],
      "execution_count": 0,
      "outputs": []
    }
  ]
}