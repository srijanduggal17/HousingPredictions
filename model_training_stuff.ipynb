{
  "nbformat": 4,
  "nbformat_minor": 0,
  "metadata": {
    "kernelspec": {
      "display_name": "Python 3",
      "language": "python",
      "name": "python3"
    },
    "language_info": {
      "codemirror_mode": {
        "name": "ipython",
        "version": 3
      },
      "file_extension": ".py",
      "mimetype": "text/x-python",
      "name": "python",
      "nbconvert_exporter": "python",
      "pygments_lexer": "ipython3",
      "version": "3.7.7"
    },
    "colab": {
      "name": "model_training_stuff.ipynb",
      "provenance": [],
      "collapsed_sections": [],
      "toc_visible": true
    },
    "accelerator": "GPU"
  },
  "cells": [
    {
      "cell_type": "code",
      "metadata": {
        "id": "B6OLekQoECv6",
        "colab_type": "code",
        "colab": {}
      },
      "source": [
        "### RUN THIS CELL ###\n",
        "import torch\n",
        "from torch.utils.data import DataLoader\n",
        "from datetime import datetime\n",
        "from torch.utils.data import random_split\n",
        "from torch import nn\n",
        "import numpy as np\n",
        "from torch.optim.lr_scheduler import ExponentialLR\n",
        "import time"
      ],
      "execution_count": 0,
      "outputs": []
    },
    {
      "cell_type": "code",
      "metadata": {
        "id": "HlRzuvIiEEQ6",
        "colab_type": "code",
        "outputId": "bca1d3fe-c679-4f5c-908f-01a104e8f66b",
        "colab": {
          "base_uri": "https://localhost:8080/",
          "height": 121
        }
      },
      "source": [
        "### RUN THIS CELL ###\n",
        "### ALSO UPLOAD THE RNN AND LSTM MODEL FILES NOW ###\n",
        "from google.colab import drive\n",
        "drive.mount('/content/drive')"
      ],
      "execution_count": 2,
      "outputs": [
        {
          "output_type": "stream",
          "text": [
            "Go to this URL in a browser: https://accounts.google.com/o/oauth2/auth?client_id=947318989803-6bn6qk8qdgf4n4g3pfee6491hc0brc4i.apps.googleusercontent.com&redirect_uri=urn%3aietf%3awg%3aoauth%3a2.0%3aoob&response_type=code&scope=email%20https%3a%2f%2fwww.googleapis.com%2fauth%2fdocs.test%20https%3a%2f%2fwww.googleapis.com%2fauth%2fdrive%20https%3a%2f%2fwww.googleapis.com%2fauth%2fdrive.photos.readonly%20https%3a%2f%2fwww.googleapis.com%2fauth%2fpeopleapi.readonly\n",
            "\n",
            "Enter your authorization code:\n",
            "··········\n",
            "Mounted at /content/drive\n"
          ],
          "name": "stdout"
        }
      ]
    },
    {
      "cell_type": "code",
      "metadata": {
        "id": "tihFiXiTECwD",
        "colab_type": "code",
        "colab": {}
      },
      "source": [
        "### FUNCTIONS TO LOAD DATA FROM CHRIS'S THING (don't run this cell) ###\n",
        "from CountyDataset import (\n",
        "    CountyDataset,\n",
        ")\n",
        "def get_dataset(master_path):\n",
        "    dataset = CountyDataset(master_path)\n",
        "    X, Y = next(iter(dataset))\n",
        "\n",
        "    print('-'*89)\n",
        "    print('Total Dataset Summary')\n",
        "    print('-'*89)\n",
        "\n",
        "    print(f'total samples {len(dataset):,} '\n",
        "          f'X {X.size()} | Y {Y.size()}')\n",
        "\n",
        "    return dataset\n",
        "\n",
        "def get_numpy(dataset):\n",
        "    data = []\n",
        "    for i in range(len(dataset)):\n",
        "        X, Y = dataset[i]\n",
        "        data.append((X.numpy(), Y.numpy()))\n",
        "\n",
        "    print('-'*89)\n",
        "    print(f'Numpy Dataset Summary')\n",
        "    print('-'*89)\n",
        "    X, Y = zip(*data)\n",
        "    print(f'total samples {len(X)} '\n",
        "          f'| input time periods {len(X[0])} '\n",
        "          f'| input features {X[0].shape[1]} '\n",
        "          f'| output time periods {len(Y[0])}'\n",
        "          f'| target col {dataset.target_col}')\n",
        "\n",
        "    return data, dataset.xcols, dataset.target_col, dataset.date_index\n",
        "\n"
      ],
      "execution_count": 0,
      "outputs": []
    },
    {
      "cell_type": "code",
      "metadata": {
        "id": "b4DM6rIcECwL",
        "colab_type": "code",
        "outputId": "dd6b957c-6a42-4afe-af65-64ffcd5454d4",
        "colab": {
          "base_uri": "https://localhost:8080/",
          "height": 246
        }
      },
      "source": [
        "### LOAD DATASET FROM CHRIS'S THING (also don't run this cell) ###\n",
        "master_path = 'utils/data/county_table.csv'\n",
        "data = get_numpy(get_dataset(master_path))\n",
        "\n",
        "# save data to pickle file\n",
        "import pickle\n",
        "with open('dataset.pickle', 'wb') as handle:\n",
        "    pickle.dump(data[0], handle)"
      ],
      "execution_count": 0,
      "outputs": [
        {
          "output_type": "error",
          "ename": "NameError",
          "evalue": "ignored",
          "traceback": [
            "\u001b[0;31m---------------------------------------------------------------------------\u001b[0m",
            "\u001b[0;31mNameError\u001b[0m                                 Traceback (most recent call last)",
            "\u001b[0;32m<ipython-input-2-749687f7e16c>\u001b[0m in \u001b[0;36m<module>\u001b[0;34m()\u001b[0m\n\u001b[1;32m      1\u001b[0m \u001b[0mmaster_path\u001b[0m \u001b[0;34m=\u001b[0m \u001b[0;34m'utils/data/county_table.csv'\u001b[0m\u001b[0;34m\u001b[0m\u001b[0;34m\u001b[0m\u001b[0m\n\u001b[0;32m----> 2\u001b[0;31m \u001b[0mdata\u001b[0m \u001b[0;34m=\u001b[0m \u001b[0mget_numpy\u001b[0m\u001b[0;34m(\u001b[0m\u001b[0mget_dataset\u001b[0m\u001b[0;34m(\u001b[0m\u001b[0mmaster_path\u001b[0m\u001b[0;34m)\u001b[0m\u001b[0;34m)\u001b[0m\u001b[0;34m\u001b[0m\u001b[0;34m\u001b[0m\u001b[0m\n\u001b[0m\u001b[1;32m      3\u001b[0m \u001b[0;34m\u001b[0m\u001b[0m\n\u001b[1;32m      4\u001b[0m \u001b[0;32mimport\u001b[0m \u001b[0mpickle\u001b[0m\u001b[0;34m\u001b[0m\u001b[0;34m\u001b[0m\u001b[0m\n\u001b[1;32m      5\u001b[0m \u001b[0;32mwith\u001b[0m \u001b[0mopen\u001b[0m\u001b[0;34m(\u001b[0m\u001b[0;34m'dataset.pickle'\u001b[0m\u001b[0;34m,\u001b[0m \u001b[0;34m'wb'\u001b[0m\u001b[0;34m)\u001b[0m \u001b[0;32mas\u001b[0m \u001b[0mhandle\u001b[0m\u001b[0;34m:\u001b[0m\u001b[0;34m\u001b[0m\u001b[0;34m\u001b[0m\u001b[0m\n",
            "\u001b[0;31mNameError\u001b[0m: name 'get_numpy' is not defined"
          ]
        }
      ]
    },
    {
      "cell_type": "code",
      "metadata": {
        "id": "GB6eOk_VEsLs",
        "colab_type": "code",
        "colab": {}
      },
      "source": [
        "### RUN THIS CELL ###\n",
        "### MAKE SURE YOU CHANGE THE NUM_MONTHS LINE AS NECESSARY ###\n",
        "### LOAD DATA FROM PICKLE FILES ###\n",
        "# change file paths to wherever the pickled data files are stored\n",
        "import pickle\n",
        "with open('drive/My Drive/DL project/datasets/test_12_3.pickle', 'rb') as handle:\n",
        "    test_dataset = pickle.load(handle)\n",
        "with open('drive/My Drive/DL project/datasets/train_12_3.pickle', 'rb') as handle:\n",
        "    train_dataset = pickle.load(handle)\n",
        "with open('drive/My Drive/DL project/datasets/val_12_3.pickle', 'rb') as handle:\n",
        "    val_dataset = pickle.load(handle)\n",
        "\n",
        "num_months = 12 ## change this line as necessary to the number of training months per instance\n",
        "\n",
        "# this bit gets rid of all the incomplete series (i.e. those with less than num_months months)\n",
        "train_dataset = [data for data in train_dataset if len(data[0]) == num_months]\n",
        "test_dataset = [data for data in test_dataset if len(data[0]) == num_months]\n",
        "val_dataset = [data for data in val_dataset if len(data[0]) == num_months]"
      ],
      "execution_count": 0,
      "outputs": []
    },
    {
      "cell_type": "code",
      "metadata": {
        "id": "Q3MOUFk4MgRy",
        "colab_type": "code",
        "colab": {}
      },
      "source": [
        "### RUN THIS CELL ###\n",
        "# make DataLoaders for each of the splits of the data\n",
        "train_loader = DataLoader(train_dataset, batch_size=512,\n",
        "                          shuffle=False, pin_memory=False,\n",
        "                          num_workers=4)\n",
        "test_loader = DataLoader(test_dataset, batch_size=1,\n",
        "                          shuffle=False, pin_memory=False,\n",
        "                          num_workers=4)\n",
        "val_loader = DataLoader(val_dataset, batch_size=512,\n",
        "                          shuffle=False, pin_memory=False,\n",
        "                          num_workers=4)"
      ],
      "execution_count": 0,
      "outputs": []
    },
    {
      "cell_type": "code",
      "metadata": {
        "id": "SSDOKmCnLLue",
        "colab_type": "code",
        "colab": {}
      },
      "source": [
        "### RUN THIS CELL ###\n",
        "### train, val, and test functions for main training loop ###\n",
        "def train(model, train_loader, optimizer, loss_function, epoch, device=None):\n",
        "    model.train()\n",
        "    for idx, (X_train, y_train) in enumerate(train_loader):\n",
        "        if device is not None:\n",
        "            X_train, y_train = X_train.to(device), y_train.to(device)\n",
        "\n",
        "        optimizer.zero_grad()\n",
        "        y_pred = model(X_train)\n",
        "        loss = torch.sqrt(loss_function(y_pred, y_train)) # loss is RMSE of log prices\n",
        "        loss.backward()\n",
        "        optimizer.step()\n",
        "\n",
        "    return loss.item()\n",
        "\n",
        "def val(model, val_loader, loss_function, device=None):\n",
        "    model.eval()\n",
        "    val_loss = []\n",
        "    with torch.no_grad():\n",
        "        for idx, (X_val, y_val) in enumerate(val_loader):\n",
        "            if device is not None:\n",
        "                X_val, y_val = X_val.to(device), y_val.to(device)\n",
        "            y_pred = model(X_val)\n",
        "            loss = torch.sqrt(loss_function(y_pred, y_val)).item()\n",
        "            val_loss += [loss]\n",
        "    return np.mean(val_loss)\n",
        "\n",
        "def test(model, test_loader, loss_function, device=None):\n",
        "    model.eval()\n",
        "    test_loss = []\n",
        "    mape = 0  # commented out stuff gives MAPE metric - \n",
        "                # maybe we record this as well since it's more interpratable\n",
        "    with torch.no_grad():\n",
        "        for idx, (X_test, y_test) in enumerate(test_loader):\n",
        "            if device is not None:\n",
        "                X_test, y_test = X_test.to(device), y_test.to(device)\n",
        "            y_pred = model(X_test)\n",
        "            y_pred_actual = torch.exp(y_pred)\n",
        "            y_test_actual = torch.exp(y_test)\n",
        "            mape += torch.mean(torch.abs(y_test_actual - y_pred_actual) / y_test_actual)\n",
        "\n",
        "            ## uncomment the next three lines to have the test print a few prices & predictions\n",
        "            # if idx % 1000 == 0: # this bit just prints a few actual prices\n",
        "            #     print('{}   \\t{}'.format(torch.exp(y_pred).cpu().numpy(),\n",
        "            #                           torch.exp(y_test).cpu().numpy()))\n",
        "                \n",
        "            loss = torch.sqrt(loss_function(y_pred, y_test)).item()\n",
        "            test_loss += [loss]\n",
        "        mape /= len(test_loader.dataset)\n",
        "    return np.mean(test_loss), (mape.item() * 100)\n",
        "\n"
      ],
      "execution_count": 0,
      "outputs": []
    },
    {
      "cell_type": "code",
      "metadata": {
        "id": "TRcM9xKMECwd",
        "colab_type": "code",
        "outputId": "8cf2ddf3-7d9b-4378-d2d1-b9002fde045d",
        "colab": {
          "base_uri": "https://localhost:8080/",
          "height": 237
        }
      },
      "source": [
        "### TRAINING ###\n",
        "device = 'cuda' # use GPU; change from 'cuda' to None for CPU\n",
        "\n",
        "# training parameters\n",
        "num_epochs = 10 # pick 10, 50, 100\n",
        "hidden_dim = 50 # pick 10, 50, 100\n",
        "learning_rate = .01 # pick .01, .001\n",
        "months_to_predict = 3 # either 1, 3, or 6 depending on dataset\n",
        "\n",
        "### PICK A MODEL ###\n",
        "# don't forget to update the import line to whatever path the model file is stored at\n",
        "from LSTM import LSTM\n",
        "model = LSTM(input_dim=235, hidden_dim=hidden_dim, output_dim=months_to_predict, num_layers=2)\n",
        "\n",
        "# from RNN import RNN\n",
        "# model = RNN(D_in=235, H=hidden_dim, D_out=months_to_predict, L=1, dropout=0.0, device=device)\n",
        "\n",
        "if device is not None:\n",
        "    model.to(device)\n",
        "\n",
        "# set up optimizer, etc.\n",
        "loss_function = nn.MSELoss()\n",
        "optimizer = torch.optim.Adam(model.parameters(), lr=learning_rate)\n",
        "scheduler = ExponentialLR(optimizer, gamma=.95)\n",
        "\n",
        "print('Epoch\\tTrain RMSE\\tVal RMSE\\tTime Elapsed')\n",
        "print('----------------------------------------------------')\n",
        "# main training loop\n",
        "train_losses = []\n",
        "val_losses = []\n",
        "for i in range(num_epochs):\n",
        "    start = time.time()\n",
        "    train_loss = train(model, train_loader, optimizer, loss_function, i+1, device=device)\n",
        "    train_losses += [train_loss]\n",
        "    val_loss = val(model, val_loader, loss_function, device=device)\n",
        "    val_losses += [val_loss]\n",
        "    scheduler.step()\n",
        "    time_elapsed = time.time() - start\n",
        "    print('{}\\t{:.6f}\\t{:.6f}\\t{:.3f}s'.format(i+1, train_loss, val_loss, time_elapsed))"
      ],
      "execution_count": 0,
      "outputs": [
        {
          "output_type": "stream",
          "text": [
            "Epoch\tTrain RMSE\tVal RMSE\tTime Elapsed\n",
            "----------------------------------------------------\n",
            "1\t0.417714\t0.456705\t3.158s\n",
            "2\t0.446841\t0.465366\t3.195s\n",
            "3\t0.439695\t0.324347\t3.165s\n",
            "4\t0.394152\t0.270570\t3.131s\n",
            "5\t0.299161\t0.228124\t3.209s\n",
            "6\t0.268669\t0.219791\t3.184s\n",
            "7\t0.308637\t0.247296\t3.099s\n",
            "8\t0.266881\t0.214152\t3.170s\n",
            "9\t0.223806\t0.216616\t3.174s\n",
            "10\t0.199074\t0.244676\t3.149s\n"
          ],
          "name": "stdout"
        }
      ]
    },
    {
      "cell_type": "code",
      "metadata": {
        "id": "bxSKajLjECwj",
        "colab_type": "code",
        "outputId": "5bd40724-6637-4599-daf1-3177d6b76239",
        "colab": {
          "base_uri": "https://localhost:8080/",
          "height": 439
        }
      },
      "source": [
        "### TESTING ###\n",
        "start = time.time()\n",
        "test_loss, test_mape = test(model, test_loader, loss_function, device=device)\n",
        "time_elapsed = time.time() - start\n",
        "print('Test RMSE: {:.6f}\\t Test MAPE: {:.3f}%'.format(test_loss, test_mape))\n",
        "print('Time Elapsed: {:.3f}'.format(time_elapsed))"
      ],
      "execution_count": 0,
      "outputs": [
        {
          "output_type": "stream",
          "text": [
            "[[93274.16 92633.59 92979.12]]   \t[[71963.97  71716.984 71503.02 ]]\n",
            "[[140452.27 140002.53 140773.56]]   \t[[122824.01 123408.96 123689.98]]\n",
            "[[223545.95 222157.11 223980.02]]   \t[[164738.   165742.94 166701.03]]\n",
            "[[117852.37 117276.64 117830.9 ]]   \t[[73243.01 73794.02 74447.02]]\n",
            "[[97033.07  96872.19  97338.836]]   \t[[90236.96 90677.01 91099.99]]\n",
            "[[223419.8  222239.55 223854.67]]   \t[[241389.92 241794.05 242322.  ]]\n",
            "[[127506.1  127174.2  127878.61]]   \t[[84738.016 85282.01  85796.016]]\n",
            "[[165998.25 165276.83 166407.17]]   \t[[139770.94 141972.02 144825.05]]\n",
            "[[123142.8  122991.74 123594.7 ]]   \t[[114702.04 114314.05 114080.  ]]\n",
            "[[110472.52  110120.16  110635.734]]   \t[[101457.016 101770.99  102251.97 ]]\n",
            "[[276583.94 275685.16 276984.62]]   \t[[180299.05 180606.92 180937.06]]\n",
            "[[153841.61 153350.89 154319.03]]   \t[[149343.94 149878.98 148967.98]]\n",
            "[[103492.12 102809.03 103220.47]]   \t[[65354.    65206.02  65087.973]]\n",
            "[[97018.45 96508.6  96928.47]]   \t[[82859.016 83077.01  83227.99 ]]\n",
            "[[388982.72 390124.72 389165.28]]   \t[[445590.   447771.9  448988.88]]\n",
            "[[75137.76 74762.57 75018.18]]   \t[[76618.98 76764.96 76954.01]]\n",
            "[[256556.19 255385.9  256980.05]]   \t[[236598.92 237572.06 238272.97]]\n",
            "[[88380.38 87819.73 88131.49]]   \t[[122363.95  122537.95  122663.055]]\n",
            "[[118147.54 117720.04 118247.07]]   \t[[115871.97  116237.984 116800.03 ]]\n",
            "[[174586.6  173932.81 174968.8 ]]   \t[[208060.97 209658.   211437.02]]\n",
            "[[72292.84  71927.945 72101.016]]   \t[[69116.98 69305.02 69345.02]]\n",
            "Test RMSE: 0.194968\t Test MAPE: 21.962%\n",
            "Time Elapsed: 49.020\n"
          ],
          "name": "stdout"
        }
      ]
    },
    {
      "cell_type": "code",
      "metadata": {
        "id": "c2ChEMEaECwo",
        "colab_type": "code",
        "outputId": "d9d06e09-6861-43eb-a0ab-3c307fa61cbb",
        "colab": {
          "base_uri": "https://localhost:8080/",
          "height": 313
        }
      },
      "source": [
        "### PLOTTING ###\n",
        "import matplotlib.pyplot as plt\n",
        "plt.plot(train_losses)\n",
        "plt.plot(val_losses)\n",
        "\n",
        "plt.title('model loss')\n",
        "plt.ylabel('loss')\n",
        "plt.xlabel('epoch')\n",
        "plt.legend(['train','val'], loc='upper left')\n",
        "plt.show()\n",
        "from google.colab import files\n",
        "plt.savefig(\"loss.png\")\n",
        "files.download(\"loss.png\") "
      ],
      "execution_count": 0,
      "outputs": [
        {
          "output_type": "display_data",
          "data": {
            "image/png": "[encoded data removed]",
            "text/plain": [
              "<Figure size 432x288 with 1 Axes>"
            ]
          },
          "metadata": {
            "tags": [],
            "needs_background": "light"
          }
        },
        {
          "output_type": "display_data",
          "data": {
            "text/plain": [
              "<Figure size 432x288 with 0 Axes>"
            ]
          },
          "metadata": {
            "tags": []
          }
        }
      ]
    },
    {
      "cell_type": "code",
      "metadata": {
        "id": "LleibpS4J0bj",
        "colab_type": "code",
        "outputId": "21bb9812-26a0-43ab-d166-e44896cc62b2",
        "colab": {
          "base_uri": "https://localhost:8080/",
          "height": 421
        }
      },
      "source": [
        "### RUN THIS CELL ###\n",
        "### THERE ARE TWO THINGS TO CHANGE IN THIS BLOCK, LOOK FOR THE ALL CAPS ###\n",
        "from LSTM import LSTM\n",
        "from RNN import RNN\n",
        "import matplotlib.pyplot as plt\n",
        "from google.colab import files\n",
        "device = 'cuda'\n",
        "\n",
        "### CHANGE THIS NEXT LINE TO WHATEVER YOUR DATASET NAME IS ###\n",
        "dataset_name = '12_3'\n",
        "\n",
        "# training parameters\n",
        "num_epochs_list = [10, 50, 100] # pick 10, 50, 100\n",
        "hidden_dim_list = [10, 50, 100] # pick 10, 50, 100\n",
        "learning_rate_list = [.01, .001] # pick .01, .001\n",
        "networks = ['LSTM', 'RNN'] # run LSTM and RNN models\n",
        "\n",
        "### CHANGE THIS NEXT LINE TO HOWEVER MANY MONTHS YOU'RE PREDICTING\n",
        "months_to_predict = 3 # either 1, 3, or 6 depending on dataset\n",
        "\n",
        "for num_epochs in num_epochs_list:\n",
        "    for hidden_dim in hidden_dim_list:\n",
        "        for learning_rate in learning_rate_list:\n",
        "            for network in networks:\n",
        "                model = None\n",
        "                if network == 'LSTM':\n",
        "                    model = LSTM(input_dim=235, hidden_dim=hidden_dim, output_dim=months_to_predict, num_layers=2)\n",
        "                else:\n",
        "                    model = RNN(D_in=235, H=hidden_dim, D_out=months_to_predict, L=1, dropout=0.0, device=device)\n",
        "                if device is not None:\n",
        "                    model.to(device)\n",
        "\n",
        "                # set up optimizer, etc.\n",
        "                loss_function = nn.MSELoss()\n",
        "                optimizer = torch.optim.Adam(model.parameters(), lr=learning_rate)\n",
        "                scheduler = ExponentialLR(optimizer, gamma=.95)\n",
        "\n",
        "                train_losses = []\n",
        "                val_losses = []\n",
        "                \n",
        "                # train\n",
        "                print('training', end='')\n",
        "                start_time = time.time()\n",
        "                for i in range(num_epochs):\n",
        "                    train_loss = train(model, train_loader, optimizer, loss_function, i+1, device=device)\n",
        "                    train_losses += [train_loss]\n",
        "                    val_loss = val(model, val_loader, loss_function, device=device)\n",
        "                    val_losses += [val_loss]\n",
        "                    scheduler.step()\n",
        "                elapsed = time.time() - start_time\n",
        "                print('\\tTime Elapsed: {:.3f}s'.format(elapsed))\n",
        "                \n",
        "                # test\n",
        "                print('testing ', end='')\n",
        "                start_time = time.time()\n",
        "                test_loss, test_mape = test(model, test_loader, loss_function, device=device)\n",
        "                elapsed = time.time() - start_time\n",
        "                print('\\tTime Elapsed: {:.3f}s'.format(elapsed))\n",
        "\n",
        "                # results\n",
        "                print('RESULTS - epochs: {}\\thidden_dim: {}\\tlearning_rate: {}\\tnetwork: {}\\tRMSE: {:.6f}\\tMAPE: {:.3f}%'.format(\n",
        "                    num_epochs, hidden_dim, learning_rate, network, test_loss, test_mape))\n",
        "                \n",
        "                # plot\n",
        "                print('plotting')\n",
        "                plt.figure()\n",
        "                plt.plot(train_losses)\n",
        "                plt.plot(val_losses)\n",
        "                plt.title('model loss')\n",
        "                plt.ylabel('loss')\n",
        "                plt.xlabel('epoch')\n",
        "                plt.legend(['train','val'], loc='upper right')\n",
        "\n",
        "                # save plot to drive\n",
        "                filename = dataset_name + '_' + str(num_epochs) + '_' + str(hidden_dim) + '_' + str(int(1/learning_rate)) + '_' + network + '.png'\n",
        "                filepath = 'drive/My Drive/DL project/Loss Plots/' + dataset_name + '/' + filename\n",
        "                plt.savefig(filepath)\n",
        "                plt.close()\n",
        "                \n",
        "                print()"
      ],
      "execution_count": 7,
      "outputs": [
        {
          "output_type": "stream",
          "text": [
            "training\tTime Elapsed: 32.907s\n",
            "plotting\n",
            "testing "
          ],
          "name": "stdout"
        },
        {
          "output_type": "error",
          "ename": "KeyboardInterrupt",
          "evalue": "ignored",
          "traceback": [
            "\u001b[0;31m---------------------------------------------------------------------------\u001b[0m",
            "\u001b[0;31mKeyboardInterrupt\u001b[0m                         Traceback (most recent call last)",
            "\u001b[0;32m<ipython-input-7-7bbd4f0eef38>\u001b[0m in \u001b[0;36m<module>\u001b[0;34m()\u001b[0m\n\u001b[1;32m     73\u001b[0m                 \u001b[0mprint\u001b[0m\u001b[0;34m(\u001b[0m\u001b[0;34m'testing '\u001b[0m\u001b[0;34m,\u001b[0m \u001b[0mend\u001b[0m\u001b[0;34m=\u001b[0m\u001b[0;34m''\u001b[0m\u001b[0;34m)\u001b[0m\u001b[0;34m\u001b[0m\u001b[0;34m\u001b[0m\u001b[0m\n\u001b[1;32m     74\u001b[0m                 \u001b[0mstart_time\u001b[0m \u001b[0;34m=\u001b[0m \u001b[0mtime\u001b[0m\u001b[0;34m.\u001b[0m\u001b[0mtime\u001b[0m\u001b[0;34m(\u001b[0m\u001b[0;34m)\u001b[0m\u001b[0;34m\u001b[0m\u001b[0;34m\u001b[0m\u001b[0m\n\u001b[0;32m---> 75\u001b[0;31m                 \u001b[0mtest_loss\u001b[0m\u001b[0;34m,\u001b[0m \u001b[0mtest_mape\u001b[0m \u001b[0;34m=\u001b[0m \u001b[0mtest\u001b[0m\u001b[0;34m(\u001b[0m\u001b[0mmodel\u001b[0m\u001b[0;34m,\u001b[0m \u001b[0mtest_loader\u001b[0m\u001b[0;34m,\u001b[0m \u001b[0mloss_function\u001b[0m\u001b[0;34m,\u001b[0m \u001b[0mdevice\u001b[0m\u001b[0;34m=\u001b[0m\u001b[0mdevice\u001b[0m\u001b[0;34m)\u001b[0m\u001b[0;34m\u001b[0m\u001b[0;34m\u001b[0m\u001b[0m\n\u001b[0m\u001b[1;32m     76\u001b[0m                 \u001b[0melapsed\u001b[0m \u001b[0;34m=\u001b[0m \u001b[0mtime\u001b[0m\u001b[0;34m.\u001b[0m\u001b[0mtime\u001b[0m\u001b[0;34m(\u001b[0m\u001b[0;34m)\u001b[0m \u001b[0;34m-\u001b[0m \u001b[0mstart_time\u001b[0m\u001b[0;34m\u001b[0m\u001b[0;34m\u001b[0m\u001b[0m\n\u001b[1;32m     77\u001b[0m                 \u001b[0mprint\u001b[0m\u001b[0;34m(\u001b[0m\u001b[0;34m'\\tTime Elapsed: {:.3f}s'\u001b[0m\u001b[0;34m.\u001b[0m\u001b[0mformat\u001b[0m\u001b[0;34m(\u001b[0m\u001b[0melapsed\u001b[0m\u001b[0;34m)\u001b[0m\u001b[0;34m)\u001b[0m\u001b[0;34m\u001b[0m\u001b[0;34m\u001b[0m\u001b[0m\n",
            "\u001b[0;32m<ipython-input-5-c8de741c6e43>\u001b[0m in \u001b[0;36mtest\u001b[0;34m(model, test_loader, loss_function, device)\u001b[0m\n\u001b[1;32m     31\u001b[0m                 \u001b[0;31m# maybe we record this as well since it's more interpratable\u001b[0m\u001b[0;34m\u001b[0m\u001b[0;34m\u001b[0m\u001b[0;34m\u001b[0m\u001b[0m\n\u001b[1;32m     32\u001b[0m     \u001b[0;32mwith\u001b[0m \u001b[0mtorch\u001b[0m\u001b[0;34m.\u001b[0m\u001b[0mno_grad\u001b[0m\u001b[0;34m(\u001b[0m\u001b[0;34m)\u001b[0m\u001b[0;34m:\u001b[0m\u001b[0;34m\u001b[0m\u001b[0;34m\u001b[0m\u001b[0m\n\u001b[0;32m---> 33\u001b[0;31m         \u001b[0;32mfor\u001b[0m \u001b[0midx\u001b[0m\u001b[0;34m,\u001b[0m \u001b[0;34m(\u001b[0m\u001b[0mX_test\u001b[0m\u001b[0;34m,\u001b[0m \u001b[0my_test\u001b[0m\u001b[0;34m)\u001b[0m \u001b[0;32min\u001b[0m \u001b[0menumerate\u001b[0m\u001b[0;34m(\u001b[0m\u001b[0mtest_loader\u001b[0m\u001b[0;34m)\u001b[0m\u001b[0;34m:\u001b[0m\u001b[0;34m\u001b[0m\u001b[0;34m\u001b[0m\u001b[0m\n\u001b[0m\u001b[1;32m     34\u001b[0m             \u001b[0;32mif\u001b[0m \u001b[0mdevice\u001b[0m \u001b[0;32mis\u001b[0m \u001b[0;32mnot\u001b[0m \u001b[0;32mNone\u001b[0m\u001b[0;34m:\u001b[0m\u001b[0;34m\u001b[0m\u001b[0;34m\u001b[0m\u001b[0m\n\u001b[1;32m     35\u001b[0m                 \u001b[0mX_test\u001b[0m\u001b[0;34m,\u001b[0m \u001b[0my_test\u001b[0m \u001b[0;34m=\u001b[0m \u001b[0mX_test\u001b[0m\u001b[0;34m.\u001b[0m\u001b[0mto\u001b[0m\u001b[0;34m(\u001b[0m\u001b[0mdevice\u001b[0m\u001b[0;34m)\u001b[0m\u001b[0;34m,\u001b[0m \u001b[0my_test\u001b[0m\u001b[0;34m.\u001b[0m\u001b[0mto\u001b[0m\u001b[0;34m(\u001b[0m\u001b[0mdevice\u001b[0m\u001b[0;34m)\u001b[0m\u001b[0;34m\u001b[0m\u001b[0;34m\u001b[0m\u001b[0m\n",
            "\u001b[0;32m/usr/local/lib/python3.6/dist-packages/torch/utils/data/dataloader.py\u001b[0m in \u001b[0;36m__next__\u001b[0;34m(self)\u001b[0m\n\u001b[1;32m    343\u001b[0m \u001b[0;34m\u001b[0m\u001b[0m\n\u001b[1;32m    344\u001b[0m     \u001b[0;32mdef\u001b[0m \u001b[0m__next__\u001b[0m\u001b[0;34m(\u001b[0m\u001b[0mself\u001b[0m\u001b[0;34m)\u001b[0m\u001b[0;34m:\u001b[0m\u001b[0;34m\u001b[0m\u001b[0;34m\u001b[0m\u001b[0m\n\u001b[0;32m--> 345\u001b[0;31m         \u001b[0mdata\u001b[0m \u001b[0;34m=\u001b[0m \u001b[0mself\u001b[0m\u001b[0;34m.\u001b[0m\u001b[0m_next_data\u001b[0m\u001b[0;34m(\u001b[0m\u001b[0;34m)\u001b[0m\u001b[0;34m\u001b[0m\u001b[0;34m\u001b[0m\u001b[0m\n\u001b[0m\u001b[1;32m    346\u001b[0m         \u001b[0mself\u001b[0m\u001b[0;34m.\u001b[0m\u001b[0m_num_yielded\u001b[0m \u001b[0;34m+=\u001b[0m \u001b[0;36m1\u001b[0m\u001b[0;34m\u001b[0m\u001b[0;34m\u001b[0m\u001b[0m\n\u001b[1;32m    347\u001b[0m         \u001b[0;32mif\u001b[0m \u001b[0mself\u001b[0m\u001b[0;34m.\u001b[0m\u001b[0m_dataset_kind\u001b[0m \u001b[0;34m==\u001b[0m \u001b[0m_DatasetKind\u001b[0m\u001b[0;34m.\u001b[0m\u001b[0mIterable\u001b[0m \u001b[0;32mand\u001b[0m\u001b[0;31m \u001b[0m\u001b[0;31m\\\u001b[0m\u001b[0;34m\u001b[0m\u001b[0;34m\u001b[0m\u001b[0m\n",
            "\u001b[0;32m/usr/local/lib/python3.6/dist-packages/torch/utils/data/dataloader.py\u001b[0m in \u001b[0;36m_next_data\u001b[0;34m(self)\u001b[0m\n\u001b[1;32m    839\u001b[0m \u001b[0;34m\u001b[0m\u001b[0m\n\u001b[1;32m    840\u001b[0m             \u001b[0;32massert\u001b[0m \u001b[0;32mnot\u001b[0m \u001b[0mself\u001b[0m\u001b[0;34m.\u001b[0m\u001b[0m_shutdown\u001b[0m \u001b[0;32mand\u001b[0m \u001b[0mself\u001b[0m\u001b[0;34m.\u001b[0m\u001b[0m_tasks_outstanding\u001b[0m \u001b[0;34m>\u001b[0m \u001b[0;36m0\u001b[0m\u001b[0;34m\u001b[0m\u001b[0;34m\u001b[0m\u001b[0m\n\u001b[0;32m--> 841\u001b[0;31m             \u001b[0midx\u001b[0m\u001b[0;34m,\u001b[0m \u001b[0mdata\u001b[0m \u001b[0;34m=\u001b[0m \u001b[0mself\u001b[0m\u001b[0;34m.\u001b[0m\u001b[0m_get_data\u001b[0m\u001b[0;34m(\u001b[0m\u001b[0;34m)\u001b[0m\u001b[0;34m\u001b[0m\u001b[0;34m\u001b[0m\u001b[0m\n\u001b[0m\u001b[1;32m    842\u001b[0m             \u001b[0mself\u001b[0m\u001b[0;34m.\u001b[0m\u001b[0m_tasks_outstanding\u001b[0m \u001b[0;34m-=\u001b[0m \u001b[0;36m1\u001b[0m\u001b[0;34m\u001b[0m\u001b[0;34m\u001b[0m\u001b[0m\n\u001b[1;32m    843\u001b[0m \u001b[0;34m\u001b[0m\u001b[0m\n",
            "\u001b[0;32m/usr/local/lib/python3.6/dist-packages/torch/utils/data/dataloader.py\u001b[0m in \u001b[0;36m_get_data\u001b[0;34m(self)\u001b[0m\n\u001b[1;32m    806\u001b[0m         \u001b[0;32melse\u001b[0m\u001b[0;34m:\u001b[0m\u001b[0;34m\u001b[0m\u001b[0;34m\u001b[0m\u001b[0m\n\u001b[1;32m    807\u001b[0m             \u001b[0;32mwhile\u001b[0m \u001b[0;32mTrue\u001b[0m\u001b[0;34m:\u001b[0m\u001b[0;34m\u001b[0m\u001b[0;34m\u001b[0m\u001b[0m\n\u001b[0;32m--> 808\u001b[0;31m                 \u001b[0msuccess\u001b[0m\u001b[0;34m,\u001b[0m \u001b[0mdata\u001b[0m \u001b[0;34m=\u001b[0m \u001b[0mself\u001b[0m\u001b[0;34m.\u001b[0m\u001b[0m_try_get_data\u001b[0m\u001b[0;34m(\u001b[0m\u001b[0;34m)\u001b[0m\u001b[0;34m\u001b[0m\u001b[0;34m\u001b[0m\u001b[0m\n\u001b[0m\u001b[1;32m    809\u001b[0m                 \u001b[0;32mif\u001b[0m \u001b[0msuccess\u001b[0m\u001b[0;34m:\u001b[0m\u001b[0;34m\u001b[0m\u001b[0;34m\u001b[0m\u001b[0m\n\u001b[1;32m    810\u001b[0m                     \u001b[0;32mreturn\u001b[0m \u001b[0mdata\u001b[0m\u001b[0;34m\u001b[0m\u001b[0;34m\u001b[0m\u001b[0m\n",
            "\u001b[0;32m/usr/local/lib/python3.6/dist-packages/torch/utils/data/dataloader.py\u001b[0m in \u001b[0;36m_try_get_data\u001b[0;34m(self, timeout)\u001b[0m\n\u001b[1;32m    759\u001b[0m         \u001b[0;31m#   (bool: whether successfully get data, any: data if successful else None)\u001b[0m\u001b[0;34m\u001b[0m\u001b[0;34m\u001b[0m\u001b[0;34m\u001b[0m\u001b[0m\n\u001b[1;32m    760\u001b[0m         \u001b[0;32mtry\u001b[0m\u001b[0;34m:\u001b[0m\u001b[0;34m\u001b[0m\u001b[0;34m\u001b[0m\u001b[0m\n\u001b[0;32m--> 761\u001b[0;31m             \u001b[0mdata\u001b[0m \u001b[0;34m=\u001b[0m \u001b[0mself\u001b[0m\u001b[0;34m.\u001b[0m\u001b[0m_data_queue\u001b[0m\u001b[0;34m.\u001b[0m\u001b[0mget\u001b[0m\u001b[0;34m(\u001b[0m\u001b[0mtimeout\u001b[0m\u001b[0;34m=\u001b[0m\u001b[0mtimeout\u001b[0m\u001b[0;34m)\u001b[0m\u001b[0;34m\u001b[0m\u001b[0;34m\u001b[0m\u001b[0m\n\u001b[0m\u001b[1;32m    762\u001b[0m             \u001b[0;32mreturn\u001b[0m \u001b[0;34m(\u001b[0m\u001b[0;32mTrue\u001b[0m\u001b[0;34m,\u001b[0m \u001b[0mdata\u001b[0m\u001b[0;34m)\u001b[0m\u001b[0;34m\u001b[0m\u001b[0;34m\u001b[0m\u001b[0m\n\u001b[1;32m    763\u001b[0m         \u001b[0;32mexcept\u001b[0m \u001b[0mException\u001b[0m \u001b[0;32mas\u001b[0m \u001b[0me\u001b[0m\u001b[0;34m:\u001b[0m\u001b[0;34m\u001b[0m\u001b[0;34m\u001b[0m\u001b[0m\n",
            "\u001b[0;32m/usr/lib/python3.6/multiprocessing/queues.py\u001b[0m in \u001b[0;36mget\u001b[0;34m(self, block, timeout)\u001b[0m\n\u001b[1;32m    111\u001b[0m                 \u001b[0mself\u001b[0m\u001b[0;34m.\u001b[0m\u001b[0m_rlock\u001b[0m\u001b[0;34m.\u001b[0m\u001b[0mrelease\u001b[0m\u001b[0;34m(\u001b[0m\u001b[0;34m)\u001b[0m\u001b[0;34m\u001b[0m\u001b[0;34m\u001b[0m\u001b[0m\n\u001b[1;32m    112\u001b[0m         \u001b[0;31m# unserialize the data after having released the lock\u001b[0m\u001b[0;34m\u001b[0m\u001b[0;34m\u001b[0m\u001b[0;34m\u001b[0m\u001b[0m\n\u001b[0;32m--> 113\u001b[0;31m         \u001b[0;32mreturn\u001b[0m \u001b[0m_ForkingPickler\u001b[0m\u001b[0;34m.\u001b[0m\u001b[0mloads\u001b[0m\u001b[0;34m(\u001b[0m\u001b[0mres\u001b[0m\u001b[0;34m)\u001b[0m\u001b[0;34m\u001b[0m\u001b[0;34m\u001b[0m\u001b[0m\n\u001b[0m\u001b[1;32m    114\u001b[0m \u001b[0;34m\u001b[0m\u001b[0m\n\u001b[1;32m    115\u001b[0m     \u001b[0;32mdef\u001b[0m \u001b[0mqsize\u001b[0m\u001b[0;34m(\u001b[0m\u001b[0mself\u001b[0m\u001b[0;34m)\u001b[0m\u001b[0;34m:\u001b[0m\u001b[0;34m\u001b[0m\u001b[0;34m\u001b[0m\u001b[0m\n",
            "\u001b[0;32m/usr/local/lib/python3.6/dist-packages/torch/multiprocessing/reductions.py\u001b[0m in \u001b[0;36mrebuild_tensor\u001b[0;34m(cls, storage, metadata)\u001b[0m\n\u001b[1;32m     88\u001b[0m \u001b[0;32mdef\u001b[0m \u001b[0mrebuild_tensor\u001b[0m\u001b[0;34m(\u001b[0m\u001b[0mcls\u001b[0m\u001b[0;34m,\u001b[0m \u001b[0mstorage\u001b[0m\u001b[0;34m,\u001b[0m \u001b[0mmetadata\u001b[0m\u001b[0;34m)\u001b[0m\u001b[0;34m:\u001b[0m\u001b[0;34m\u001b[0m\u001b[0;34m\u001b[0m\u001b[0m\n\u001b[1;32m     89\u001b[0m     \u001b[0mstorage_offset\u001b[0m\u001b[0;34m,\u001b[0m \u001b[0msize\u001b[0m\u001b[0;34m,\u001b[0m \u001b[0mstride\u001b[0m\u001b[0;34m,\u001b[0m \u001b[0mrequires_grad\u001b[0m \u001b[0;34m=\u001b[0m \u001b[0mmetadata\u001b[0m\u001b[0;34m\u001b[0m\u001b[0;34m\u001b[0m\u001b[0m\n\u001b[0;32m---> 90\u001b[0;31m     \u001b[0mt\u001b[0m \u001b[0;34m=\u001b[0m \u001b[0mtorch\u001b[0m\u001b[0;34m.\u001b[0m\u001b[0m_utils\u001b[0m\u001b[0;34m.\u001b[0m\u001b[0m_rebuild_tensor\u001b[0m\u001b[0;34m(\u001b[0m\u001b[0mstorage\u001b[0m\u001b[0;34m,\u001b[0m \u001b[0mstorage_offset\u001b[0m\u001b[0;34m,\u001b[0m \u001b[0msize\u001b[0m\u001b[0;34m,\u001b[0m \u001b[0mstride\u001b[0m\u001b[0;34m)\u001b[0m\u001b[0;34m\u001b[0m\u001b[0;34m\u001b[0m\u001b[0m\n\u001b[0m\u001b[1;32m     91\u001b[0m     \u001b[0;32mif\u001b[0m \u001b[0mcls\u001b[0m \u001b[0;34m==\u001b[0m \u001b[0mtorch\u001b[0m\u001b[0;34m.\u001b[0m\u001b[0mnn\u001b[0m\u001b[0;34m.\u001b[0m\u001b[0mparameter\u001b[0m\u001b[0;34m.\u001b[0m\u001b[0mParameter\u001b[0m\u001b[0;34m:\u001b[0m\u001b[0;34m\u001b[0m\u001b[0;34m\u001b[0m\u001b[0m\n\u001b[1;32m     92\u001b[0m         \u001b[0;31m# we have to pass requires_grad into constructor, rather than set it as an\u001b[0m\u001b[0;34m\u001b[0m\u001b[0;34m\u001b[0m\u001b[0;34m\u001b[0m\u001b[0m\n",
            "\u001b[0;31mKeyboardInterrupt\u001b[0m: "
          ]
        }
      ]
    }
  ]
}