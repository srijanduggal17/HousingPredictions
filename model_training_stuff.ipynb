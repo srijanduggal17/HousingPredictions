{
  "nbformat": 4,
  "nbformat_minor": 0,
  "metadata": {
    "kernelspec": {
      "display_name": "Python 3",
      "language": "python",
      "name": "python3"
    },
    "language_info": {
      "codemirror_mode": {
        "name": "ipython",
        "version": 3
      },
      "file_extension": ".py",
      "mimetype": "text/x-python",
      "name": "python",
      "nbconvert_exporter": "python",
      "pygments_lexer": "ipython3",
      "version": "3.7.7"
    },
    "colab": {
      "name": "model_training_stuff.ipynb",
      "provenance": [],
      "collapsed_sections": [],
      "toc_visible": true
    },
    "accelerator": "GPU"
  },
  "cells": [
    {
      "cell_type": "code",
      "metadata": {
        "id": "B6OLekQoECv6",
        "colab_type": "code",
        "colab": {}
      },
      "source": [
        "import torch\n",
        "from torch.utils.data import DataLoader\n",
        "from datetime import datetime\n",
        "from torch.utils.data import random_split\n",
        "from torch import nn\n",
        "import numpy as np\n",
        "from torch.optim.lr_scheduler import ExponentialLR\n",
        "import time"
      ],
      "execution_count": 0,
      "outputs": []
    },
    {
      "cell_type": "code",
      "metadata": {
        "id": "HlRzuvIiEEQ6",
        "colab_type": "code",
        "outputId": "3ad7311e-1b4b-4460-f903-563d5c37683f",
        "colab": {
          "base_uri": "https://localhost:8080/",
          "height": 129
        }
      },
      "source": [
        "from google.colab import drive\n",
        "drive.mount('/content/drive')"
      ],
      "execution_count": 2,
      "outputs": [
        {
          "output_type": "stream",
          "text": [
            "Go to this URL in a browser: https://accounts.google.com/o/oauth2/auth?client_id=947318989803-6bn6qk8qdgf4n4g3pfee6491hc0brc4i.apps.googleusercontent.com&redirect_uri=urn%3aietf%3awg%3aoauth%3a2.0%3aoob&response_type=code&scope=email%20https%3a%2f%2fwww.googleapis.com%2fauth%2fdocs.test%20https%3a%2f%2fwww.googleapis.com%2fauth%2fdrive%20https%3a%2f%2fwww.googleapis.com%2fauth%2fdrive.photos.readonly%20https%3a%2f%2fwww.googleapis.com%2fauth%2fpeopleapi.readonly\n",
            "\n",
            "Enter your authorization code:\n",
            "··········\n",
            "Mounted at /content/drive\n"
          ],
          "name": "stdout"
        }
      ]
    },
    {
      "cell_type": "code",
      "metadata": {
        "id": "tihFiXiTECwD",
        "colab_type": "code",
        "colab": {}
      },
      "source": [
        "### FUNCTIONS TO LOAD DATA FROM CHRIS'S THING (don't run this cell) ###\n",
        "from CountyDataset import (\n",
        "    CountyDataset,\n",
        ")\n",
        "def get_dataset(master_path):\n",
        "    dataset = CountyDataset(master_path)\n",
        "    X, Y = next(iter(dataset))\n",
        "\n",
        "    print('-'*89)\n",
        "    print('Total Dataset Summary')\n",
        "    print('-'*89)\n",
        "\n",
        "    print(f'total samples {len(dataset):,} '\n",
        "          f'X {X.size()} | Y {Y.size()}')\n",
        "\n",
        "    return dataset\n",
        "\n",
        "def get_numpy(dataset):\n",
        "    data = []\n",
        "    for i in range(len(dataset)):\n",
        "        X, Y = dataset[i]\n",
        "        data.append((X.numpy(), Y.numpy()))\n",
        "\n",
        "    print('-'*89)\n",
        "    print(f'Numpy Dataset Summary')\n",
        "    print('-'*89)\n",
        "    X, Y = zip(*data)\n",
        "    print(f'total samples {len(X)} '\n",
        "          f'| input time periods {len(X[0])} '\n",
        "          f'| input features {X[0].shape[1]} '\n",
        "          f'| output time periods {len(Y[0])}'\n",
        "          f'| target col {dataset.target_col}')\n",
        "\n",
        "    return data, dataset.xcols, dataset.target_col, dataset.date_index\n",
        "\n"
      ],
      "execution_count": 0,
      "outputs": []
    },
    {
      "cell_type": "code",
      "metadata": {
        "id": "b4DM6rIcECwL",
        "colab_type": "code",
        "outputId": "dd6b957c-6a42-4afe-af65-64ffcd5454d4",
        "colab": {
          "base_uri": "https://localhost:8080/",
          "height": 246
        }
      },
      "source": [
        "### LOAD DATASET FROM CHRIS'S THING (also don't run this cell) ###\n",
        "master_path = 'utils/data/county_table.csv'\n",
        "data = get_numpy(get_dataset(master_path))\n",
        "\n",
        "# save data to pickle file\n",
        "import pickle\n",
        "with open('dataset.pickle', 'wb') as handle:\n",
        "    pickle.dump(data[0], handle)"
      ],
      "execution_count": 0,
      "outputs": [
        {
          "output_type": "error",
          "ename": "NameError",
          "evalue": "ignored",
          "traceback": [
            "\u001b[0;31m---------------------------------------------------------------------------\u001b[0m",
            "\u001b[0;31mNameError\u001b[0m                                 Traceback (most recent call last)",
            "\u001b[0;32m<ipython-input-2-749687f7e16c>\u001b[0m in \u001b[0;36m<module>\u001b[0;34m()\u001b[0m\n\u001b[1;32m      1\u001b[0m \u001b[0mmaster_path\u001b[0m \u001b[0;34m=\u001b[0m \u001b[0;34m'utils/data/county_table.csv'\u001b[0m\u001b[0;34m\u001b[0m\u001b[0;34m\u001b[0m\u001b[0m\n\u001b[0;32m----> 2\u001b[0;31m \u001b[0mdata\u001b[0m \u001b[0;34m=\u001b[0m \u001b[0mget_numpy\u001b[0m\u001b[0;34m(\u001b[0m\u001b[0mget_dataset\u001b[0m\u001b[0;34m(\u001b[0m\u001b[0mmaster_path\u001b[0m\u001b[0;34m)\u001b[0m\u001b[0;34m)\u001b[0m\u001b[0;34m\u001b[0m\u001b[0;34m\u001b[0m\u001b[0m\n\u001b[0m\u001b[1;32m      3\u001b[0m \u001b[0;34m\u001b[0m\u001b[0m\n\u001b[1;32m      4\u001b[0m \u001b[0;32mimport\u001b[0m \u001b[0mpickle\u001b[0m\u001b[0;34m\u001b[0m\u001b[0;34m\u001b[0m\u001b[0m\n\u001b[1;32m      5\u001b[0m \u001b[0;32mwith\u001b[0m \u001b[0mopen\u001b[0m\u001b[0;34m(\u001b[0m\u001b[0;34m'dataset.pickle'\u001b[0m\u001b[0;34m,\u001b[0m \u001b[0;34m'wb'\u001b[0m\u001b[0;34m)\u001b[0m \u001b[0;32mas\u001b[0m \u001b[0mhandle\u001b[0m\u001b[0;34m:\u001b[0m\u001b[0;34m\u001b[0m\u001b[0;34m\u001b[0m\u001b[0m\n",
            "\u001b[0;31mNameError\u001b[0m: name 'get_numpy' is not defined"
          ]
        }
      ]
    },
    {
      "cell_type": "code",
      "metadata": {
        "id": "GB6eOk_VEsLs",
        "colab_type": "code",
        "colab": {}
      },
      "source": [
        "### LOAD DATA FROM PICKLE FILES ###\n",
        "# change file paths to wherever the pickled data files are stored\n",
        "import pickle\n",
        "with open('drive/My Drive/DL project/datasets/test_12_3.pickle', 'rb') as handle:\n",
        "    test_dataset = pickle.load(handle)\n",
        "with open('drive/My Drive/DL project/datasets/train_12_3.pickle', 'rb') as handle:\n",
        "    train_dataset = pickle.load(handle)\n",
        "with open('drive/My Drive/DL project/datasets/val_12_3.pickle', 'rb') as handle:\n",
        "    val_dataset = pickle.load(handle)\n",
        "\n",
        "num_months = 12 ## change this line as necessary to the number of training months per instance\n",
        "\n",
        "# this bit gets rid of all the incomplete series (i.e. those with less than num_months months)\n",
        "train_dataset = [data for data in train_dataset if len(data[0]) == num_months]\n",
        "test_dataset = [data for data in test_dataset if len(data[0]) == num_months]\n",
        "val_dataset = [data for data in val_dataset if len(data[0]) == num_months]"
      ],
      "execution_count": 0,
      "outputs": []
    },
    {
      "cell_type": "code",
      "metadata": {
        "id": "Q3MOUFk4MgRy",
        "colab_type": "code",
        "colab": {}
      },
      "source": [
        "# make DataLoaders for each of the splits of the data\n",
        "train_loader = DataLoader(train_dataset, batch_size=512,\n",
        "                          shuffle=False, pin_memory=False,\n",
        "                          num_workers=4)\n",
        "test_loader = DataLoader(test_dataset, batch_size=1,\n",
        "                          shuffle=False, pin_memory=False,\n",
        "                          num_workers=4)\n",
        "val_loader = DataLoader(val_dataset, batch_size=512,\n",
        "                          shuffle=False, pin_memory=False,\n",
        "                          num_workers=4)"
      ],
      "execution_count": 0,
      "outputs": []
    },
    {
      "cell_type": "code",
      "metadata": {
        "id": "SSDOKmCnLLue",
        "colab_type": "code",
        "colab": {}
      },
      "source": [
        "### train, val, and test functions for main training loop ###\n",
        "def train(model, train_loader, optimizer, loss_function, epoch, device=None):\n",
        "    model.train()\n",
        "    for idx, (X_train, y_train) in enumerate(train_loader):\n",
        "        if device is not None:\n",
        "            X_train, y_train = X_train.to(device), y_train.to(device)\n",
        "\n",
        "        optimizer.zero_grad()\n",
        "        y_pred = model(X_train)\n",
        "        loss = torch.sqrt(loss_function(y_pred, y_train)) # loss is RMSE of log prices\n",
        "        loss.backward()\n",
        "        optimizer.step()\n",
        "\n",
        "    return loss.item()\n",
        "\n",
        "def val(model, val_loader, loss_function, device=None):\n",
        "    model.eval()\n",
        "    val_loss = []\n",
        "    with torch.no_grad():\n",
        "        for idx, (X_val, y_val) in enumerate(val_loader):\n",
        "            if device is not None:\n",
        "                X_val, y_val = X_val.to(device), y_val.to(device)\n",
        "            y_pred = model(X_val)\n",
        "            loss = torch.sqrt(loss_function(y_pred, y_val)).item()\n",
        "            val_loss += [loss]\n",
        "    return np.mean(val_loss)\n",
        "\n",
        "def test(model, test_loader, loss_function, device=None):\n",
        "    model.eval()\n",
        "    test_loss = []\n",
        "    mape = 0  # commented out stuff gives MAPE metric - \n",
        "                # maybe we record this as well since it's more interpratable\n",
        "    with torch.no_grad():\n",
        "        for idx, (X_test, y_test) in enumerate(test_loader):\n",
        "            if device is not None:\n",
        "                X_test, y_test = X_test.to(device), y_test.to(device)\n",
        "            y_pred = model(X_test)\n",
        "            y_pred_actual = torch.exp(y_pred)\n",
        "            y_test_actual = torch.exp(y_test)\n",
        "            mape += torch.mean(torch.abs(y_test_actual - y_pred_actual) / y_test_actual)\n",
        "\n",
        "            ## uncomment the next three lines to have the test print a few prices & predictions\n",
        "            if idx % 1000 == 0: # this bit just prints a few actual prices\n",
        "                print('{}   \\t{}'.format(torch.exp(y_pred).cpu().numpy(),\n",
        "                                      torch.exp(y_test).cpu().numpy()))\n",
        "                \n",
        "            loss = torch.sqrt(loss_function(y_pred, y_test)).item()\n",
        "            test_loss += [loss]\n",
        "        mape /= len(test_loader.dataset)\n",
        "    return np.mean(test_loss), (mape.item() * 100)\n",
        "\n"
      ],
      "execution_count": 0,
      "outputs": []
    },
    {
      "cell_type": "code",
      "metadata": {
        "id": "TRcM9xKMECwd",
        "colab_type": "code",
        "outputId": "e56f0e5e-bddb-41b9-a706-74c70fc587d6",
        "colab": {
          "base_uri": "https://localhost:8080/",
          "height": 237
        }
      },
      "source": [
        "### TRAINING ###\n",
        "device = 'cuda' # use GPU; change from 'cuda' to None for CPU\n",
        "\n",
        "# training parameters\n",
        "num_epochs = 10 # pick 10, 50, 100\n",
        "hidden_dim = 10 # pick 10, 50, 100\n",
        "learning_rate = .01 # pick .01, .001\n",
        "months_to_predict = 3 # either 1, 3, or 6 depending on dataset\n",
        "\n",
        "### PICK A MODEL ###\n",
        "# don't forget to update the import line to whatever path the model file is stored at\n",
        "from LSTM import LSTM\n",
        "model = LSTM(input_dim=235, hidden_dim=hidden_dim, output_dim=months_to_predict, num_layers=2)\n",
        "\n",
        "# from RNN import RNN\n",
        "# model = RNN(D_in=235, H=hidden_dim, D_out=months_to_predict, L=1, dropout=0.0, device=device)\n",
        "\n",
        "if device is not None:\n",
        "    model.to(device)\n",
        "\n",
        "# set up optimizer, etc.\n",
        "loss_function = nn.MSELoss()\n",
        "optimizer = torch.optim.Adam(model.parameters(), lr=learning_rate)\n",
        "scheduler = ExponentialLR(optimizer, gamma=.95)\n",
        "\n",
        "print('Epoch\\tTrain RMSE\\tVal RMSE\\tTime Elapsed')\n",
        "print('----------------------------------------------------')\n",
        "# main training loop\n",
        "train_losses = []\n",
        "val_losses = []\n",
        "for i in range(num_epochs):\n",
        "    start = time.time()\n",
        "    train_loss = train(model, train_loader, optimizer, loss_function, i+1, device=device)\n",
        "    train_losses += [train_loss]\n",
        "    val_loss = val(model, val_loader, loss_function, device=device)\n",
        "    val_losses += [val_loss]\n",
        "    scheduler.step()\n",
        "    time_elapsed = time.time() - start\n",
        "    print('{}\\t{:.6f}\\t{:.6f}\\t{:.3f}s'.format(i+1, train_loss, val_loss, time_elapsed))"
      ],
      "execution_count": 7,
      "outputs": [
        {
          "output_type": "stream",
          "text": [
            "Epoch\tTrain RMSE\tVal RMSE\tTime Elapsed\n",
            "----------------------------------------------------\n",
            "1\t0.369819\t0.428818\t3.977s\n",
            "2\t0.304295\t0.321513\t3.721s\n",
            "3\t0.308736\t0.283378\t3.716s\n",
            "4\t0.153631\t0.232467\t3.747s\n",
            "5\t0.165415\t0.219935\t3.743s\n",
            "6\t0.164885\t0.226631\t3.700s\n",
            "7\t0.155999\t0.206211\t3.762s\n",
            "8\t0.149469\t0.191592\t3.702s\n",
            "9\t0.148506\t0.194407\t3.790s\n",
            "10\t0.147035\t0.192271\t3.786s\n"
          ],
          "name": "stdout"
        }
      ]
    },
    {
      "cell_type": "code",
      "metadata": {
        "id": "bxSKajLjECwj",
        "colab_type": "code",
        "outputId": "6a5bf874-fb74-42ef-82a5-3df4e8309387",
        "colab": {
          "base_uri": "https://localhost:8080/",
          "height": 384
        }
      },
      "source": [
        "### TESTING ###\n",
        "start = time.time()\n",
        "test_loss, test_mape = test(model, test_loader, loss_function, device=device)\n",
        "time_elapsed = time.time() - start\n",
        "print('Test RMSE: {:.6f}\\t Test MAPE: {:.3f}%'.format(test_loss, test_mape))\n",
        "print('Time Elapsed: {:.3f}'.format(time_elapsed))"
      ],
      "execution_count": 24,
      "outputs": [
        {
          "output_type": "stream",
          "text": [
            "[[73110.9  70443.43 70886.86]]   \t[[70815.984 70803.016 70743.016]]\n",
            "[[98382.78  98041.3   98425.766]]   \t[[62165.984 62255.99  62260.023]]\n",
            "[[86101.51 83803.28 84323.98]]   \t[[56992.992 57180.98  57349.02 ]]\n",
            "[[197635.47 198460.66 199541.84]]   \t[[208582.08 208581.08 208462.95]]\n",
            "[[179527.12 176661.42 177875.73]]   \t[[190155.   190431.94 190901.06]]\n",
            "[[215710.7  215400.7  216591.53]]   \t[[347422.84 346862.06 345717.06]]\n",
            "[[182493.1  179561.03 180805.98]]   \t[[133354.97 134905.95 136376.98]]\n",
            "[[103215.64 100108.17 101194.66]]   \t[[88693.04 88775.04 89124.96]]\n",
            "[[77037.35 73840.91 74486.87]]   \t[[87781.04  88137.97  88313.984]]\n",
            "[[82761.17 80621.88 81089.71]]   \t[[87415.97 87622.96 87852.98]]\n",
            "[[64340.414 60675.316 61139.07 ]]   \t[[54334.984 54272.01  54361.   ]]\n",
            "[[181886.7  178856.38 180111.2 ]]   \t[[261136.97 262772.03 264568.9 ]]\n",
            "[[325397.38 318394.12 321099.78]]   \t[[387689.1  389445.97 391455.97]]\n",
            "[[86512.4  83581.71 84396.23]]   \t[[80868.99  81104.016 81481.96 ]]\n",
            "[[105582.945 106374.62  106948.32 ]]   \t[[83915.   84503.02 85006.01]]\n",
            "[[147488.64 149039.3  149757.11]]   \t[[192779.98 193679.08 194885.08]]\n",
            "[[105165.51 103026.43 103794.98]]   \t[[79268.016 79615.01  79966.03 ]]\n",
            "[[97063.62 96543.67 97006.89]]   \t[[110578.984 110865.04  111146.95 ]]\n",
            "Test RMSE: 0.150853\t Test MAPE: 15.336%\n",
            "Time Elapsed: 45.487\n"
          ],
          "name": "stdout"
        }
      ]
    },
    {
      "cell_type": "code",
      "metadata": {
        "id": "c2ChEMEaECwo",
        "colab_type": "code",
        "outputId": "014f89c9-f223-4fb6-cf36-4fda7482c67c",
        "colab": {
          "base_uri": "https://localhost:8080/",
          "height": 295
        }
      },
      "source": [
        "### PLOTTING ###\n",
        "import matplotlib.pyplot as plt\n",
        "plt.plot(train_losses)\n",
        "plt.plot(val_losses)\n",
        "\n",
        "plt.title('model loss')\n",
        "plt.ylabel('loss')\n",
        "plt.xlabel('epoch')\n",
        "plt.legend(['train','val'], loc='upper left')\n",
        "plt.show()"
      ],
      "execution_count": 12,
      "outputs": [
        {
          "output_type": "display_data",
          "data": {
            "image/png": "[encoded data removed]",
            "text/plain": [
              "<Figure size 432x288 with 1 Axes>"
            ]
          },
          "metadata": {
            "tags": [],
            "needs_background": "light"
          }
        }
      ]
    },
    {
      "cell_type": "code",
      "metadata": {
        "id": "LleibpS4J0bj",
        "colab_type": "code",
        "colab": {}
      },
      "source": [
        ""
      ],
      "execution_count": 0,
      "outputs": []
    }
  ]
}