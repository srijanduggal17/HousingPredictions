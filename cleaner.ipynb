{
 "cells": [
  {
   "cell_type": "code",
   "execution_count": 110,
   "metadata": {},
   "outputs": [
    {
     "name": "stdout",
     "output_type": "stream",
     "text": [
      "The autoreload extension is already loaded. To reload it, use:\n",
      "  %reload_ext autoreload\n"
     ]
    }
   ],
   "source": [
    "from datetime import timedelta\n",
    "import pickle\n",
    "from os import listdir\n",
    "from os.path import (\n",
    "join, isfile, splitext, basename\n",
    ")\n",
    "import pandas as pd\n",
    "import numpy as np\n",
    "import torch\n",
    "from utils.data.CountyDataset import (\n",
    "    CountyDataset, COUNTY_DROP_COLS, COUNTY_PCT_COLS,\n",
    "    FEDERAL_DROP_COLS, STATE_DROP_COLS, COUNTY_DROP_COLS\n",
    ")\n",
    "\n",
    "%load_ext autoreload\n",
    "%autoreload 2"
   ]
  },
  {
   "cell_type": "code",
   "execution_count": 112,
   "metadata": {},
   "outputs": [],
   "source": [
    "# get valid state and county paths\n",
    "state_paths = CountyDataset.get_valid_paths(path_type='state', verbose=False)\n",
    "county_paths = CountyDataset.get_valid_paths(path_type='county', verbose=False)\n",
    "county_ids = [int(basename(p).split('_')[0]) for p in county_paths]\n",
    "state_ids = [int(basename(p).split('_')[0]) for p in state_paths]"
   ]
  },
  {
   "cell_type": "code",
   "execution_count": 113,
   "metadata": {},
   "outputs": [],
   "source": [
    "# get master reference\n",
    "master_path = 'data/master_county_state_reference.csv'\n",
    "df_master = pd.read_csv(master_path, usecols=['county_id', 'state_id'], dtype=np.integer)\n",
    "df_master = df_master[df_master.county_id.isin(county_ids)]\n",
    "df_master = df_master[df_master.state_id.isin(state_ids)]\n",
    "df_master = df_master.reset_index(drop=True)"
   ]
  },
  {
   "cell_type": "code",
   "execution_count": 114,
   "metadata": {},
   "outputs": [],
   "source": [
    "# split into train, test, val\n",
    "data_refs = df_master.values\n",
    "np.random.shuffle(data_refs)\n",
    "train_pct = 0.7\n",
    "val_pct = 0.15\n",
    "\n",
    "train_idx = int(np.floor((len(data_refs)*train_pct)))\n",
    "val_idx = train_idx+int(np.floor((len(data_refs)*val_pct)))\n",
    "train_master = data_refs[:train_idx,:]\n",
    "val_master = data_refs[train_idx:val_idx]\n",
    "test_master = data_refs[val_idx:]"
   ]
  },
  {
   "cell_type": "code",
   "execution_count": 116,
   "metadata": {},
   "outputs": [],
   "source": [
    "def get_stats(DIN):\n",
    "    X, _, Y = zip(*DIN)\n",
    "    X = torch.cat(X, dim=0)\n",
    "    Y = torch.cat(Y, dim=0)\n",
    "    xmu, xstd = X.mean(dim=0), X.std(dim=0)\n",
    "    ymu, ystd = Y.mean(dim=0), Y.std(dim=0)\n",
    "    return (xmu, xstd), (ymu, ystd)"
   ]
  },
  {
   "cell_type": "code",
   "execution_count": 152,
   "metadata": {},
   "outputs": [
    {
     "name": "stdout",
     "output_type": "stream",
     "text": [
      "getting data for train\n",
      "getting stats\n",
      "standardizing data for train\n",
      "saving train data for 24 6\n",
      "getting data for val\n",
      "standardizing data for val\n",
      "saving val data for 24 6\n",
      "getting data for test\n",
      "standardizing data for test\n",
      "saving test data for 24 6\n"
     ]
    }
   ],
   "source": [
    "df_country = pd.read_csv(join(CountyDataset.COUNTRY_DIR, f'usa.csv'), dtype=np.float32, index_col='date', parse_dates=['date'])\n",
    "df_country = df_country.drop(labels=FEDERAL_DROP_COLS, axis=1)\n",
    "Tback = 24\n",
    "Tfwd = 6\n",
    "T = Tback+Tfwd\n",
    "split_types = ['train', 'val', 'test']\n",
    "datasets = [train_master, val_master, test_master]\n",
    "xstats, ystats = None, None\n",
    "for i, dataset in enumerate(datasets):\n",
    "    print(f'getting data for {split_types[i]}')\n",
    "    data = []\n",
    "    for county_id, state_id in dataset:\n",
    "        df_local = pd.read_csv(join(CountyDataset.COUNTY_DIR, f'{county_id}_zillow.csv'), dtype=np.float32, parse_dates=[0], na_values='.').ffill().bfill()\n",
    "        df_local = df_local.rename(columns={'Unnamed: 0': 'date'}).set_index('date')\n",
    "        df_local = df_local.drop(labels=COUNTY_DROP_COLS, axis=1)\n",
    "        for k, v in COUNTY_PCT_COLS.items():\n",
    "            df_local[v] = df_local[v].div(df_local[k], axis=0)\n",
    "        df_out = pd.merge(df_country, df_local, on='date', how='outer', suffixes=['_country', '_local']).ffill().bfill()\n",
    "        df_state = pd.read_csv(join(CountyDataset.STATE_DIR, f'{state_id}_zillow.csv'), dtype=np.float32, parse_dates=[0], na_values='.').ffill().bfill()\n",
    "        df_state = df_state.rename(columns={'Unnamed: 0': 'date'}).set_index('date')\n",
    "        df_state = df_state.drop(labels=STATE_DROP_COLS, axis=1)\n",
    "        df_out = pd.merge(df_out, df_state, on='date', how='outer').ffill().bfill()\n",
    "        idx_breaks = (df_out.index+np.timedelta64(T, 'M'))\n",
    "        idx_bounds = list(zip(df_out.index, idx_breaks))[:-Tfwd]\n",
    "        for lb, ub in idx_bounds:\n",
    "            df_window = df_out[(df_out.index >= lb) & (df_out.index <= ub)]\n",
    "            X = torch.tensor(df_window.loc[:, ~df_window.columns.isin(['Zillow Price Index'])].values[:Tback], dtype=torch.float)\n",
    "            Xlog = torch.tensor(df_window['Zillow Price Index'].values[:Tback], dtype=torch.float)\n",
    "            Y = torch.tensor(df_window['Zillow Price Index'].values[-Tfwd:], dtype=torch.float)\n",
    "            data.append((X, Xlog, Y))\n",
    "\n",
    "    if i == 0:\n",
    "        print('getting stats')\n",
    "        xstats, ystats = get_stats(data)\n",
    "    print(f'standardizing data for {split_types[i]}')\n",
    "    data_standard = []\n",
    "    for X, Xlog, Y in data:\n",
    "        x_standard = (X[:, :-1]-xstats[0][:-1])/xstats[1][:-1]\n",
    "        xlog = np.log(Xlog)\n",
    "        x_standard = np.concatenate((x_standard, xlog[:, None]), axis=1)\n",
    "        y_log = np.log(Y)\n",
    "        data_standard.append((x_standard, y_log))\n",
    "    print(f'saving {split_types[i]} data for {Tback} {Tfwd}')\n",
    "    target_file = open(f'data/output/{split_types[i]}_{Tback}_{Tfwd}.pickle', 'wb')\n",
    "    pickle.dump(data_standard, target_file)\n",
    "    target_file.close()"
   ]
  },
  {
   "cell_type": "code",
   "execution_count": 142,
   "metadata": {},
   "outputs": [],
   "source": [
    "xstats, ystats = get_stats(data)\n",
    "data_standard = []\n",
    "for X, Xlog, Y in data:\n",
    "    x_standard = (X[:, :-1]-xstats[0][:-1])/xstats[1][:-1]\n",
    "    xlog = np.log(Xlog)\n",
    "    x_standard = np.concatenate((x_standard, xlog[:, None]), axis=1)\n",
    "    y_log = np.log(Y)\n",
    "    data_standard.append((x_standard, y_log))\n",
    "target_file = open(f'data/output/val_{Tback}_{Tfwd}.pickle', 'wb')\n",
    "pickle.dump(data_standard, target_file)\n",
    "target_file.close()"
   ]
  },
  {
   "cell_type": "code",
   "execution_count": 154,
   "metadata": {},
   "outputs": [
    {
     "data": {
      "text/plain": [
       "tensor([11.1678, 11.1677, 11.1668, 11.1665, 11.1662, 11.1664])"
      ]
     },
     "execution_count": 154,
     "metadata": {},
     "output_type": "execute_result"
    }
   ],
   "source": []
  }
 ],
 "metadata": {
  "kernelspec": {
   "display_name": "Python 3",
   "language": "python",
   "name": "python3"
  },
  "language_info": {
   "codemirror_mode": {
    "name": "ipython",
    "version": 3
   },
   "file_extension": ".py",
   "mimetype": "text/x-python",
   "name": "python",
   "nbconvert_exporter": "python",
   "pygments_lexer": "ipython3",
   "version": "3.7.6"
  }
 },
 "nbformat": 4,
 "nbformat_minor": 4
}
